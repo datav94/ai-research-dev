{
 "cells": [
  {
   "cell_type": "markdown",
   "id": "3bbca8fa-e176-474a-ad2e-e51b188e648a",
   "metadata": {},
   "source": [
    "# __XGBoost__"
   ]
  },
  {
   "cell_type": "code",
   "execution_count": 1,
   "id": "9a998b5a-bc24-4721-8929-918af44464a2",
   "metadata": {},
   "outputs": [
    {
     "name": "stdout",
     "output_type": "stream",
     "text": [
      "^C\n"
     ]
    }
   ],
   "source": [
    "# !conda install -c conda-forge xgboost # run only once to install xgboost\n",
    "# pip install xgboost works better"
   ]
  },
  {
   "cell_type": "code",
   "execution_count": 2,
   "id": "df3c9a49-9df2-4d43-a40d-0bbc6f717fe7",
   "metadata": {},
   "outputs": [],
   "source": [
    "from xgboost import XGBClassifier"
   ]
  },
  {
   "cell_type": "code",
   "execution_count": 3,
   "id": "5b5274cf-f8af-4c3f-ab8e-1b4ab7c80ddc",
   "metadata": {},
   "outputs": [],
   "source": [
    "import pandas as pd"
   ]
  },
  {
   "cell_type": "code",
   "execution_count": 4,
   "id": "87a80ad8-80e2-43b9-9879-d949e3600d9c",
   "metadata": {},
   "outputs": [
    {
     "data": {
      "text/html": [
       "<div>\n",
       "<style scoped>\n",
       "    .dataframe tbody tr th:only-of-type {\n",
       "        vertical-align: middle;\n",
       "    }\n",
       "\n",
       "    .dataframe tbody tr th {\n",
       "        vertical-align: top;\n",
       "    }\n",
       "\n",
       "    .dataframe thead th {\n",
       "        text-align: right;\n",
       "    }\n",
       "</style>\n",
       "<table border=\"1\" class=\"dataframe\">\n",
       "  <thead>\n",
       "    <tr style=\"text-align: right;\">\n",
       "      <th></th>\n",
       "      <th>buying</th>\n",
       "      <th>maint</th>\n",
       "      <th>doors</th>\n",
       "      <th>persons</th>\n",
       "      <th>lug_boot</th>\n",
       "      <th>safety</th>\n",
       "      <th>outcome</th>\n",
       "    </tr>\n",
       "  </thead>\n",
       "  <tbody>\n",
       "    <tr>\n",
       "      <th>0</th>\n",
       "      <td>vhigh</td>\n",
       "      <td>vhigh</td>\n",
       "      <td>2</td>\n",
       "      <td>2</td>\n",
       "      <td>small</td>\n",
       "      <td>low</td>\n",
       "      <td>unacc</td>\n",
       "    </tr>\n",
       "    <tr>\n",
       "      <th>1</th>\n",
       "      <td>vhigh</td>\n",
       "      <td>vhigh</td>\n",
       "      <td>2</td>\n",
       "      <td>2</td>\n",
       "      <td>small</td>\n",
       "      <td>med</td>\n",
       "      <td>unacc</td>\n",
       "    </tr>\n",
       "    <tr>\n",
       "      <th>2</th>\n",
       "      <td>vhigh</td>\n",
       "      <td>vhigh</td>\n",
       "      <td>2</td>\n",
       "      <td>2</td>\n",
       "      <td>small</td>\n",
       "      <td>high</td>\n",
       "      <td>unacc</td>\n",
       "    </tr>\n",
       "    <tr>\n",
       "      <th>3</th>\n",
       "      <td>vhigh</td>\n",
       "      <td>vhigh</td>\n",
       "      <td>2</td>\n",
       "      <td>2</td>\n",
       "      <td>med</td>\n",
       "      <td>low</td>\n",
       "      <td>unacc</td>\n",
       "    </tr>\n",
       "    <tr>\n",
       "      <th>4</th>\n",
       "      <td>vhigh</td>\n",
       "      <td>vhigh</td>\n",
       "      <td>2</td>\n",
       "      <td>2</td>\n",
       "      <td>med</td>\n",
       "      <td>med</td>\n",
       "      <td>unacc</td>\n",
       "    </tr>\n",
       "  </tbody>\n",
       "</table>\n",
       "</div>"
      ],
      "text/plain": [
       "  buying  maint  doors  persons lug_boot safety outcome\n",
       "0  vhigh  vhigh      2        2    small    low   unacc\n",
       "1  vhigh  vhigh      2        2    small    med   unacc\n",
       "2  vhigh  vhigh      2        2    small   high   unacc\n",
       "3  vhigh  vhigh      2        2      med    low   unacc\n",
       "4  vhigh  vhigh      2        2      med    med   unacc"
      ]
     },
     "execution_count": 4,
     "metadata": {},
     "output_type": "execute_result"
    }
   ],
   "source": [
    "df = pd.read_csv('car_evaluation.csv')\n",
    "df.head()"
   ]
  },
  {
   "cell_type": "code",
   "execution_count": 11,
   "id": "41a1b817-dbe1-4ed5-8466-36827690937f",
   "metadata": {},
   "outputs": [
    {
     "name": "stdout",
     "output_type": "stream",
     "text": [
      "______buying______ \n",
      "vhigh    432\n",
      "low      432\n",
      "high     432\n",
      "med      432\n",
      "Name: buying, dtype: int64\n",
      "______maint______ \n",
      "vhigh    432\n",
      "low      432\n",
      "high     432\n",
      "med      432\n",
      "Name: maint, dtype: int64\n",
      "______doors______ \n",
      "2    432\n",
      "3    432\n",
      "4    432\n",
      "5    432\n",
      "Name: doors, dtype: int64\n",
      "______persons______ \n",
      "4    585\n",
      "2    576\n",
      "6    567\n",
      "Name: persons, dtype: int64\n",
      "______lug_boot______ \n",
      "med      576\n",
      "big      576\n",
      "small    576\n",
      "Name: lug_boot, dtype: int64\n",
      "______safety______ \n",
      "low     576\n",
      "high    576\n",
      "med     576\n",
      "Name: safety, dtype: int64\n",
      "______outcome______ \n",
      "unacc    1210\n",
      "acc       384\n",
      "good       69\n",
      "vgood      65\n",
      "Name: outcome, dtype: int64\n"
     ]
    }
   ],
   "source": [
    "for i in df:\n",
    "    print(f'______{i}______ \\r\\n{df[i].value_counts()}')"
   ]
  },
  {
   "cell_type": "code",
   "execution_count": 12,
   "id": "482793d9-1a65-4ca5-ad9b-c1cc65ceaf6e",
   "metadata": {},
   "outputs": [
    {
     "data": {
      "text/plain": [
       "(1210, 7)"
      ]
     },
     "execution_count": 12,
     "metadata": {},
     "output_type": "execute_result"
    }
   ],
   "source": [
    "df[df.outcome == 'unacc'].shape"
   ]
  },
  {
   "cell_type": "code",
   "execution_count": 13,
   "id": "78578bae-3c8b-4c1d-aab0-d19f06eb41c1",
   "metadata": {},
   "outputs": [],
   "source": [
    "X = df.iloc[:,:-1]\n",
    "y = df.outcome"
   ]
  },
  {
   "cell_type": "markdown",
   "id": "08b76a5b-0576-4bd8-b531-5de1a1525c75",
   "metadata": {},
   "source": [
    "# One hot encoding"
   ]
  },
  {
   "cell_type": "markdown",
   "id": "ead15a0c-16b4-4f6e-a24a-311ed8856e12",
   "metadata": {},
   "source": [
    "- Lets say we have a column gender that has 3 values M, F, O\n",
    "- One hot encoding converts gender column into 3 columns\n",
    "- wherever the data point is M the M column created by one hot encoder will be marked as 1 otherwise 0\n",
    "- similar thing will happen for all the other two columns\n",
    "- so our one column outputs 3 columns as it has 3 unique values which each output column containing 0 and 1 as data in it\n",
    "- the problem here is that if we have n unique values in a column then OneHotEncoder will return n columns for that one column so if n is large your dataset will have multiple features added which can be defined in one feature\n",
    "- for larger n (no of unique values in a column) it is better to use LabelEncoder\n",
    "- an advantage here is that if we get n columns from onehot encoder and if we remove one column then the data will not be lost as we can deduce from the n-1 column for the values in n+1th column that was removed"
   ]
  },
  {
   "cell_type": "code",
   "execution_count": 14,
   "id": "d6195f56-fbe6-48c7-b0d0-95a226177437",
   "metadata": {},
   "outputs": [],
   "source": [
    "from sklearn.preprocessing import OneHotEncoder"
   ]
  },
  {
   "cell_type": "code",
   "execution_count": 25,
   "id": "02460a84-17b4-47ff-8eed-c69b053fc32e",
   "metadata": {},
   "outputs": [],
   "source": [
    "X_one_hot = pd.get_dummies(X, drop_first=True)"
   ]
  },
  {
   "cell_type": "code",
   "execution_count": 26,
   "id": "4541913f-da7e-4205-b615-a5243038bf8c",
   "metadata": {},
   "outputs": [
    {
     "data": {
      "text/html": [
       "<div>\n",
       "<style scoped>\n",
       "    .dataframe tbody tr th:only-of-type {\n",
       "        vertical-align: middle;\n",
       "    }\n",
       "\n",
       "    .dataframe tbody tr th {\n",
       "        vertical-align: top;\n",
       "    }\n",
       "\n",
       "    .dataframe thead th {\n",
       "        text-align: right;\n",
       "    }\n",
       "</style>\n",
       "<table border=\"1\" class=\"dataframe\">\n",
       "  <thead>\n",
       "    <tr style=\"text-align: right;\">\n",
       "      <th></th>\n",
       "      <th>doors</th>\n",
       "      <th>persons</th>\n",
       "      <th>buying_low</th>\n",
       "      <th>buying_med</th>\n",
       "      <th>buying_vhigh</th>\n",
       "      <th>maint_low</th>\n",
       "      <th>maint_med</th>\n",
       "      <th>maint_vhigh</th>\n",
       "      <th>lug_boot_med</th>\n",
       "      <th>lug_boot_small</th>\n",
       "      <th>safety_low</th>\n",
       "      <th>safety_med</th>\n",
       "    </tr>\n",
       "  </thead>\n",
       "  <tbody>\n",
       "    <tr>\n",
       "      <th>0</th>\n",
       "      <td>2</td>\n",
       "      <td>2</td>\n",
       "      <td>0</td>\n",
       "      <td>0</td>\n",
       "      <td>1</td>\n",
       "      <td>0</td>\n",
       "      <td>0</td>\n",
       "      <td>1</td>\n",
       "      <td>0</td>\n",
       "      <td>1</td>\n",
       "      <td>1</td>\n",
       "      <td>0</td>\n",
       "    </tr>\n",
       "    <tr>\n",
       "      <th>1</th>\n",
       "      <td>2</td>\n",
       "      <td>2</td>\n",
       "      <td>0</td>\n",
       "      <td>0</td>\n",
       "      <td>1</td>\n",
       "      <td>0</td>\n",
       "      <td>0</td>\n",
       "      <td>1</td>\n",
       "      <td>0</td>\n",
       "      <td>1</td>\n",
       "      <td>0</td>\n",
       "      <td>1</td>\n",
       "    </tr>\n",
       "    <tr>\n",
       "      <th>2</th>\n",
       "      <td>2</td>\n",
       "      <td>2</td>\n",
       "      <td>0</td>\n",
       "      <td>0</td>\n",
       "      <td>1</td>\n",
       "      <td>0</td>\n",
       "      <td>0</td>\n",
       "      <td>1</td>\n",
       "      <td>0</td>\n",
       "      <td>1</td>\n",
       "      <td>0</td>\n",
       "      <td>0</td>\n",
       "    </tr>\n",
       "    <tr>\n",
       "      <th>3</th>\n",
       "      <td>2</td>\n",
       "      <td>2</td>\n",
       "      <td>0</td>\n",
       "      <td>0</td>\n",
       "      <td>1</td>\n",
       "      <td>0</td>\n",
       "      <td>0</td>\n",
       "      <td>1</td>\n",
       "      <td>1</td>\n",
       "      <td>0</td>\n",
       "      <td>1</td>\n",
       "      <td>0</td>\n",
       "    </tr>\n",
       "    <tr>\n",
       "      <th>4</th>\n",
       "      <td>2</td>\n",
       "      <td>2</td>\n",
       "      <td>0</td>\n",
       "      <td>0</td>\n",
       "      <td>1</td>\n",
       "      <td>0</td>\n",
       "      <td>0</td>\n",
       "      <td>1</td>\n",
       "      <td>1</td>\n",
       "      <td>0</td>\n",
       "      <td>0</td>\n",
       "      <td>1</td>\n",
       "    </tr>\n",
       "  </tbody>\n",
       "</table>\n",
       "</div>"
      ],
      "text/plain": [
       "   doors  persons  buying_low  ...  lug_boot_small  safety_low  safety_med\n",
       "0      2        2           0  ...               1           1           0\n",
       "1      2        2           0  ...               1           0           1\n",
       "2      2        2           0  ...               1           0           0\n",
       "3      2        2           0  ...               0           1           0\n",
       "4      2        2           0  ...               0           0           1\n",
       "\n",
       "[5 rows x 12 columns]"
      ]
     },
     "execution_count": 26,
     "metadata": {},
     "output_type": "execute_result"
    }
   ],
   "source": [
    "X_one_hot.head()"
   ]
  },
  {
   "cell_type": "code",
   "execution_count": 23,
   "id": "15c8eec8-9493-4e26-940c-777a1f83d2b9",
   "metadata": {},
   "outputs": [
    {
     "ename": "TypeError",
     "evalue": "fit() got an unexpected keyword argument 'sparse'",
     "output_type": "error",
     "traceback": [
      "\u001b[1;31m---------------------------------------------------------------------------\u001b[0m",
      "\u001b[1;31mTypeError\u001b[0m                                 Traceback (most recent call last)",
      "\u001b[1;32m<ipython-input-23-9226d2ea2f51>\u001b[0m in \u001b[0;36m<module>\u001b[1;34m\u001b[0m\n\u001b[0;32m      1\u001b[0m \u001b[0moe\u001b[0m \u001b[1;33m=\u001b[0m \u001b[0mOneHotEncoder\u001b[0m\u001b[1;33m(\u001b[0m\u001b[1;33m)\u001b[0m\u001b[1;33m\u001b[0m\u001b[1;33m\u001b[0m\u001b[0m\n\u001b[0;32m      2\u001b[0m \u001b[1;33m\u001b[0m\u001b[0m\n\u001b[1;32m----> 3\u001b[1;33m \u001b[0mX_1h\u001b[0m \u001b[1;33m=\u001b[0m \u001b[0moe\u001b[0m\u001b[1;33m.\u001b[0m\u001b[0mfit\u001b[0m\u001b[1;33m(\u001b[0m\u001b[0mX\u001b[0m\u001b[1;33m,\u001b[0m \u001b[0msparse\u001b[0m\u001b[1;33m=\u001b[0m\u001b[1;32mFalse\u001b[0m\u001b[1;33m)\u001b[0m\u001b[1;33m.\u001b[0m\u001b[0mtransform\u001b[0m\u001b[1;33m(\u001b[0m\u001b[1;33m)\u001b[0m\u001b[1;33m\u001b[0m\u001b[1;33m\u001b[0m\u001b[0m\n\u001b[0m",
      "\u001b[1;31mTypeError\u001b[0m: fit() got an unexpected keyword argument 'sparse'"
     ]
    }
   ],
   "source": [
    "oe = OneHotEncoder()\n",
    "\n",
    "X_1h = oe.fit_transform(X)"
   ]
  },
  {
   "cell_type": "code",
   "execution_count": 24,
   "id": "1f3787b4-c8e4-4c31-a7d9-7681f01eac17",
   "metadata": {},
   "outputs": [
    {
     "name": "stdout",
     "output_type": "stream",
     "text": [
      "  (0, 3)\t1.0\n",
      "  (0, 7)\t1.0\n",
      "  (0, 8)\t1.0\n",
      "  (0, 12)\t1.0\n",
      "  (0, 17)\t1.0\n",
      "  (0, 19)\t1.0\n",
      "  (1, 3)\t1.0\n",
      "  (1, 7)\t1.0\n",
      "  (1, 8)\t1.0\n",
      "  (1, 12)\t1.0\n",
      "  (1, 17)\t1.0\n",
      "  (1, 20)\t1.0\n",
      "  (2, 3)\t1.0\n",
      "  (2, 7)\t1.0\n",
      "  (2, 8)\t1.0\n",
      "  (2, 12)\t1.0\n",
      "  (2, 17)\t1.0\n",
      "  (2, 18)\t1.0\n",
      "  (3, 3)\t1.0\n",
      "  (3, 7)\t1.0\n",
      "  (3, 8)\t1.0\n",
      "  (3, 12)\t1.0\n",
      "  (3, 16)\t1.0\n",
      "  (3, 19)\t1.0\n",
      "  (4, 3)\t1.0\n",
      "  :\t:\n",
      "  (1723, 20)\t1.0\n",
      "  (1724, 1)\t1.0\n",
      "  (1724, 5)\t1.0\n",
      "  (1724, 11)\t1.0\n",
      "  (1724, 14)\t1.0\n",
      "  (1724, 16)\t1.0\n",
      "  (1724, 18)\t1.0\n",
      "  (1725, 1)\t1.0\n",
      "  (1725, 5)\t1.0\n",
      "  (1725, 11)\t1.0\n",
      "  (1725, 14)\t1.0\n",
      "  (1725, 15)\t1.0\n",
      "  (1725, 19)\t1.0\n",
      "  (1726, 1)\t1.0\n",
      "  (1726, 5)\t1.0\n",
      "  (1726, 11)\t1.0\n",
      "  (1726, 14)\t1.0\n",
      "  (1726, 15)\t1.0\n",
      "  (1726, 20)\t1.0\n",
      "  (1727, 1)\t1.0\n",
      "  (1727, 5)\t1.0\n",
      "  (1727, 11)\t1.0\n",
      "  (1727, 14)\t1.0\n",
      "  (1727, 15)\t1.0\n",
      "  (1727, 18)\t1.0\n"
     ]
    }
   ],
   "source": [
    "print(X_1h)"
   ]
  },
  {
   "cell_type": "code",
   "execution_count": 27,
   "id": "817ae70a-6f07-46b7-a04c-56c22842dec6",
   "metadata": {},
   "outputs": [
    {
     "data": {
      "text/plain": [
       "(1728, 12)"
      ]
     },
     "execution_count": 27,
     "metadata": {},
     "output_type": "execute_result"
    }
   ],
   "source": [
    "X_one_hot.shape"
   ]
  },
  {
   "cell_type": "code",
   "execution_count": 28,
   "id": "1f9a2006-b379-4af6-8d80-ac53f6bfe1d9",
   "metadata": {},
   "outputs": [],
   "source": [
    "# To remove nth column and keep n-1 columns to reduce number of features we can either use the drop method of pandas or\n",
    "# pd.get_dummies(X, drop_first=True) is a shorter path"
   ]
  },
  {
   "cell_type": "code",
   "execution_count": 30,
   "id": "f21dbb16-f178-4631-98bb-fdcbc0afea05",
   "metadata": {},
   "outputs": [],
   "source": [
    "from sklearn.model_selection import train_test_split\n",
    "\n",
    "X_train, X_test, y_train, y_test = train_test_split(X_one_hot,y, test_size=0.2, random_state=7)"
   ]
  },
  {
   "cell_type": "code",
   "execution_count": 40,
   "id": "ca1edc86-765b-4438-9b2b-f9f405aa20d1",
   "metadata": {},
   "outputs": [
    {
     "name": "stderr",
     "output_type": "stream",
     "text": [
      "C:\\ProgramData\\Anaconda3\\lib\\site-packages\\xgboost\\sklearn.py:1146: UserWarning: The use of label encoder in XGBClassifier is deprecated and will be removed in a future release. To remove this warning, do the following: 1) Pass option use_label_encoder=False when constructing XGBClassifier object; and 2) Encode your labels (y) as integers starting with 0, i.e. 0, 1, 2, ..., [num_class - 1].\n",
      "  warnings.warn(label_encoder_deprecation_msg, UserWarning)\n"
     ]
    },
    {
     "name": "stdout",
     "output_type": "stream",
     "text": [
      "[04:20:28] WARNING: C:/Users/Administrator/workspace/xgboost-win64_release_1.4.0/src/learner.cc:1095: Starting in XGBoost 1.3.0, the default evaluation metric used with the objective 'multi:softprob' was changed from 'merror' to 'mlogloss'. Explicitly set eval_metric if you'd like to restore the old behavior.\n"
     ]
    }
   ],
   "source": [
    "model = XGBClassifier(\n",
    "    random_state=47,\n",
    "    max_depth=5,\n",
    "    n_estimators=150\n",
    ")\n",
    "\n",
    "model.fit(X_train, y_train)\n",
    "\n",
    "y_predict_test = model.predict(X_test)\n",
    "y_predict_train = model.predict(X_train)"
   ]
  },
  {
   "cell_type": "code",
   "execution_count": 34,
   "id": "e0ff1f3e-9833-4f37-9147-100465a23bfd",
   "metadata": {},
   "outputs": [],
   "source": [
    "from sklearn.metrics import accuracy_score, classification_report"
   ]
  },
  {
   "cell_type": "code",
   "execution_count": 41,
   "id": "c0f31fa1-9067-45c6-8f94-9fa8340d4057",
   "metadata": {},
   "outputs": [
    {
     "name": "stdout",
     "output_type": "stream",
     "text": [
      "train:  1.0\n",
      "test:  0.9971098265895953\n"
     ]
    }
   ],
   "source": [
    "print('train: ', accuracy_score(y_train, y_predict_train))\n",
    "print('test: ', accuracy_score(y_test, y_predict_test))"
   ]
  },
  {
   "cell_type": "code",
   "execution_count": 42,
   "id": "a5a32a5f-d0a7-49e9-984f-697fcec11d1b",
   "metadata": {},
   "outputs": [
    {
     "name": "stdout",
     "output_type": "stream",
     "text": [
      "              precision    recall  f1-score   support\n",
      "\n",
      "         acc       1.00      1.00      1.00        77\n",
      "        good       0.89      1.00      0.94         8\n",
      "       unacc       1.00      1.00      1.00       246\n",
      "       vgood       1.00      0.93      0.97        15\n",
      "\n",
      "    accuracy                           1.00       346\n",
      "   macro avg       0.97      0.98      0.98       346\n",
      "weighted avg       1.00      1.00      1.00       346\n",
      "\n"
     ]
    }
   ],
   "source": [
    "print(classification_report(y_test, y_predict_test))"
   ]
  },
  {
   "cell_type": "code",
   "execution_count": 37,
   "id": "48b84815-f2e3-4f51-bd40-c153a846758b",
   "metadata": {},
   "outputs": [],
   "source": [
    "import seaborn as sns"
   ]
  },
  {
   "cell_type": "code",
   "execution_count": 43,
   "id": "820a04e5-fd40-4143-bfe8-147bfe9a8737",
   "metadata": {},
   "outputs": [
    {
     "data": {
      "text/plain": [
       "<AxesSubplot:xlabel='col_0', ylabel='outcome'>"
      ]
     },
     "execution_count": 43,
     "metadata": {},
     "output_type": "execute_result"
    },
    {
     "data": {
      "image/png": "[encoded data removed]",
      "text/plain": [
       "<Figure size 432x288 with 2 Axes>"
      ]
     },
     "metadata": {
      "needs_background": "light"
     },
     "output_type": "display_data"
    }
   ],
   "source": [
    "sns.heatmap(pd.crosstab(y_test, y_predict_test), annot=True)"
   ]
  },
  {
   "cell_type": "code",
   "execution_count": null,
   "id": "047c72bf-7448-42b5-ab4b-671189b76533",
   "metadata": {},
   "outputs": [],
   "source": []
  }
 ],
 "metadata": {
  "kernelspec": {
   "display_name": "Python 3",
   "language": "python",
   "name": "python3"
  },
  "language_info": {
   "codemirror_mode": {
    "name": "ipython",
    "version": 3
   },
   "file_extension": ".py",
   "mimetype": "text/x-python",
   "name": "python",
   "nbconvert_exporter": "python",
   "pygments_lexer": "ipython3",
   "version": "3.8.8"
  }
 },
 "nbformat": 4,
 "nbformat_minor": 5
}
