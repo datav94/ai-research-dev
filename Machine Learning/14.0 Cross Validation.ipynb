{
 "cells": [
  {
   "cell_type": "markdown",
   "id": "c29e9baf-5d85-412c-9476-31ae275d563f",
   "metadata": {},
   "source": [
    "# K Fold Validation (Cross Validation)"
   ]
  },
  {
   "cell_type": "markdown",
   "id": "e99519fb-b2c0-45e3-99e3-dd18db6efe51",
   "metadata": {},
   "source": [
    "- K / n / folds is the number of folds we need\n",
    "- for each fold accuracy result is calculated\n",
    "- then an arithmetic mean of those scores will be the accuracy score of the model\n",
    "- hence reliance on random_state is eradicated"
   ]
  },
  {
   "cell_type": "code",
   "execution_count": 1,
   "id": "bd1dfd5d-4fcd-4ae1-b318-d8baf3ea9107",
   "metadata": {},
   "outputs": [],
   "source": [
    "import pandas as pd\n",
    "\n",
    "df = pd.read_csv('mtcars.csv')"
   ]
  },
  {
   "cell_type": "code",
   "execution_count": 2,
   "id": "fec91c1c-792a-4e4e-91cb-97957f9ef5c1",
   "metadata": {},
   "outputs": [],
   "source": [
    "X = df.loc[:,['mpg','cyl','hp','wt']]\n",
    "y = df.am"
   ]
  },
  {
   "cell_type": "code",
   "execution_count": 6,
   "id": "e4490268-af68-46e9-96f1-f453e2eefe58",
   "metadata": {},
   "outputs": [],
   "source": [
    "from sklearn.model_selection import train_test_split\n",
    "\n",
    "X_train, X_test, y_train, y_test = train_test_split(X, y, test_size=0.2, random_state=16)"
   ]
  },
  {
   "cell_type": "code",
   "execution_count": 7,
   "id": "d437ac83-b049-453c-b226-e44014ec888a",
   "metadata": {},
   "outputs": [
    {
     "name": "stdout",
     "output_type": "stream",
     "text": [
      "accuracy score:  0.7142857142857143\n"
     ]
    }
   ],
   "source": [
    "from sklearn.linear_model import LogisticRegression\n",
    "from sklearn.metrics import accuracy_score\n",
    "\n",
    "model = LogisticRegression()\n",
    "\n",
    "model.fit(X_train, y_train)\n",
    "\n",
    "y_predict = model.predict(X_test)\n",
    "\n",
    "print('accuracy score: ', accuracy_score(y_test, y_predict))"
   ]
  },
  {
   "cell_type": "markdown",
   "id": "e8e0d670-d5e5-4269-8cd3-f3063ad26b5f",
   "metadata": {},
   "source": [
    "# Cross validation"
   ]
  },
  {
   "cell_type": "code",
   "execution_count": 12,
   "id": "dcc73d07-7daa-421d-b10c-c70ae9fff120",
   "metadata": {},
   "outputs": [],
   "source": [
    "from sklearn.model_selection import cross_val_score\n",
    "\n",
    "model = LogisticRegression()\n",
    "\n",
    "scores = cross_val_score(model, X, y, cv=4, scoring='accuracy')"
   ]
  },
  {
   "cell_type": "code",
   "execution_count": 13,
   "id": "2c6c2957-d1d3-4688-941c-5db46096ceeb",
   "metadata": {},
   "outputs": [
    {
     "data": {
      "text/plain": [
       "array([0.625, 0.75 , 1.   , 0.875])"
      ]
     },
     "execution_count": 13,
     "metadata": {},
     "output_type": "execute_result"
    }
   ],
   "source": [
    "scores"
   ]
  },
  {
   "cell_type": "code",
   "execution_count": 15,
   "id": "4bf7c6db-28e2-4975-98e5-be9473ccf024",
   "metadata": {},
   "outputs": [
    {
     "data": {
      "text/plain": [
       "1.0"
      ]
     },
     "execution_count": 15,
     "metadata": {},
     "output_type": "execute_result"
    }
   ],
   "source": [
    "max(scores)"
   ]
  },
  {
   "cell_type": "code",
   "execution_count": 14,
   "id": "8077fb2c-515a-4ac3-9a30-670be3c1b35c",
   "metadata": {},
   "outputs": [
    {
     "data": {
      "text/plain": [
       "0.8125"
      ]
     },
     "execution_count": 14,
     "metadata": {},
     "output_type": "execute_result"
    }
   ],
   "source": [
    "scores.mean()"
   ]
  },
  {
   "cell_type": "code",
   "execution_count": null,
   "id": "449eb04a-742d-4b0d-9ea5-cddf73cf2161",
   "metadata": {},
   "outputs": [],
   "source": []
  }
 ],
 "metadata": {
  "kernelspec": {
   "display_name": "Python 3",
   "language": "python",
   "name": "python3"
  },
  "language_info": {
   "codemirror_mode": {
    "name": "ipython",
    "version": 3
   },
   "file_extension": ".py",
   "mimetype": "text/x-python",
   "name": "python",
   "nbconvert_exporter": "python",
   "pygments_lexer": "ipython3",
   "version": "3.8.8"
  }
 },
 "nbformat": 4,
 "nbformat_minor": 5
}
