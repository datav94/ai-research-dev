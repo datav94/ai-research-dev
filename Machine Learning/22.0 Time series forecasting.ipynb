{
 "cells": [
  {
   "cell_type": "markdown",
   "id": "7fa5f10b-f58c-46a5-b120-4f1cc20fcd8a",
   "metadata": {},
   "source": [
    "# __Time Series forecasting__"
   ]
  },
  {
   "cell_type": "code",
   "execution_count": 1,
   "id": "8d5d5300-6e84-4918-8bd5-9f31ca10484d",
   "metadata": {},
   "outputs": [],
   "source": [
    "import pandas as pd"
   ]
  },
  {
   "cell_type": "code",
   "execution_count": 2,
   "id": "ddaf6954-a2c2-4575-b6c3-c2e44a6a0e94",
   "metadata": {},
   "outputs": [
    {
     "data": {
      "text/html": [
       "<div>\n",
       "<style scoped>\n",
       "    .dataframe tbody tr th:only-of-type {\n",
       "        vertical-align: middle;\n",
       "    }\n",
       "\n",
       "    .dataframe tbody tr th {\n",
       "        vertical-align: top;\n",
       "    }\n",
       "\n",
       "    .dataframe thead th {\n",
       "        text-align: right;\n",
       "    }\n",
       "</style>\n",
       "<table border=\"1\" class=\"dataframe\">\n",
       "  <thead>\n",
       "    <tr style=\"text-align: right;\">\n",
       "      <th></th>\n",
       "      <th>Month</th>\n",
       "      <th>Sales</th>\n",
       "    </tr>\n",
       "  </thead>\n",
       "  <tbody>\n",
       "    <tr>\n",
       "      <th>0</th>\n",
       "      <td>2016-01</td>\n",
       "      <td>266</td>\n",
       "    </tr>\n",
       "    <tr>\n",
       "      <th>1</th>\n",
       "      <td>2016-02</td>\n",
       "      <td>146</td>\n",
       "    </tr>\n",
       "    <tr>\n",
       "      <th>2</th>\n",
       "      <td>2016-03</td>\n",
       "      <td>183</td>\n",
       "    </tr>\n",
       "    <tr>\n",
       "      <th>3</th>\n",
       "      <td>2016-04</td>\n",
       "      <td>119</td>\n",
       "    </tr>\n",
       "    <tr>\n",
       "      <th>4</th>\n",
       "      <td>2016-05</td>\n",
       "      <td>180</td>\n",
       "    </tr>\n",
       "  </tbody>\n",
       "</table>\n",
       "</div>"
      ],
      "text/plain": [
       "     Month  Sales\n",
       "0  2016-01    266\n",
       "1  2016-02    146\n",
       "2  2016-03    183\n",
       "3  2016-04    119\n",
       "4  2016-05    180"
      ]
     },
     "execution_count": 2,
     "metadata": {},
     "output_type": "execute_result"
    }
   ],
   "source": [
    "df = pd.read_csv('sales-cars.csv')\n",
    "df.head()"
   ]
  },
  {
   "cell_type": "code",
   "execution_count": 3,
   "id": "670f45e0-e3bb-46c7-bdfa-08c59ec51e8d",
   "metadata": {},
   "outputs": [
    {
     "data": {
      "text/plain": [
       "str"
      ]
     },
     "execution_count": 3,
     "metadata": {},
     "output_type": "execute_result"
    }
   ],
   "source": [
    "type(df['Month'][0])"
   ]
  },
  {
   "cell_type": "code",
   "execution_count": 4,
   "id": "59d7f75a-ca57-4be5-84fa-49d82c2adaa7",
   "metadata": {},
   "outputs": [],
   "source": [
    "from datetime import datetime"
   ]
  },
  {
   "cell_type": "code",
   "execution_count": 14,
   "id": "2ee7fc7e-33f2-4662-ac0a-c3997d3deb96",
   "metadata": {},
   "outputs": [],
   "source": [
    "def dateparser(string):\n",
    "    return datetime.strptime(string, '%Y-%m')"
   ]
  },
  {
   "cell_type": "code",
   "execution_count": 16,
   "id": "3072fbc4-e886-40bc-afa7-8d07041eabb7",
   "metadata": {},
   "outputs": [
    {
     "data": {
      "text/html": [
       "<div>\n",
       "<style scoped>\n",
       "    .dataframe tbody tr th:only-of-type {\n",
       "        vertical-align: middle;\n",
       "    }\n",
       "\n",
       "    .dataframe tbody tr th {\n",
       "        vertical-align: top;\n",
       "    }\n",
       "\n",
       "    .dataframe thead th {\n",
       "        text-align: right;\n",
       "    }\n",
       "</style>\n",
       "<table border=\"1\" class=\"dataframe\">\n",
       "  <thead>\n",
       "    <tr style=\"text-align: right;\">\n",
       "      <th></th>\n",
       "      <th>Sales</th>\n",
       "    </tr>\n",
       "    <tr>\n",
       "      <th>Month</th>\n",
       "      <th></th>\n",
       "    </tr>\n",
       "  </thead>\n",
       "  <tbody>\n",
       "    <tr>\n",
       "      <th>2016-01-01</th>\n",
       "      <td>266</td>\n",
       "    </tr>\n",
       "    <tr>\n",
       "      <th>2016-02-01</th>\n",
       "      <td>146</td>\n",
       "    </tr>\n",
       "    <tr>\n",
       "      <th>2016-03-01</th>\n",
       "      <td>183</td>\n",
       "    </tr>\n",
       "    <tr>\n",
       "      <th>2016-04-01</th>\n",
       "      <td>119</td>\n",
       "    </tr>\n",
       "    <tr>\n",
       "      <th>2016-05-01</th>\n",
       "      <td>180</td>\n",
       "    </tr>\n",
       "  </tbody>\n",
       "</table>\n",
       "</div>"
      ],
      "text/plain": [
       "            Sales\n",
       "Month            \n",
       "2016-01-01    266\n",
       "2016-02-01    146\n",
       "2016-03-01    183\n",
       "2016-04-01    119\n",
       "2016-05-01    180"
      ]
     },
     "execution_count": 16,
     "metadata": {},
     "output_type": "execute_result"
    }
   ],
   "source": [
    "df = pd.read_csv('sales-cars.csv', parse_dates=[0], date_parser=dateparser, index_col=[0])\n",
    "df.head()"
   ]
  },
  {
   "cell_type": "code",
   "execution_count": 17,
   "id": "eab5b025-17e7-4341-bd02-20fc71fb9022",
   "metadata": {},
   "outputs": [
    {
     "data": {
      "text/html": [
       "<div>\n",
       "<style scoped>\n",
       "    .dataframe tbody tr th:only-of-type {\n",
       "        vertical-align: middle;\n",
       "    }\n",
       "\n",
       "    .dataframe tbody tr th {\n",
       "        vertical-align: top;\n",
       "    }\n",
       "\n",
       "    .dataframe thead th {\n",
       "        text-align: right;\n",
       "    }\n",
       "</style>\n",
       "<table border=\"1\" class=\"dataframe\">\n",
       "  <thead>\n",
       "    <tr style=\"text-align: right;\">\n",
       "      <th></th>\n",
       "      <th>Sales</th>\n",
       "    </tr>\n",
       "    <tr>\n",
       "      <th>Month</th>\n",
       "      <th></th>\n",
       "    </tr>\n",
       "  </thead>\n",
       "  <tbody>\n",
       "    <tr>\n",
       "      <th>2018-08-01</th>\n",
       "      <td>408</td>\n",
       "    </tr>\n",
       "    <tr>\n",
       "      <th>2018-09-01</th>\n",
       "      <td>490</td>\n",
       "    </tr>\n",
       "    <tr>\n",
       "      <th>2018-10-01</th>\n",
       "      <td>420</td>\n",
       "    </tr>\n",
       "    <tr>\n",
       "      <th>2018-11-01</th>\n",
       "      <td>520</td>\n",
       "    </tr>\n",
       "    <tr>\n",
       "      <th>2018-12-01</th>\n",
       "      <td>480</td>\n",
       "    </tr>\n",
       "  </tbody>\n",
       "</table>\n",
       "</div>"
      ],
      "text/plain": [
       "            Sales\n",
       "Month            \n",
       "2018-08-01    408\n",
       "2018-09-01    490\n",
       "2018-10-01    420\n",
       "2018-11-01    520\n",
       "2018-12-01    480"
      ]
     },
     "execution_count": 17,
     "metadata": {},
     "output_type": "execute_result"
    }
   ],
   "source": [
    "df.tail()"
   ]
  },
  {
   "cell_type": "markdown",
   "id": "9c181e2d-44cc-41a8-97a6-ef3894b99c2d",
   "metadata": {},
   "source": [
    "The above method is a more efficient method to convert strings to date time compared to using a for loop and going record by record"
   ]
  },
  {
   "cell_type": "code",
   "execution_count": 20,
   "id": "1de4e49c-9c17-41f6-97f2-c3180d4eeb90",
   "metadata": {},
   "outputs": [
    {
     "data": {
      "text/plain": [
       "<AxesSubplot:xlabel='Month'>"
      ]
     },
     "execution_count": 20,
     "metadata": {},
     "output_type": "execute_result"
    },
    {
     "data": {
      "image/png": "[encoded data removed]",
      "text/plain": [
       "<Figure size 432x288 with 1 Axes>"
      ]
     },
     "metadata": {
      "needs_background": "light"
     },
     "output_type": "display_data"
    }
   ],
   "source": [
    "df.plot()"
   ]
  },
  {
   "cell_type": "code",
   "execution_count": 21,
   "id": "8f806c8a-78e2-40d3-bb65-f567f27468b3",
   "metadata": {},
   "outputs": [],
   "source": [
    "from statsmodels.graphics.tsaplots import plot_acf"
   ]
  },
  {
   "cell_type": "code",
   "execution_count": 22,
   "id": "4a4f0be4-20a6-45f9-8af3-515b2a657425",
   "metadata": {},
   "outputs": [
    {
     "data": {
      "image/png": "[encoded data removed]",
      "text/plain": [
       "<Figure size 432x288 with 1 Axes>"
      ]
     },
     "execution_count": 22,
     "metadata": {},
     "output_type": "execute_result"
    },
    {
     "data": {
      "image/png": "[encoded data removed]",
      "text/plain": [
       "<Figure size 432x288 with 1 Axes>"
      ]
     },
     "metadata": {
      "needs_background": "light"
     },
     "output_type": "display_data"
    }
   ],
   "source": [
    "plot_acf(df)"
   ]
  },
  {
   "cell_type": "markdown",
   "id": "e1a984a0-70d6-4e54-9eaa-4200798664f8",
   "metadata": {},
   "source": [
    "### here we can see that the data is decreasing gradually which showcases that this data is clearly not stationary\n",
    "### to make this data stationary we shall use difference"
   ]
  },
  {
   "cell_type": "markdown",
   "id": "57d2585d-a147-40b0-a4f5-b0a605a76b22",
   "metadata": {},
   "source": [
    "# AR model"
   ]
  },
  {
   "cell_type": "code",
   "execution_count": 23,
   "id": "bd300a80-fbac-4cb0-8777-be386adba059",
   "metadata": {},
   "outputs": [
    {
     "data": {
      "text/html": [
       "<div>\n",
       "<style scoped>\n",
       "    .dataframe tbody tr th:only-of-type {\n",
       "        vertical-align: middle;\n",
       "    }\n",
       "\n",
       "    .dataframe tbody tr th {\n",
       "        vertical-align: top;\n",
       "    }\n",
       "\n",
       "    .dataframe thead th {\n",
       "        text-align: right;\n",
       "    }\n",
       "</style>\n",
       "<table border=\"1\" class=\"dataframe\">\n",
       "  <thead>\n",
       "    <tr style=\"text-align: right;\">\n",
       "      <th></th>\n",
       "      <th>Sales</th>\n",
       "    </tr>\n",
       "    <tr>\n",
       "      <th>Month</th>\n",
       "      <th></th>\n",
       "    </tr>\n",
       "  </thead>\n",
       "  <tbody>\n",
       "    <tr>\n",
       "      <th>2016-01-01</th>\n",
       "      <td>NaN</td>\n",
       "    </tr>\n",
       "    <tr>\n",
       "      <th>2016-02-01</th>\n",
       "      <td>-120.0</td>\n",
       "    </tr>\n",
       "    <tr>\n",
       "      <th>2016-03-01</th>\n",
       "      <td>37.0</td>\n",
       "    </tr>\n",
       "    <tr>\n",
       "      <th>2016-04-01</th>\n",
       "      <td>-64.0</td>\n",
       "    </tr>\n",
       "    <tr>\n",
       "      <th>2016-05-01</th>\n",
       "      <td>61.0</td>\n",
       "    </tr>\n",
       "  </tbody>\n",
       "</table>\n",
       "</div>"
      ],
      "text/plain": [
       "            Sales\n",
       "Month            \n",
       "2016-01-01    NaN\n",
       "2016-02-01 -120.0\n",
       "2016-03-01   37.0\n",
       "2016-04-01  -64.0\n",
       "2016-05-01   61.0"
      ]
     },
     "execution_count": 23,
     "metadata": {},
     "output_type": "execute_result"
    }
   ],
   "source": [
    "df_diff = df.diff(periods=1)\n",
    "df_diff.head()"
   ]
  },
  {
   "cell_type": "markdown",
   "id": "77eff058-7514-41c3-b7d2-0c311a3c8286",
   "metadata": {},
   "source": [
    "The first value is NaN as it has no value above it to get a difference"
   ]
  },
  {
   "cell_type": "code",
   "execution_count": 25,
   "id": "745c758f-9e24-45cf-831f-0bb276d13327",
   "metadata": {},
   "outputs": [
    {
     "data": {
      "text/html": [
       "<div>\n",
       "<style scoped>\n",
       "    .dataframe tbody tr th:only-of-type {\n",
       "        vertical-align: middle;\n",
       "    }\n",
       "\n",
       "    .dataframe tbody tr th {\n",
       "        vertical-align: top;\n",
       "    }\n",
       "\n",
       "    .dataframe thead th {\n",
       "        text-align: right;\n",
       "    }\n",
       "</style>\n",
       "<table border=\"1\" class=\"dataframe\">\n",
       "  <thead>\n",
       "    <tr style=\"text-align: right;\">\n",
       "      <th></th>\n",
       "      <th>Sales</th>\n",
       "    </tr>\n",
       "    <tr>\n",
       "      <th>Month</th>\n",
       "      <th></th>\n",
       "    </tr>\n",
       "  </thead>\n",
       "  <tbody>\n",
       "    <tr>\n",
       "      <th>2016-02-01</th>\n",
       "      <td>-120.0</td>\n",
       "    </tr>\n",
       "    <tr>\n",
       "      <th>2016-03-01</th>\n",
       "      <td>37.0</td>\n",
       "    </tr>\n",
       "    <tr>\n",
       "      <th>2016-04-01</th>\n",
       "      <td>-64.0</td>\n",
       "    </tr>\n",
       "    <tr>\n",
       "      <th>2016-05-01</th>\n",
       "      <td>61.0</td>\n",
       "    </tr>\n",
       "    <tr>\n",
       "      <th>2016-06-01</th>\n",
       "      <td>-11.0</td>\n",
       "    </tr>\n",
       "  </tbody>\n",
       "</table>\n",
       "</div>"
      ],
      "text/plain": [
       "            Sales\n",
       "Month            \n",
       "2016-02-01 -120.0\n",
       "2016-03-01   37.0\n",
       "2016-04-01  -64.0\n",
       "2016-05-01   61.0\n",
       "2016-06-01  -11.0"
      ]
     },
     "execution_count": 25,
     "metadata": {},
     "output_type": "execute_result"
    }
   ],
   "source": [
    "df_diff.dropna(inplace=True)\n",
    "df_diff.head()"
   ]
  },
  {
   "cell_type": "code",
   "execution_count": 26,
   "id": "fa610a8c-82a0-4327-91eb-1c9a25b65d97",
   "metadata": {},
   "outputs": [
    {
     "data": {
      "text/plain": [
       "<AxesSubplot:xlabel='Month'>"
      ]
     },
     "execution_count": 26,
     "metadata": {},
     "output_type": "execute_result"
    },
    {
     "data": {
      "image/png": "[encoded data removed]",
      "text/plain": [
       "<Figure size 432x288 with 1 Axes>"
      ]
     },
     "metadata": {
      "needs_background": "light"
     },
     "output_type": "display_data"
    }
   ],
   "source": [
    "df_diff.plot()"
   ]
  },
  {
   "cell_type": "markdown",
   "id": "edf6eaf5-45a7-4acf-9c63-116ebb0ffe92",
   "metadata": {},
   "source": [
    "# Now we can see that our data is more or less stationary as compared to previous data"
   ]
  },
  {
   "cell_type": "code",
   "execution_count": 27,
   "id": "46bb14f2-84ea-4ed6-b840-6686e355a15d",
   "metadata": {},
   "outputs": [
    {
     "data": {
      "image/png": "[encoded data removed]",
      "text/plain": [
       "<Figure size 432x288 with 1 Axes>"
      ]
     },
     "execution_count": 27,
     "metadata": {},
     "output_type": "execute_result"
    },
    {
     "data": {
      "image/png": "[encoded data removed]",
      "text/plain": [
       "<Figure size 432x288 with 1 Axes>"
      ]
     },
     "metadata": {
      "needs_background": "light"
     },
     "output_type": "display_data"
    }
   ],
   "source": [
    "plot_acf(df_diff)"
   ]
  },
  {
   "cell_type": "markdown",
   "id": "98aad44b-0572-4c0c-b803-c63f8035d67b",
   "metadata": {},
   "source": [
    "# if you check the autocorrelation plot then it does not have a gradual decrease but rather an abrupt decrease there by signifying that the data is now stationary"
   ]
  },
  {
   "cell_type": "markdown",
   "id": "06b2fc80-a1c5-4d99-8816-b26dd64d0779",
   "metadata": {},
   "source": [
    "### in time series we do not perform train test split randomly \n",
    "### because that would break the series of periodic data\n",
    "### so we manually split our data \n",
    "### since we need all of data in train and test has gotta be sequential"
   ]
  },
  {
   "cell_type": "code",
   "execution_count": 28,
   "id": "1486fe0b-17d6-4e24-80ba-5397894a6a46",
   "metadata": {},
   "outputs": [],
   "source": [
    "train = df_diff[:28]\n",
    "test = df_diff[28:]"
   ]
  },
  {
   "cell_type": "code",
   "execution_count": 29,
   "id": "bff7c9e2-52c4-40e0-b37e-dbf919187d14",
   "metadata": {},
   "outputs": [
    {
     "name": "stderr",
     "output_type": "stream",
     "text": [
      "C:\\ProgramData\\Anaconda3\\lib\\site-packages\\statsmodels\\tsa\\ar_model.py:791: FutureWarning: \n",
      "statsmodels.tsa.AR has been deprecated in favor of statsmodels.tsa.AutoReg and\n",
      "statsmodels.tsa.SARIMAX.\n",
      "\n",
      "AutoReg adds the ability to specify exogenous variables, include time trends,\n",
      "and add seasonal dummies. The AutoReg API differs from AR since the model is\n",
      "treated as immutable, and so the entire specification including the lag\n",
      "length must be specified when creating the model. This change is too\n",
      "substantial to incorporate into the existing AR api. The function\n",
      "ar_select_order performs lag length selection for AutoReg models.\n",
      "\n",
      "AutoReg only estimates parameters using conditional MLE (OLS). Use SARIMAX to\n",
      "estimate ARX and related models using full MLE via the Kalman Filter.\n",
      "\n",
      "To silence this warning and continue using AR until it is removed, use:\n",
      "\n",
      "import warnings\n",
      "warnings.filterwarnings('ignore', 'statsmodels.tsa.ar_model.AR', FutureWarning)\n",
      "\n",
      "  warnings.warn(AR_DEPRECATION_WARN, FutureWarning)\n",
      "C:\\ProgramData\\Anaconda3\\lib\\site-packages\\statsmodels\\tsa\\base\\tsa_model.py:524: ValueWarning: No frequency information was provided, so inferred frequency MS will be used.\n",
      "  warnings.warn('No frequency information was'\n"
     ]
    }
   ],
   "source": [
    "from statsmodels.tsa.ar_model import AR\n",
    "\n",
    "model_ar = AR(train)\n",
    "\n",
    "model_ar_fit = model_ar.fit()"
   ]
  },
  {
   "cell_type": "markdown",
   "id": "3119e585-939d-48d0-b005-c22010b48842",
   "metadata": {},
   "source": [
    "### statsmodel works a little differently then sklearn see the above implementation"
   ]
  },
  {
   "cell_type": "code",
   "execution_count": 30,
   "id": "05c0ef20-08fe-4f3d-8e45-ac7754eb2aa2",
   "metadata": {},
   "outputs": [],
   "source": [
    "pred = model_ar_fit.predict(start=28, end=35)"
   ]
  },
  {
   "cell_type": "code",
   "execution_count": 31,
   "id": "c73bbdf2-5527-4f23-9a5e-2328705db837",
   "metadata": {},
   "outputs": [],
   "source": [
    "import matplotlib.pyplot as plt"
   ]
  },
  {
   "cell_type": "code",
   "execution_count": 32,
   "id": "6b91f284-867e-42b9-a9a8-484c2ad2beb8",
   "metadata": {},
   "outputs": [
    {
     "data": {
      "text/plain": [
       "[<matplotlib.lines.Line2D at 0x1fde2310400>]"
      ]
     },
     "execution_count": 32,
     "metadata": {},
     "output_type": "execute_result"
    },
    {
     "data": {
      "image/png": "[encoded data removed]",
      "text/plain": [
       "<Figure size 432x288 with 1 Axes>"
      ]
     },
     "metadata": {
      "needs_background": "light"
     },
     "output_type": "display_data"
    }
   ],
   "source": [
    "plt.plot(test)\n",
    "plt.plot(pred)"
   ]
  },
  {
   "cell_type": "code",
   "execution_count": 55,
   "id": "deed1c6a-7c08-441e-a4e3-83ee8cf8a193",
   "metadata": {},
   "outputs": [
    {
     "data": {
      "text/plain": [
       "2468.9542204954487"
      ]
     },
     "execution_count": 55,
     "metadata": {},
     "output_type": "execute_result"
    }
   ],
   "source": [
    "from sklearn.metrics import mean_squared_error\n",
    "\n",
    "mean_squared_error(test, pred[0])"
   ]
  },
  {
   "cell_type": "code",
   "execution_count": 54,
   "id": "aef5a9b5-d733-4ff1-b028-d4f5865840ec",
   "metadata": {},
   "outputs": [
    {
     "data": {
      "text/plain": [
       "-0.11813040080745485"
      ]
     },
     "execution_count": 54,
     "metadata": {},
     "output_type": "execute_result"
    }
   ],
   "source": [
    "from sklearn.metrics import r2_score\n",
    "\n",
    "r2_score(test, pred[0])"
   ]
  },
  {
   "cell_type": "markdown",
   "id": "c8d29368-b9aa-4317-8dac-b16dfdeb4876",
   "metadata": {},
   "source": [
    "# ARIMA model"
   ]
  },
  {
   "cell_type": "code",
   "execution_count": 38,
   "id": "21f42bb3-5481-4432-af54-3f4b53645e59",
   "metadata": {},
   "outputs": [],
   "source": [
    "from statsmodels.tsa.arima_model import ARIMA"
   ]
  },
  {
   "cell_type": "code",
   "execution_count": 39,
   "id": "b1cbc948-be62-4b31-8098-250b385ec1ba",
   "metadata": {},
   "outputs": [],
   "source": [
    "train = df[:28]\n",
    "test = df[28:]"
   ]
  },
  {
   "cell_type": "code",
   "execution_count": 40,
   "id": "cf31527c-78f5-4ea5-87c0-ee7fb9d7f8fb",
   "metadata": {},
   "outputs": [
    {
     "data": {
      "text/plain": [
       "(36, 1)"
      ]
     },
     "execution_count": 40,
     "metadata": {},
     "output_type": "execute_result"
    }
   ],
   "source": [
    "df.shape"
   ]
  },
  {
   "cell_type": "code",
   "execution_count": 41,
   "id": "fc6db30d-6324-4886-a3c7-a22eedf9c959",
   "metadata": {},
   "outputs": [
    {
     "name": "stderr",
     "output_type": "stream",
     "text": [
      "C:\\ProgramData\\Anaconda3\\lib\\site-packages\\statsmodels\\tsa\\arima_model.py:472: FutureWarning: \n",
      "statsmodels.tsa.arima_model.ARMA and statsmodels.tsa.arima_model.ARIMA have\n",
      "been deprecated in favor of statsmodels.tsa.arima.model.ARIMA (note the .\n",
      "between arima and model) and\n",
      "statsmodels.tsa.SARIMAX. These will be removed after the 0.12 release.\n",
      "\n",
      "statsmodels.tsa.arima.model.ARIMA makes use of the statespace framework and\n",
      "is both well tested and maintained.\n",
      "\n",
      "To silence this warning and continue using ARMA and ARIMA until they are\n",
      "removed, use:\n",
      "\n",
      "import warnings\n",
      "warnings.filterwarnings('ignore', 'statsmodels.tsa.arima_model.ARMA',\n",
      "                        FutureWarning)\n",
      "warnings.filterwarnings('ignore', 'statsmodels.tsa.arima_model.ARIMA',\n",
      "                        FutureWarning)\n",
      "\n",
      "  warnings.warn(ARIMA_DEPRECATION_WARN, FutureWarning)\n",
      "C:\\ProgramData\\Anaconda3\\lib\\site-packages\\statsmodels\\tsa\\base\\tsa_model.py:524: ValueWarning: No frequency information was provided, so inferred frequency MS will be used.\n",
      "  warnings.warn('No frequency information was'\n",
      "C:\\ProgramData\\Anaconda3\\lib\\site-packages\\statsmodels\\tsa\\arima_model.py:472: FutureWarning: \n",
      "statsmodels.tsa.arima_model.ARMA and statsmodels.tsa.arima_model.ARIMA have\n",
      "been deprecated in favor of statsmodels.tsa.arima.model.ARIMA (note the .\n",
      "between arima and model) and\n",
      "statsmodels.tsa.SARIMAX. These will be removed after the 0.12 release.\n",
      "\n",
      "statsmodels.tsa.arima.model.ARIMA makes use of the statespace framework and\n",
      "is both well tested and maintained.\n",
      "\n",
      "To silence this warning and continue using ARMA and ARIMA until they are\n",
      "removed, use:\n",
      "\n",
      "import warnings\n",
      "warnings.filterwarnings('ignore', 'statsmodels.tsa.arima_model.ARMA',\n",
      "                        FutureWarning)\n",
      "warnings.filterwarnings('ignore', 'statsmodels.tsa.arima_model.ARIMA',\n",
      "                        FutureWarning)\n",
      "\n",
      "  warnings.warn(ARIMA_DEPRECATION_WARN, FutureWarning)\n"
     ]
    }
   ],
   "source": [
    "model_arima = ARIMA(train, order=(1, 1, 1)) # order=(p,d,q) -> order(autoregvalue, integrated diff, lag)\n",
    "\n",
    "model_arima_fit = model_arima.fit()"
   ]
  },
  {
   "cell_type": "code",
   "execution_count": 44,
   "id": "f006a7f6-ed3f-4d43-8b68-521287a4a7b9",
   "metadata": {},
   "outputs": [],
   "source": [
    "pred = model_arima_fit.forecast(steps=8)"
   ]
  },
  {
   "cell_type": "code",
   "execution_count": 48,
   "id": "da706597-e653-4b21-b41a-4013ace303b4",
   "metadata": {},
   "outputs": [
    {
     "data": {
      "text/plain": [
       "(array([371.4564308 , 412.27529031, 406.152285  , 420.36417527,\n",
       "        425.76712751, 434.9860516 , 442.55192272, 450.83388511]),\n",
       " array([59.78471604, 60.14758337, 64.09960602, 64.82971805, 66.564676  ,\n",
       "        67.7768048 , 69.16215898, 70.43593974]),\n",
       " array([[254.28054053, 488.63232106],\n",
       "        [294.38819315, 530.16238748],\n",
       "        [280.51936578, 531.78520421],\n",
       "        [293.30026276, 547.42808778],\n",
       "        [295.3027599 , 556.23149512],\n",
       "        [302.14595521, 567.82614799],\n",
       "        [306.99658203, 578.10726341],\n",
       "        [312.78198001, 588.88579022]]))"
      ]
     },
     "execution_count": 48,
     "metadata": {},
     "output_type": "execute_result"
    }
   ],
   "source": [
    "pred"
   ]
  },
  {
   "cell_type": "code",
   "execution_count": 52,
   "id": "72569624-4b62-4ffb-9ee4-584b8d5b8489",
   "metadata": {},
   "outputs": [
    {
     "data": {
      "text/plain": [
       "-0.11813040080745485"
      ]
     },
     "execution_count": 52,
     "metadata": {},
     "output_type": "execute_result"
    }
   ],
   "source": [
    "r2_score(test, pred[0])"
   ]
  },
  {
   "cell_type": "code",
   "execution_count": 50,
   "id": "a3db9ef0-6377-4db3-b18b-a67440351d46",
   "metadata": {},
   "outputs": [
    {
     "data": {
      "text/plain": [
       "306.85894261817134"
      ]
     },
     "execution_count": 50,
     "metadata": {},
     "output_type": "execute_result"
    }
   ],
   "source": [
    "model_arima_fit.aic"
   ]
  },
  {
   "cell_type": "code",
   "execution_count": 51,
   "id": "9a2c74fc-e62a-4a59-9850-d96bf0671ff6",
   "metadata": {},
   "outputs": [
    {
     "data": {
      "text/plain": [
       "2468.9542204954487"
      ]
     },
     "execution_count": 51,
     "metadata": {},
     "output_type": "execute_result"
    }
   ],
   "source": [
    "mean_squared_error(test, pred[0])"
   ]
  },
  {
   "cell_type": "code",
   "execution_count": 56,
   "id": "4b94a8ec-a069-4ae7-a35c-8bb08fb96e33",
   "metadata": {},
   "outputs": [
    {
     "data": {
      "text/plain": [
       "(8, 1)"
      ]
     },
     "execution_count": 56,
     "metadata": {},
     "output_type": "execute_result"
    }
   ],
   "source": [
    "test.shape"
   ]
  },
  {
   "cell_type": "code",
   "execution_count": 57,
   "id": "8d73fbae-6ddb-485a-abaf-2205d26d5568",
   "metadata": {},
   "outputs": [],
   "source": [
    "import numpy as np"
   ]
  },
  {
   "cell_type": "code",
   "execution_count": 59,
   "id": "2b6033d2-09d3-4a97-b253-1a84b8089888",
   "metadata": {},
   "outputs": [
    {
     "data": {
      "text/plain": [
       "[<matplotlib.lines.Line2D at 0x1fde3457df0>]"
      ]
     },
     "execution_count": 59,
     "metadata": {},
     "output_type": "execute_result"
    },
    {
     "data": {
      "image/png": "[encoded data removed]",
      "text/plain": [
       "<Figure size 432x288 with 1 Axes>"
      ]
     },
     "metadata": {
      "needs_background": "light"
     },
     "output_type": "display_data"
    }
   ],
   "source": [
    "plt.plot(np.arange(0,8), test.Sales)\n",
    "plt.plot(np.arange(0,8), pred[0])"
   ]
  },
  {
   "cell_type": "markdown",
   "id": "bdf14d56-1eea-4561-985d-7d90feec759e",
   "metadata": {},
   "source": [
    "## Typically one does not just guess the p, d and q value \n",
    "## now we need to automate that because we dont wanna use trial and error and make it labour intensive for no reason"
   ]
  },
  {
   "cell_type": "code",
   "execution_count": 60,
   "id": "5c3af0d5-bdd5-4ff6-b1b4-408a9569b19f",
   "metadata": {},
   "outputs": [
    {
     "data": {
      "text/plain": [
       "[(0, 0, 0),\n",
       " (0, 0, 1),\n",
       " (0, 0, 2),\n",
       " (0, 0, 3),\n",
       " (0, 0, 4),\n",
       " (0, 0, 5),\n",
       " (0, 1, 0),\n",
       " (0, 1, 1),\n",
       " (0, 1, 2),\n",
       " (0, 1, 3),\n",
       " (0, 1, 4),\n",
       " (0, 1, 5),\n",
       " (0, 2, 0),\n",
       " (0, 2, 1),\n",
       " (0, 2, 2),\n",
       " (0, 2, 3),\n",
       " (0, 2, 4),\n",
       " (0, 2, 5),\n",
       " (0, 3, 0),\n",
       " (0, 3, 1),\n",
       " (0, 3, 2),\n",
       " (0, 3, 3),\n",
       " (0, 3, 4),\n",
       " (0, 3, 5),\n",
       " (0, 4, 0),\n",
       " (0, 4, 1),\n",
       " (0, 4, 2),\n",
       " (0, 4, 3),\n",
       " (0, 4, 4),\n",
       " (0, 4, 5),\n",
       " (0, 5, 0),\n",
       " (0, 5, 1),\n",
       " (0, 5, 2),\n",
       " (0, 5, 3),\n",
       " (0, 5, 4),\n",
       " (0, 5, 5),\n",
       " (1, 0, 0),\n",
       " (1, 0, 1),\n",
       " (1, 0, 2),\n",
       " (1, 0, 3),\n",
       " (1, 0, 4),\n",
       " (1, 0, 5),\n",
       " (1, 1, 0),\n",
       " (1, 1, 1),\n",
       " (1, 1, 2),\n",
       " (1, 1, 3),\n",
       " (1, 1, 4),\n",
       " (1, 1, 5),\n",
       " (1, 2, 0),\n",
       " (1, 2, 1),\n",
       " (1, 2, 2),\n",
       " (1, 2, 3),\n",
       " (1, 2, 4),\n",
       " (1, 2, 5),\n",
       " (1, 3, 0),\n",
       " (1, 3, 1),\n",
       " (1, 3, 2),\n",
       " (1, 3, 3),\n",
       " (1, 3, 4),\n",
       " (1, 3, 5),\n",
       " (1, 4, 0),\n",
       " (1, 4, 1),\n",
       " (1, 4, 2),\n",
       " (1, 4, 3),\n",
       " (1, 4, 4),\n",
       " (1, 4, 5),\n",
       " (1, 5, 0),\n",
       " (1, 5, 1),\n",
       " (1, 5, 2),\n",
       " (1, 5, 3),\n",
       " (1, 5, 4),\n",
       " (1, 5, 5),\n",
       " (2, 0, 0),\n",
       " (2, 0, 1),\n",
       " (2, 0, 2),\n",
       " (2, 0, 3),\n",
       " (2, 0, 4),\n",
       " (2, 0, 5),\n",
       " (2, 1, 0),\n",
       " (2, 1, 1),\n",
       " (2, 1, 2),\n",
       " (2, 1, 3),\n",
       " (2, 1, 4),\n",
       " (2, 1, 5),\n",
       " (2, 2, 0),\n",
       " (2, 2, 1),\n",
       " (2, 2, 2),\n",
       " (2, 2, 3),\n",
       " (2, 2, 4),\n",
       " (2, 2, 5),\n",
       " (2, 3, 0),\n",
       " (2, 3, 1),\n",
       " (2, 3, 2),\n",
       " (2, 3, 3),\n",
       " (2, 3, 4),\n",
       " (2, 3, 5),\n",
       " (2, 4, 0),\n",
       " (2, 4, 1),\n",
       " (2, 4, 2),\n",
       " (2, 4, 3),\n",
       " (2, 4, 4),\n",
       " (2, 4, 5),\n",
       " (2, 5, 0),\n",
       " (2, 5, 1),\n",
       " (2, 5, 2),\n",
       " (2, 5, 3),\n",
       " (2, 5, 4),\n",
       " (2, 5, 5),\n",
       " (3, 0, 0),\n",
       " (3, 0, 1),\n",
       " (3, 0, 2),\n",
       " (3, 0, 3),\n",
       " (3, 0, 4),\n",
       " (3, 0, 5),\n",
       " (3, 1, 0),\n",
       " (3, 1, 1),\n",
       " (3, 1, 2),\n",
       " (3, 1, 3),\n",
       " (3, 1, 4),\n",
       " (3, 1, 5),\n",
       " (3, 2, 0),\n",
       " (3, 2, 1),\n",
       " (3, 2, 2),\n",
       " (3, 2, 3),\n",
       " (3, 2, 4),\n",
       " (3, 2, 5),\n",
       " (3, 3, 0),\n",
       " (3, 3, 1),\n",
       " (3, 3, 2),\n",
       " (3, 3, 3),\n",
       " (3, 3, 4),\n",
       " (3, 3, 5),\n",
       " (3, 4, 0),\n",
       " (3, 4, 1),\n",
       " (3, 4, 2),\n",
       " (3, 4, 3),\n",
       " (3, 4, 4),\n",
       " (3, 4, 5),\n",
       " (3, 5, 0),\n",
       " (3, 5, 1),\n",
       " (3, 5, 2),\n",
       " (3, 5, 3),\n",
       " (3, 5, 4),\n",
       " (3, 5, 5),\n",
       " (4, 0, 0),\n",
       " (4, 0, 1),\n",
       " (4, 0, 2),\n",
       " (4, 0, 3),\n",
       " (4, 0, 4),\n",
       " (4, 0, 5),\n",
       " (4, 1, 0),\n",
       " (4, 1, 1),\n",
       " (4, 1, 2),\n",
       " (4, 1, 3),\n",
       " (4, 1, 4),\n",
       " (4, 1, 5),\n",
       " (4, 2, 0),\n",
       " (4, 2, 1),\n",
       " (4, 2, 2),\n",
       " (4, 2, 3),\n",
       " (4, 2, 4),\n",
       " (4, 2, 5),\n",
       " (4, 3, 0),\n",
       " (4, 3, 1),\n",
       " (4, 3, 2),\n",
       " (4, 3, 3),\n",
       " (4, 3, 4),\n",
       " (4, 3, 5),\n",
       " (4, 4, 0),\n",
       " (4, 4, 1),\n",
       " (4, 4, 2),\n",
       " (4, 4, 3),\n",
       " (4, 4, 4),\n",
       " (4, 4, 5),\n",
       " (4, 5, 0),\n",
       " (4, 5, 1),\n",
       " (4, 5, 2),\n",
       " (4, 5, 3),\n",
       " (4, 5, 4),\n",
       " (4, 5, 5),\n",
       " (5, 0, 0),\n",
       " (5, 0, 1),\n",
       " (5, 0, 2),\n",
       " (5, 0, 3),\n",
       " (5, 0, 4),\n",
       " (5, 0, 5),\n",
       " (5, 1, 0),\n",
       " (5, 1, 1),\n",
       " (5, 1, 2),\n",
       " (5, 1, 3),\n",
       " (5, 1, 4),\n",
       " (5, 1, 5),\n",
       " (5, 2, 0),\n",
       " (5, 2, 1),\n",
       " (5, 2, 2),\n",
       " (5, 2, 3),\n",
       " (5, 2, 4),\n",
       " (5, 2, 5),\n",
       " (5, 3, 0),\n",
       " (5, 3, 1),\n",
       " (5, 3, 2),\n",
       " (5, 3, 3),\n",
       " (5, 3, 4),\n",
       " (5, 3, 5),\n",
       " (5, 4, 0),\n",
       " (5, 4, 1),\n",
       " (5, 4, 2),\n",
       " (5, 4, 3),\n",
       " (5, 4, 4),\n",
       " (5, 4, 5),\n",
       " (5, 5, 0),\n",
       " (5, 5, 1),\n",
       " (5, 5, 2),\n",
       " (5, 5, 3),\n",
       " (5, 5, 4),\n",
       " (5, 5, 5)]"
      ]
     },
     "execution_count": 60,
     "metadata": {},
     "output_type": "execute_result"
    }
   ],
   "source": [
    "import itertools\n",
    "\n",
    "p = range(0,6)\n",
    "d = range(0,6)\n",
    "q = range(0,6)\n",
    "\n",
    "pdq = list(itertools.product(p, d, q))\n",
    "pdq"
   ]
  },
  {
   "cell_type": "code",
   "execution_count": 61,
   "id": "6f284218-7664-48f5-999f-39ba896b4bb0",
   "metadata": {},
   "outputs": [
    {
     "name": "stderr",
     "output_type": "stream",
     "text": [
      "C:\\ProgramData\\Anaconda3\\lib\\site-packages\\statsmodels\\tsa\\arima_model.py:472: FutureWarning: \n",
      "statsmodels.tsa.arima_model.ARMA and statsmodels.tsa.arima_model.ARIMA have\n",
      "been deprecated in favor of statsmodels.tsa.arima.model.ARIMA (note the .\n",
      "between arima and model) and\n",
      "statsmodels.tsa.SARIMAX. These will be removed after the 0.12 release.\n",
      "\n",
      "statsmodels.tsa.arima.model.ARIMA makes use of the statespace framework and\n",
      "is both well tested and maintained.\n",
      "\n",
      "To silence this warning and continue using ARMA and ARIMA until they are\n",
      "removed, use:\n",
      "\n",
      "import warnings\n",
      "warnings.filterwarnings('ignore', 'statsmodels.tsa.arima_model.ARMA',\n",
      "                        FutureWarning)\n",
      "warnings.filterwarnings('ignore', 'statsmodels.tsa.arima_model.ARIMA',\n",
      "                        FutureWarning)\n",
      "\n",
      "  warnings.warn(ARIMA_DEPRECATION_WARN, FutureWarning)\n",
      "C:\\ProgramData\\Anaconda3\\lib\\site-packages\\statsmodels\\tsa\\base\\tsa_model.py:524: ValueWarning: No frequency information was provided, so inferred frequency MS will be used.\n",
      "  warnings.warn('No frequency information was'\n"
     ]
    },
    {
     "name": "stdout",
     "output_type": "stream",
     "text": [
      "335.08327681905075\n",
      "334.36881258466883\n",
      "329.3343588225476\n",
      "330.93461778338576\n"
     ]
    },
    {
     "name": "stderr",
     "output_type": "stream",
     "text": [
      "C:\\ProgramData\\Anaconda3\\lib\\site-packages\\statsmodels\\tsa\\tsatools.py:728: RuntimeWarning: invalid value encountered in log\n",
      "  invmacoefs = -np.log((1-macoefs)/(1+macoefs))\n",
      "C:\\ProgramData\\Anaconda3\\lib\\site-packages\\statsmodels\\tsa\\tsatools.py:701: RuntimeWarning: invalid value encountered in true_divide\n",
      "  newparams = ((1-np.exp(-params))/(1+np.exp(-params))).copy()\n",
      "C:\\ProgramData\\Anaconda3\\lib\\site-packages\\statsmodels\\tsa\\tsatools.py:702: RuntimeWarning: invalid value encountered in true_divide\n",
      "  tmp = ((1-np.exp(-params))/(1+np.exp(-params))).copy()\n",
      "C:\\ProgramData\\Anaconda3\\lib\\site-packages\\statsmodels\\tsa\\kalmanf\\kalmanfilter.py:222: RuntimeWarning: invalid value encountered in log\n",
      "  loglike, sigma2 = kalman_loglike.kalman_loglike_complex(\n",
      "C:\\ProgramData\\Anaconda3\\lib\\site-packages\\statsmodels\\tsa\\kalmanf\\kalmanfilter.py:222: RuntimeWarning: invalid value encountered in true_divide\n",
      "  loglike, sigma2 = kalman_loglike.kalman_loglike_complex(\n",
      "C:\\ProgramData\\Anaconda3\\lib\\site-packages\\statsmodels\\base\\model.py:547: HessianInversionWarning: Inverting hessian failed, no bse or cov_params available\n",
      "  warnings.warn('Inverting hessian failed, no bse or cov_params '\n",
      "C:\\ProgramData\\Anaconda3\\lib\\site-packages\\statsmodels\\base\\model.py:566: ConvergenceWarning: Maximum Likelihood optimization failed to converge. Check mle_retvals\n",
      "  warnings.warn(\"Maximum Likelihood optimization failed to \"\n"
     ]
    },
    {
     "name": "stdout",
     "output_type": "stream",
     "text": [
      "325.01231715110697\n",
      "324.39820432750815\n",
      "308.00821923897456\n",
      "306.8574915861368\n",
      "308.85219774078087\n",
      "309.9156877851472\n",
      "308.6252777362763\n",
      "343.4127008785868\n",
      "318.2411236635377\n",
      "300.55770808177886\n",
      "303.1374589327437\n"
     ]
    },
    {
     "ename": "ValueError",
     "evalue": "The computed initial MA coefficients are not invertible\nYou should induce invertibility, choose a different model order, or you can\npass your own start_params.",
     "output_type": "error",
     "traceback": [
      "\u001b[1;31m---------------------------------------------------------------------------\u001b[0m",
      "\u001b[1;31mValueError\u001b[0m                                Traceback (most recent call last)",
      "\u001b[1;32m<ipython-input-61-fe3ec5bcea42>\u001b[0m in \u001b[0;36m<module>\u001b[1;34m\u001b[0m\n\u001b[0;32m      4\u001b[0m \u001b[1;32mfor\u001b[0m \u001b[0mcomb\u001b[0m \u001b[1;32min\u001b[0m \u001b[0mpdq\u001b[0m\u001b[1;33m:\u001b[0m\u001b[1;33m\u001b[0m\u001b[1;33m\u001b[0m\u001b[0m\n\u001b[0;32m      5\u001b[0m     \u001b[0mmodel_arima\u001b[0m \u001b[1;33m=\u001b[0m \u001b[0mARIMA\u001b[0m\u001b[1;33m(\u001b[0m\u001b[0mtrain\u001b[0m\u001b[1;33m,\u001b[0m \u001b[0morder\u001b[0m\u001b[1;33m=\u001b[0m\u001b[0mcomb\u001b[0m\u001b[1;33m)\u001b[0m\u001b[1;33m\u001b[0m\u001b[1;33m\u001b[0m\u001b[0m\n\u001b[1;32m----> 6\u001b[1;33m     \u001b[0mmodel_arima_fit\u001b[0m \u001b[1;33m=\u001b[0m \u001b[0mmodel_arima\u001b[0m\u001b[1;33m.\u001b[0m\u001b[0mfit\u001b[0m\u001b[1;33m(\u001b[0m\u001b[1;33m)\u001b[0m\u001b[1;33m\u001b[0m\u001b[1;33m\u001b[0m\u001b[0m\n\u001b[0m\u001b[0;32m      7\u001b[0m     \u001b[1;32mif\u001b[0m \u001b[0mmodel_arima_fit\u001b[0m\u001b[1;33m.\u001b[0m\u001b[0maic\u001b[0m \u001b[1;33m<\u001b[0m \u001b[0mmin_aic\u001b[0m\u001b[1;33m:\u001b[0m\u001b[1;33m\u001b[0m\u001b[1;33m\u001b[0m\u001b[0m\n\u001b[0;32m      8\u001b[0m         \u001b[0mbest_comb\u001b[0m \u001b[1;33m=\u001b[0m \u001b[0mcomb\u001b[0m\u001b[1;33m\u001b[0m\u001b[1;33m\u001b[0m\u001b[0m\n",
      "\u001b[1;32mC:\\ProgramData\\Anaconda3\\lib\\site-packages\\statsmodels\\tsa\\arima_model.py\u001b[0m in \u001b[0;36mfit\u001b[1;34m(self, start_params, trend, method, transparams, solver, maxiter, full_output, disp, callback, start_ar_lags, **kwargs)\u001b[0m\n\u001b[0;32m   1226\u001b[0m         r, order = 'F')\n\u001b[0;32m   1227\u001b[0m         \"\"\"\n\u001b[1;32m-> 1228\u001b[1;33m         mlefit = super(ARIMA, self).fit(start_params, trend,\n\u001b[0m\u001b[0;32m   1229\u001b[0m                                         \u001b[0mmethod\u001b[0m\u001b[1;33m,\u001b[0m \u001b[0mtransparams\u001b[0m\u001b[1;33m,\u001b[0m \u001b[0msolver\u001b[0m\u001b[1;33m,\u001b[0m\u001b[1;33m\u001b[0m\u001b[1;33m\u001b[0m\u001b[0m\n\u001b[0;32m   1230\u001b[0m                                         \u001b[0mmaxiter\u001b[0m\u001b[1;33m,\u001b[0m \u001b[0mfull_output\u001b[0m\u001b[1;33m,\u001b[0m \u001b[0mdisp\u001b[0m\u001b[1;33m,\u001b[0m\u001b[1;33m\u001b[0m\u001b[1;33m\u001b[0m\u001b[0m\n",
      "\u001b[1;32mC:\\ProgramData\\Anaconda3\\lib\\site-packages\\statsmodels\\tsa\\arima_model.py\u001b[0m in \u001b[0;36mfit\u001b[1;34m(self, start_params, trend, method, transparams, solver, maxiter, full_output, disp, callback, start_ar_lags, **kwargs)\u001b[0m\n\u001b[0;32m   1014\u001b[0m             \u001b[0mstart_params\u001b[0m \u001b[1;33m=\u001b[0m \u001b[0marray_like\u001b[0m\u001b[1;33m(\u001b[0m\u001b[0mstart_params\u001b[0m\u001b[1;33m,\u001b[0m \u001b[1;34m'start_params'\u001b[0m\u001b[1;33m)\u001b[0m\u001b[1;33m\u001b[0m\u001b[1;33m\u001b[0m\u001b[0m\n\u001b[0;32m   1015\u001b[0m         \u001b[1;32melse\u001b[0m\u001b[1;33m:\u001b[0m  \u001b[1;31m# estimate starting parameters\u001b[0m\u001b[1;33m\u001b[0m\u001b[1;33m\u001b[0m\u001b[0m\n\u001b[1;32m-> 1016\u001b[1;33m             start_params = self._fit_start_params((k_ar, k_ma, k), method,\n\u001b[0m\u001b[0;32m   1017\u001b[0m                                                   start_ar_lags)\n\u001b[0;32m   1018\u001b[0m \u001b[1;33m\u001b[0m\u001b[0m\n",
      "\u001b[1;32mC:\\ProgramData\\Anaconda3\\lib\\site-packages\\statsmodels\\tsa\\arima_model.py\u001b[0m in \u001b[0;36m_fit_start_params\u001b[1;34m(self, order, method, start_ar_lags)\u001b[0m\n\u001b[0;32m    606\u001b[0m                 \u001b[1;32mreturn\u001b[0m \u001b[1;33m-\u001b[0m\u001b[0mself\u001b[0m\u001b[1;33m.\u001b[0m\u001b[0mloglike_css\u001b[0m\u001b[1;33m(\u001b[0m\u001b[0mparams\u001b[0m\u001b[1;33m)\u001b[0m\u001b[1;33m\u001b[0m\u001b[1;33m\u001b[0m\u001b[0m\n\u001b[0;32m    607\u001b[0m \u001b[1;33m\u001b[0m\u001b[0m\n\u001b[1;32m--> 608\u001b[1;33m             \u001b[0mstart_params\u001b[0m \u001b[1;33m=\u001b[0m \u001b[0mself\u001b[0m\u001b[1;33m.\u001b[0m\u001b[0m_fit_start_params_hr\u001b[0m\u001b[1;33m(\u001b[0m\u001b[0morder\u001b[0m\u001b[1;33m,\u001b[0m \u001b[0mstart_ar_lags\u001b[0m\u001b[1;33m)\u001b[0m\u001b[1;33m\u001b[0m\u001b[1;33m\u001b[0m\u001b[0m\n\u001b[0m\u001b[0;32m    609\u001b[0m             \u001b[1;32mif\u001b[0m \u001b[0mself\u001b[0m\u001b[1;33m.\u001b[0m\u001b[0mtransparams\u001b[0m\u001b[1;33m:\u001b[0m\u001b[1;33m\u001b[0m\u001b[1;33m\u001b[0m\u001b[0m\n\u001b[0;32m    610\u001b[0m                 \u001b[0mstart_params\u001b[0m \u001b[1;33m=\u001b[0m \u001b[0mself\u001b[0m\u001b[1;33m.\u001b[0m\u001b[0m_invtransparams\u001b[0m\u001b[1;33m(\u001b[0m\u001b[0mstart_params\u001b[0m\u001b[1;33m)\u001b[0m\u001b[1;33m\u001b[0m\u001b[1;33m\u001b[0m\u001b[0m\n",
      "\u001b[1;32mC:\\ProgramData\\Anaconda3\\lib\\site-packages\\statsmodels\\tsa\\arima_model.py\u001b[0m in \u001b[0;36m_fit_start_params_hr\u001b[1;34m(self, order, start_ar_lags)\u001b[0m\n\u001b[0;32m    591\u001b[0m         elif q and not np.all(np.abs(np.roots(np.r_[1, start_params[k + p:]]\n\u001b[0;32m    592\u001b[0m                                               )) < 1):\n\u001b[1;32m--> 593\u001b[1;33m             raise ValueError(\"The computed initial MA coefficients are not \"\n\u001b[0m\u001b[0;32m    594\u001b[0m                              \u001b[1;34m\"invertible\\nYou should induce invertibility, \"\u001b[0m\u001b[1;33m\u001b[0m\u001b[1;33m\u001b[0m\u001b[0m\n\u001b[0;32m    595\u001b[0m                              \u001b[1;34m\"choose a different model order, or you can\\n\"\u001b[0m\u001b[1;33m\u001b[0m\u001b[1;33m\u001b[0m\u001b[0m\n",
      "\u001b[1;31mValueError\u001b[0m: The computed initial MA coefficients are not invertible\nYou should induce invertibility, choose a different model order, or you can\npass your own start_params."
     ]
    }
   ],
   "source": [
    "min_aic = 10000000\n",
    "best_comb = ()\n",
    "\n",
    "for comb in pdq:\n",
    "    model_arima = ARIMA(train, order=comb)\n",
    "    model_arima_fit = model_arima.fit()\n",
    "    if model_arima_fit.aic < min_aic:\n",
    "        best_comb = comb\n",
    "        print(model_arima_fit.aic)"
   ]
  },
  {
   "cell_type": "markdown",
   "id": "9597111e-f18a-4346-a163-2f7137e27c56",
   "metadata": {},
   "source": [
    "## this may throw error as well so gotta use exception handling"
   ]
  },
  {
   "cell_type": "code",
   "execution_count": 62,
   "id": "c4411fa4-9984-4bb8-be65-eaa5e244a426",
   "metadata": {
    "scrolled": true,
    "tags": []
   },
   "outputs": [
    {
     "name": "stdout",
     "output_type": "stream",
     "text": [
      "335.08327681905075\n",
      "334.36881258466883\n",
      "329.3343588225476\n",
      "330.93461778338576\n",
      "325.01231715110697\n",
      "324.39820432750815\n",
      "308.00821923897456\n",
      "306.8574915861368\n",
      "308.85219774078087\n",
      "309.9156877851472\n",
      "308.6252777362763\n",
      "343.4127008785868\n",
      "318.2411236635377\n",
      "300.55770808177886\n",
      "303.1374589327437\n",
      "Got error at combination:  (0, 2, 4)\n",
      "Got error at combination:  (0, 2, 5)\n",
      "Got error at combination:  (0, 3, 0)\n",
      "Got error at combination:  (0, 3, 1)\n",
      "Got error at combination:  (0, 3, 2)\n",
      "Got error at combination:  (0, 3, 3)\n",
      "Got error at combination:  (0, 3, 4)\n",
      "Got error at combination:  (0, 3, 5)\n",
      "Got error at combination:  (0, 4, 0)\n",
      "Got error at combination:  (0, 4, 1)\n",
      "Got error at combination:  (0, 4, 2)\n",
      "Got error at combination:  (0, 4, 3)\n",
      "Got error at combination:  (0, 4, 4)\n",
      "Got error at combination:  (0, 4, 5)\n",
      "Got error at combination:  (0, 5, 0)\n",
      "Got error at combination:  (0, 5, 1)\n",
      "Got error at combination:  (0, 5, 2)\n",
      "Got error at combination:  (0, 5, 3)\n",
      "Got error at combination:  (0, 5, 4)\n",
      "Got error at combination:  (0, 5, 5)\n",
      "330.86896241237287\n",
      "325.63677173707356\n",
      "322.55501614494176\n",
      "Got error at combination:  (1, 0, 3)\n",
      "324.3161649504045\n",
      "Got error at combination:  (1, 0, 5)\n",
      "309.18956335862924\n",
      "306.85894261817134\n",
      "306.9919932366179\n",
      "311.9621060462448\n",
      "309.25661893435307\n",
      "314.85287960753726\n",
      "317.87726394170414\n",
      "304.36105633243113\n",
      "Got error at combination:  (1, 2, 2)\n",
      "Got error at combination:  (1, 2, 3)\n",
      "Got error at combination:  (1, 2, 4)\n",
      "Got error at combination:  (1, 2, 5)\n",
      "Got error at combination:  (1, 3, 0)\n",
      "Got error at combination:  (1, 3, 1)\n",
      "Got error at combination:  (1, 3, 2)\n",
      "Got error at combination:  (1, 3, 3)\n",
      "Got error at combination:  (1, 3, 4)\n",
      "Got error at combination:  (1, 3, 5)\n",
      "Got error at combination:  (1, 4, 0)\n",
      "Got error at combination:  (1, 4, 1)\n",
      "Got error at combination:  (1, 4, 2)\n",
      "Got error at combination:  (1, 4, 3)\n",
      "Got error at combination:  (1, 4, 4)\n",
      "Got error at combination:  (1, 4, 5)\n",
      "Got error at combination:  (1, 5, 0)\n",
      "Got error at combination:  (1, 5, 1)\n",
      "Got error at combination:  (1, 5, 2)\n",
      "Got error at combination:  (1, 5, 3)\n",
      "Got error at combination:  (1, 5, 4)\n",
      "Got error at combination:  (1, 5, 5)\n",
      "322.1492873122696\n",
      "323.7417256949743\n",
      "Got error at combination:  (2, 0, 2)\n",
      "Got error at combination:  (2, 0, 3)\n",
      "Got error at combination:  (2, 0, 4)\n",
      "Got error at combination:  (2, 0, 5)\n",
      "310.54360833041903\n",
      "308.7289296304591\n",
      "Got error at combination:  (2, 1, 2)\n",
      "Got error at combination:  (2, 1, 3)\n",
      "311.3291656457361\n",
      "309.36515585100926\n",
      "317.2961561142824\n",
      "305.7736241078443\n",
      "Got error at combination:  (2, 2, 2)\n",
      "Got error at combination:  (2, 2, 3)\n",
      "Got error at combination:  (2, 2, 4)\n",
      "Got error at combination:  (2, 2, 5)\n",
      "Got error at combination:  (2, 3, 0)\n",
      "Got error at combination:  (2, 3, 1)\n",
      "Got error at combination:  (2, 3, 2)\n",
      "Got error at combination:  (2, 3, 3)\n",
      "Got error at combination:  (2, 3, 4)\n",
      "Got error at combination:  (2, 3, 5)\n",
      "Got error at combination:  (2, 4, 0)\n",
      "Got error at combination:  (2, 4, 1)\n",
      "Got error at combination:  (2, 4, 2)\n",
      "Got error at combination:  (2, 4, 3)\n",
      "Got error at combination:  (2, 4, 4)\n",
      "Got error at combination:  (2, 4, 5)\n",
      "Got error at combination:  (2, 5, 0)\n",
      "Got error at combination:  (2, 5, 1)\n",
      "Got error at combination:  (2, 5, 2)\n",
      "Got error at combination:  (2, 5, 3)\n",
      "Got error at combination:  (2, 5, 4)\n",
      "Got error at combination:  (2, 5, 5)\n",
      "324.1106082507217\n",
      "350.4238559615768\n",
      "Got error at combination:  (3, 0, 2)\n",
      "Got error at combination:  (3, 0, 3)\n",
      "Got error at combination:  (3, 0, 4)\n",
      "Got error at combination:  (3, 0, 5)\n",
      "305.3298372237032\n",
      "306.59572370179467\n",
      "303.5404472706\n",
      "305.35170903213657\n",
      "307.14753639576986\n",
      "Got error at combination:  (3, 1, 5)\n",
      "309.8732180733845\n",
      "300.25385509396904\n",
      "303.82420325904434\n",
      "298.9622496255686\n",
      "300.8621706227753\n",
      "Got error at combination:  (3, 2, 5)\n",
      "Got error at combination:  (3, 3, 0)\n",
      "Got error at combination:  (3, 3, 1)\n",
      "Got error at combination:  (3, 3, 2)\n",
      "Got error at combination:  (3, 3, 3)\n",
      "Got error at combination:  (3, 3, 4)\n",
      "Got error at combination:  (3, 3, 5)\n",
      "Got error at combination:  (3, 4, 0)\n",
      "Got error at combination:  (3, 4, 1)\n",
      "Got error at combination:  (3, 4, 2)\n",
      "Got error at combination:  (3, 4, 3)\n",
      "Got error at combination:  (3, 4, 4)\n",
      "Got error at combination:  (3, 4, 5)\n",
      "Got error at combination:  (3, 5, 0)\n",
      "Got error at combination:  (3, 5, 1)\n",
      "Got error at combination:  (3, 5, 2)\n",
      "Got error at combination:  (3, 5, 3)\n",
      "Got error at combination:  (3, 5, 4)\n",
      "Got error at combination:  (3, 5, 5)\n",
      "330.5643528553941\n",
      "333.56102352867515\n",
      "Got error at combination:  (4, 0, 2)\n",
      "Got error at combination:  (4, 0, 3)\n",
      "Got error at combination:  (4, 0, 4)\n",
      "Got error at combination:  (4, 0, 5)\n",
      "306.6564376330182\n",
      "308.5688139344214\n",
      "305.43060972183594\n",
      "307.34344467315077\n",
      "Got error at combination:  (4, 1, 4)\n",
      "Got error at combination:  (4, 1, 5)\n",
      "307.3036477793189\n",
      "301.33464742862765\n",
      "304.98484087663866\n",
      "Got error at combination:  (4, 2, 3)\n",
      "Got error at combination:  (4, 2, 4)\n",
      "Got error at combination:  (4, 2, 5)\n",
      "Got error at combination:  (4, 3, 0)\n",
      "Got error at combination:  (4, 3, 1)\n",
      "Got error at combination:  (4, 3, 2)\n",
      "Got error at combination:  (4, 3, 3)\n",
      "Got error at combination:  (4, 3, 4)\n",
      "Got error at combination:  (4, 3, 5)\n",
      "Got error at combination:  (4, 4, 0)\n",
      "Got error at combination:  (4, 4, 1)\n",
      "Got error at combination:  (4, 4, 2)\n",
      "Got error at combination:  (4, 4, 3)\n",
      "Got error at combination:  (4, 4, 4)\n",
      "Got error at combination:  (4, 4, 5)\n",
      "Got error at combination:  (4, 5, 0)\n",
      "Got error at combination:  (4, 5, 1)\n",
      "Got error at combination:  (4, 5, 2)\n",
      "Got error at combination:  (4, 5, 3)\n",
      "Got error at combination:  (4, 5, 4)\n",
      "Got error at combination:  (4, 5, 5)\n",
      "332.8341462969065\n",
      "Got error at combination:  (5, 0, 1)\n",
      "Got error at combination:  (5, 0, 2)\n",
      "Got error at combination:  (5, 0, 3)\n",
      "Got error at combination:  (5, 0, 4)\n",
      "Got error at combination:  (5, 0, 5)\n",
      "308.49440793999895\n",
      "310.21551672193743\n",
      "306.3534298243489\n",
      "309.04857472992217\n",
      "Got error at combination:  (5, 1, 4)\n",
      "Got error at combination:  (5, 1, 5)\n",
      "307.0241313348423\n",
      "303.04178787978276\n",
      "302.74074454933117\n",
      "308.5541167865688\n",
      "Got error at combination:  (5, 2, 4)\n",
      "Got error at combination:  (5, 2, 5)\n",
      "Got error at combination:  (5, 3, 0)\n",
      "Got error at combination:  (5, 3, 1)\n",
      "Got error at combination:  (5, 3, 2)\n",
      "Got error at combination:  (5, 3, 3)\n",
      "Got error at combination:  (5, 3, 4)\n",
      "Got error at combination:  (5, 3, 5)\n",
      "Got error at combination:  (5, 4, 0)\n",
      "Got error at combination:  (5, 4, 1)\n",
      "Got error at combination:  (5, 4, 2)\n",
      "Got error at combination:  (5, 4, 3)\n",
      "Got error at combination:  (5, 4, 4)\n",
      "Got error at combination:  (5, 4, 5)\n",
      "Got error at combination:  (5, 5, 0)\n",
      "Got error at combination:  (5, 5, 1)\n",
      "Got error at combination:  (5, 5, 2)\n",
      "Got error at combination:  (5, 5, 3)\n",
      "Got error at combination:  (5, 5, 4)\n",
      "Got error at combination:  (5, 5, 5)\n"
     ]
    }
   ],
   "source": [
    "import warnings \n",
    "warnings.filterwarnings('ignore')\n",
    "min_aic = 10000000\n",
    "best_comb = ()\n",
    "\n",
    "for comb in pdq:\n",
    "    try:\n",
    "        model_arima = ARIMA(train, order=comb)\n",
    "        model_arima_fit = model_arima.fit()\n",
    "        if model_arima_fit.aic < min_aic:\n",
    "            best_comb = comb\n",
    "            print(model_arima_fit.aic)\n",
    "    except:\n",
    "        print('Got error at combination: ', comb)"
   ]
  },
  {
   "cell_type": "code",
   "execution_count": 63,
   "id": "22c6f19d-8786-4c8d-853b-abf9d6c52c04",
   "metadata": {},
   "outputs": [
    {
     "data": {
      "text/plain": [
       "(5, 2, 3)"
      ]
     },
     "execution_count": 63,
     "metadata": {},
     "output_type": "execute_result"
    }
   ],
   "source": [
    "best_comb"
   ]
  },
  {
   "cell_type": "markdown",
   "id": "4ef1bec1-6d0d-4f92-a00e-829ca06e465b",
   "metadata": {},
   "source": [
    "### for our p d q combination to be at 5 2 3 we have the best combination"
   ]
  },
  {
   "cell_type": "code",
   "execution_count": 64,
   "id": "e50bbeed-b0ca-446a-b13c-d67d5991b257",
   "metadata": {},
   "outputs": [],
   "source": [
    "model_arima = ARIMA(train, order=(5,2,3))\n",
    "\n",
    "model_arima_fit = model_arima.fit()"
   ]
  },
  {
   "cell_type": "code",
   "execution_count": 65,
   "id": "32ccdd58-44e0-4068-a1e4-213edb3dfb9e",
   "metadata": {},
   "outputs": [
    {
     "data": {
      "text/plain": [
       "308.5541167865688"
      ]
     },
     "execution_count": 65,
     "metadata": {},
     "output_type": "execute_result"
    }
   ],
   "source": [
    "model_arima_fit.aic"
   ]
  },
  {
   "cell_type": "code",
   "execution_count": 66,
   "id": "07211ab4-0d76-416f-81c5-f28a69f85624",
   "metadata": {},
   "outputs": [],
   "source": [
    "pred = model_arima_fit.forecast(steps=8)"
   ]
  },
  {
   "cell_type": "code",
   "execution_count": 67,
   "id": "17a37f0e-ce58-4710-a8a3-c574e4df6330",
   "metadata": {},
   "outputs": [
    {
     "data": {
      "text/plain": [
       "[<matplotlib.lines.Line2D at 0x1fde29956d0>]"
      ]
     },
     "execution_count": 67,
     "metadata": {},
     "output_type": "execute_result"
    },
    {
     "data": {
      "image/png": "[encoded data removed]",
      "text/plain": [
       "<Figure size 432x288 with 1 Axes>"
      ]
     },
     "metadata": {
      "needs_background": "light"
     },
     "output_type": "display_data"
    }
   ],
   "source": [
    "plt.plot(np.arange(0,8), test.Sales)\n",
    "plt.plot(np.arange(0,8), pred[0])"
   ]
  },
  {
   "cell_type": "markdown",
   "id": "82e66560-0fd9-4975-8c71-5f82216f5b43",
   "metadata": {},
   "source": [
    "## other models available for time series forecasting\n",
    "\n",
    "1. FB prophet\n",
    "2. LSTM implementation for time series forecasting\n",
    "3. RNN implementation for time series forecasting"
   ]
  },
  {
   "cell_type": "code",
   "execution_count": null,
   "id": "239bd338-110a-4cbd-a630-5603dccb1575",
   "metadata": {},
   "outputs": [],
   "source": []
  }
 ],
 "metadata": {
  "kernelspec": {
   "display_name": "Python 3",
   "language": "python",
   "name": "python3"
  },
  "language_info": {
   "codemirror_mode": {
    "name": "ipython",
    "version": 3
   },
   "file_extension": ".py",
   "mimetype": "text/x-python",
   "name": "python",
   "nbconvert_exporter": "python",
   "pygments_lexer": "ipython3",
   "version": "3.8.8"
  }
 },
 "nbformat": 4,
 "nbformat_minor": 5
}
