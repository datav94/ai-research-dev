{
 "cells": [
  {
   "cell_type": "markdown",
   "id": "c18e1eda-7d77-41cd-abc6-0f56f7692507",
   "metadata": {},
   "source": [
    "# __Regular Expressions__ "
   ]
  },
  {
   "cell_type": "code",
   "execution_count": 1,
   "id": "273de159-a36f-4ca5-a07e-ae1c77c0e717",
   "metadata": {},
   "outputs": [],
   "source": [
    "import re"
   ]
  },
  {
   "cell_type": "code",
   "execution_count": 20,
   "id": "1a8a64db-5ad6-4dc1-9266-7f726bb64d74",
   "metadata": {},
   "outputs": [
    {
     "name": "stdout",
     "output_type": "stream",
     "text": [
      "\n",
      "Ashok spent 100 Rs, \n",
      "Ritesh spent 500 Rs, \n",
      "Ragini spent 450 Rs and \n",
      "Reema spent 550 Rs\n",
      "\n"
     ]
    }
   ],
   "source": [
    "text1 = \"\"\"\n",
    "Ashok spent 100 Rs, \n",
    "Ritesh spent 500 Rs, \n",
    "Ragini spent 450 Rs and \n",
    "Reema spent 550 Rs\n",
    "\"\"\"\n",
    "print(text1)"
   ]
  },
  {
   "cell_type": "code",
   "execution_count": 10,
   "id": "513354d7-4743-48ba-8c7f-db8566796608",
   "metadata": {},
   "outputs": [],
   "source": [
    "txt = \"\"\"\n",
    "It excites me even more at this stage, getting the taste of winning from an early age. I am still as excited as I was when I won my first (trophy). The hunger hasn't diminished.\n",
    "In hindsight, has the forced break due to Covid-19 helped your longevity, maybe unknowingly?\n",
    "First of all, we were dealing with a lot more serious issues during the pandemic. At the start of the first lockdown, everybody thought that in 3-4 months we'll be out of this and things will come back to normal. But apparently, Mr. Covid had other plans. So I thought it was a welcome break\n",
    "\"\"\""
   ]
  },
  {
   "cell_type": "code",
   "execution_count": 12,
   "id": "6b65bc0f-af0a-4db6-8521-37b2d29fedd2",
   "metadata": {},
   "outputs": [
    {
     "data": {
      "text/plain": [
       "['lot']"
      ]
     },
     "execution_count": 12,
     "metadata": {},
     "output_type": "execute_result"
    }
   ],
   "source": [
    "re.findall('lot', txt) \n",
    "# even takes a partial match e.g if there is a word lottary it is going to show two lots in the list below\n",
    "# try adding lotteria to the text above and see"
   ]
  },
  {
   "cell_type": "code",
   "execution_count": 13,
   "id": "df665e2c-d4db-4fb5-ba1f-969bf004ed5e",
   "metadata": {},
   "outputs": [],
   "source": [
    "txt = \"\"\"\n",
    "It excites me even more at this stage, getting the taste of winning from an early age. I am still as excited as I was when I won my first (trophy). The hunger hasn't diminished.\n",
    "In hindsight, has the forced break due to Covid-19 helped your longevity, maybe unknowingly?\n",
    "First of all, lottaria we were dealing with a lot more serious issues during the pandemic. At the start of the first lockdown, everybody thought that in 3-4 months we'll be out of this and things will come back to normal. But apparently, Mr. Covid had other plans. So I thought it was a welcome break\n",
    "\"\"\""
   ]
  },
  {
   "cell_type": "code",
   "execution_count": 14,
   "id": "89955b2d-f52a-4a15-93d4-f860d77dc5ee",
   "metadata": {},
   "outputs": [
    {
     "data": {
      "text/plain": [
       "['lot', 'lot']"
      ]
     },
     "execution_count": 14,
     "metadata": {},
     "output_type": "execute_result"
    }
   ],
   "source": [
    "re.findall('lot', txt) "
   ]
  },
  {
   "cell_type": "code",
   "execution_count": 15,
   "id": "35a35edc-bafc-44f6-82fe-6101e3711df1",
   "metadata": {},
   "outputs": [
    {
     "data": {
      "text/plain": [
       "['may', 'lot', 'lot']"
      ]
     },
     "execution_count": 15,
     "metadata": {},
     "output_type": "execute_result"
    }
   ],
   "source": [
    "re.findall('lot|may', txt) "
   ]
  },
  {
   "cell_type": "markdown",
   "id": "c3478a70-b66c-4075-a1b3-01a6b4c8f1d2",
   "metadata": {},
   "source": [
    "# we can even find the emojis as below"
   ]
  },
  {
   "cell_type": "code",
   "execution_count": 16,
   "id": "f55f1cd6-49e9-4a88-835a-a8bcaecd895b",
   "metadata": {},
   "outputs": [],
   "source": [
    "text = 'A ❤ crowd straining 😂 to ongoing get into Hamid Karzai International airport had converged on Abbey Gate, a main entryway manned by Marines and other service members. The troops knew that they could be targeted in an attack; just the day before, the State Department had warned of a “credible” threat at three gates at the airport, where more than 5000 US troops had helped to evacuate more than 100000 people in less than two weeks. Abbey Gate was on the list. '"
   ]
  },
  {
   "cell_type": "code",
   "execution_count": 17,
   "id": "1648c159-90e7-4d78-8849-62b6e99b2fb7",
   "metadata": {},
   "outputs": [
    {
     "data": {
      "text/plain": [
       "['❤', '😂']"
      ]
     },
     "execution_count": 17,
     "metadata": {},
     "output_type": "execute_result"
    }
   ],
   "source": [
    "re.findall('❤|😂', text)"
   ]
  },
  {
   "cell_type": "code",
   "execution_count": 18,
   "id": "540070b2-4e38-4eb0-9a7c-90a25f475507",
   "metadata": {},
   "outputs": [
    {
     "data": {
      "text/plain": [
       "<re.Match object; span=(42, 47), match='Hamid'>"
      ]
     },
     "execution_count": 18,
     "metadata": {},
     "output_type": "execute_result"
    }
   ],
   "source": [
    "re.search('Hamid', text)"
   ]
  },
  {
   "cell_type": "markdown",
   "id": "9e452562-eb60-4b4b-bbd1-93ec0be66351",
   "metadata": {},
   "source": [
    "#### the above line provide the start and end index of the word"
   ]
  },
  {
   "cell_type": "code",
   "execution_count": 22,
   "id": "df8c2155-cad3-4fc2-a590-1f0ad9e7f752",
   "metadata": {},
   "outputs": [
    {
     "data": {
      "text/plain": [
       "['100', '500', '450', '550']"
      ]
     },
     "execution_count": 22,
     "metadata": {},
     "output_type": "execute_result"
    }
   ],
   "source": [
    "re.findall('[0-9]+', text1)"
   ]
  },
  {
   "cell_type": "code",
   "execution_count": 23,
   "id": "51fa91ad-5553-44c8-9582-e864a40b90f9",
   "metadata": {},
   "outputs": [
    {
     "data": {
      "text/plain": [
       "['Ashok',\n",
       " 'spent',\n",
       " 'Rs',\n",
       " 'Ritesh',\n",
       " 'spent',\n",
       " 'Rs',\n",
       " 'Ragini',\n",
       " 'spent',\n",
       " 'Rs',\n",
       " 'and',\n",
       " 'Reema',\n",
       " 'spent',\n",
       " 'Rs']"
      ]
     },
     "execution_count": 23,
     "metadata": {},
     "output_type": "execute_result"
    }
   ],
   "source": [
    "re.findall('[A-Za-z]+', text1)"
   ]
  },
  {
   "cell_type": "code",
   "execution_count": 33,
   "id": "c967816e-c643-43b8-b181-1b751fc326bb",
   "metadata": {},
   "outputs": [
    {
     "data": {
      "text/plain": [
       "['Ashok', 'Ritesh', 'Ragini', 'Reema']"
      ]
     },
     "execution_count": 33,
     "metadata": {},
     "output_type": "execute_result"
    }
   ],
   "source": [
    "re.findall('[A-Z][a-z]{2,}', text1) # {2,} is after [a-z] showcases that smaller case letters should be more than 1"
   ]
  },
  {
   "cell_type": "code",
   "execution_count": 34,
   "id": "4fa911e5-6d64-4e29-8973-62b4498780a4",
   "metadata": {},
   "outputs": [],
   "source": [
    "text = 'ababababa aba abaa ababaa ababa ababa ababa aaaaaaaaaa bababab ba ba ba ba ba aaaaa'"
   ]
  },
  {
   "cell_type": "code",
   "execution_count": 45,
   "id": "04e01403-62b2-44e0-8a62-564ac1ecc78f",
   "metadata": {},
   "outputs": [
    {
     "data": {
      "text/plain": [
       "['baba', 'baba', 'baa', 'baba', 'baba', 'baba', 'baba', 'baba', 'bab']"
      ]
     },
     "execution_count": 45,
     "metadata": {},
     "output_type": "execute_result"
    }
   ],
   "source": [
    "re.findall('b[a-z]{2,3}',text)"
   ]
  },
  {
   "cell_type": "code",
   "execution_count": 50,
   "id": "b233a82b-2405-4d0d-a607-b66339ef27e6",
   "metadata": {},
   "outputs": [
    {
     "data": {
      "text/plain": [
       "['aba', 'abaa', 'ba', 'ba', 'ba', 'ba', 'ba']"
      ]
     },
     "execution_count": 50,
     "metadata": {},
     "output_type": "execute_result"
    }
   ],
   "source": [
    "re.findall(r'\\b[a-z]{1,4}\\b',text) \n",
    "# \\b notifies back space so before and after there should be space so it won't take substrings for the same word again and again"
   ]
  },
  {
   "cell_type": "code",
   "execution_count": 51,
   "id": "0ac67c1e-5423-40f2-bb6a-44475410ab5f",
   "metadata": {},
   "outputs": [],
   "source": [
    "phno = \"Phone number of the first suspect is 9121222322 and \\\n",
    "he was born on 17-Feb-93. The number of the second suspect is 9898122323 and \\\n",
    "she was born on 21-Mar-90. The third suspect was born on 23-Dec-12 who has the number 9898121212. \\\n",
    "Phone number of the first suspect is 9121222322 and \\\n",
    "he was born on 17-Feb-93. The number of the second suspect is 9898122323 and \\\n",
    "she was born on 21-Mar-90. The third suspect was born on 23-Dec-12 who has the number 9898121212. \\\n",
    "Phone number of the first suspect is 9121222322 and \\\n",
    "he was born on 17-Feb-93. The number of the second suspect is 9898122323 and \\\n",
    "she was born on 21-Mar-90. The third suspect was born on 23-Dec-12 who has the number 9898121212. \\\n",
    "Phone number of the first suspect is 9121222322 and 8888888888 \\\n",
    "he was born on 17-Feb-93. The number of the second suspect is 9898122323 and \\\n",
    "she was born on 21-Mar-90. The third suspect was born on 23-Dec-12 who has the number 9898121212. \\\n",
    "Phone number of the first suspect is 9121222322 and \\\n",
    "he was born on 17-Feb-93. The number of the second suspect is 9898122323 and \\\n",
    "she was born on 21-Mar-90. The third suspect was born on 23-Dec-12 who has the number 9898121212. \\\n",
    "Phone number of the first suspect is 9121222322 and \\\n",
    "he was born on 17-Feb-93. The number of the second suspect is 9898122323 and \\\n",
    "she was born on 21-Mar-90. The third suspect was born on 23-Dec-12 who has the number 9898121212.\""
   ]
  },
  {
   "cell_type": "code",
   "execution_count": 55,
   "id": "a57eb9c0-a76c-4ee6-abf2-3465f1ee6cff",
   "metadata": {},
   "outputs": [
    {
     "data": {
      "text/plain": [
       "['9121222322',\n",
       " '9898122323',\n",
       " '9898121212',\n",
       " '9121222322',\n",
       " '9898122323',\n",
       " '9898121212',\n",
       " '9121222322',\n",
       " '9898122323',\n",
       " '9898121212',\n",
       " '9121222322',\n",
       " '9898122323',\n",
       " '9898121212',\n",
       " '9121222322',\n",
       " '9898122323',\n",
       " '9898121212',\n",
       " '9121222322',\n",
       " '9898122323',\n",
       " '9898121212']"
      ]
     },
     "execution_count": 55,
     "metadata": {},
     "output_type": "execute_result"
    }
   ],
   "source": [
    "re.findall('[9][0-9]{9}', phno)"
   ]
  },
  {
   "cell_type": "markdown",
   "id": "279f81b3-2752-43e0-9668-0f702823c706",
   "metadata": {},
   "source": [
    "# extract dates"
   ]
  },
  {
   "cell_type": "code",
   "execution_count": 56,
   "id": "64133d70-18b5-4194-90a6-b3f9f26dc54a",
   "metadata": {},
   "outputs": [
    {
     "data": {
      "text/plain": [
       "['17-Feb-93',\n",
       " '21-Mar-90',\n",
       " '23-Dec-12',\n",
       " '17-Feb-93',\n",
       " '21-Mar-90',\n",
       " '23-Dec-12',\n",
       " '17-Feb-93',\n",
       " '21-Mar-90',\n",
       " '23-Dec-12',\n",
       " '17-Feb-93',\n",
       " '21-Mar-90',\n",
       " '23-Dec-12',\n",
       " '17-Feb-93',\n",
       " '21-Mar-90',\n",
       " '23-Dec-12',\n",
       " '17-Feb-93',\n",
       " '21-Mar-90',\n",
       " '23-Dec-12']"
      ]
     },
     "execution_count": 56,
     "metadata": {},
     "output_type": "execute_result"
    }
   ],
   "source": [
    "re.findall('[0-9]{2}-[A-Z][a-z]{2}-[0-9]{2}', phno)"
   ]
  },
  {
   "cell_type": "code",
   "execution_count": 57,
   "id": "0d37328d-318a-4890-b688-1637e9870654",
   "metadata": {},
   "outputs": [],
   "source": [
    "text = \"Lorem Ipsum is simply dummy 1990 text of the printing and typesetting industry. \\\n",
    "Lorem Ipsum has been the industry's standard dummy text ever since the 1500 , \\\n",
    "when an unknown printer 2021 took a galley of type and scrambled it to make a type \\\n",
    "specimen book. It has survived not only five centuries, but \\\n",
    "also the 2013 leap into electronic typesetting, \\\n",
    "remaining essentially unchanged. It was popularised in the 1960 \\\n",
    "with the release of 1990 Letraset sheets containing Lorem Ipsum passages, \\\n",
    "and more recently with desktop publishing software like Aldus \\\n",
    "PageMaker 2014 including versions of Lorem Ipsum.\""
   ]
  },
  {
   "cell_type": "code",
   "execution_count": 58,
   "id": "c8e003a7-fa7e-4f98-895d-345dbb8c7dac",
   "metadata": {},
   "outputs": [
    {
     "data": {
      "text/plain": [
       "['1990', '1500', '2021', '2013', '1960', '1990', '2014']"
      ]
     },
     "execution_count": 58,
     "metadata": {},
     "output_type": "execute_result"
    }
   ],
   "source": [
    "# extract all years\n",
    "re.findall('[0-9]{4}', text)"
   ]
  },
  {
   "cell_type": "code",
   "execution_count": 59,
   "id": "09d23c4a-c153-491a-bda6-51be218a3db3",
   "metadata": {},
   "outputs": [
    {
     "data": {
      "text/plain": [
       "['1990', '1500', '2021', '2013', '1960', '1990', '2014']"
      ]
     },
     "execution_count": 59,
     "metadata": {},
     "output_type": "execute_result"
    }
   ],
   "source": [
    "re.findall('\\d{4}', text)"
   ]
  },
  {
   "cell_type": "code",
   "execution_count": 60,
   "id": "a7049d58-8d35-4a5b-a944-8a740e197c1b",
   "metadata": {},
   "outputs": [],
   "source": [
    "contactInfo = 'Abbot, New Delhi, 1212121212.\\\n",
    "Priyanka, Haryana, 1243233212.\\\n",
    "Hari, Chennai, 1243342242.\\\n",
    "Zahid, Kashmir, 124323344.\\\n",
    "Muskan, Bangalore, 54232313.'"
   ]
  },
  {
   "cell_type": "code",
   "execution_count": 61,
   "id": "2c870096-0f52-4c78-a89b-930dcd0a4bc3",
   "metadata": {},
   "outputs": [
    {
     "data": {
      "text/plain": [
       "['Abbot, New Delhi, ',\n",
       " 'Priyanka, Haryana, ',\n",
       " 'Hari, Chennai, ',\n",
       " 'Zahid, Kashmir, ',\n",
       " 'Muskan, Bangalore, ']"
      ]
     },
     "execution_count": 61,
     "metadata": {},
     "output_type": "execute_result"
    }
   ],
   "source": [
    "re.findall('[A-Za-z ,]+', contactInfo)"
   ]
  },
  {
   "cell_type": "code",
   "execution_count": 62,
   "id": "c5af201a-23a0-4b65-a0ae-e67c2103d51e",
   "metadata": {},
   "outputs": [],
   "source": [
    "text = \"Hi my name is Suhail and Saumya 19-CDS-2021 is one of my students as well \\\n",
    "as is Chetan 19-DEC-1999, 19-abc-1990 \\\n",
    "Rajat 20-JAN-1995\""
   ]
  },
  {
   "cell_type": "code",
   "execution_count": 63,
   "id": "c0b22cd4-c279-4724-8d5b-53f8c478ffe3",
   "metadata": {},
   "outputs": [
    {
     "data": {
      "text/plain": [
       "['19-CDS-2021', '19-DEC-1999', '19-abc-1990', '20-JAN-1995']"
      ]
     },
     "execution_count": 63,
     "metadata": {},
     "output_type": "execute_result"
    }
   ],
   "source": [
    "re.findall('\\d{2}-[A-Za-z]{3}-\\d{4}', text)"
   ]
  },
  {
   "cell_type": "code",
   "execution_count": 64,
   "id": "ef99726f-ccb6-4e5b-a648-cc6a76330c10",
   "metadata": {},
   "outputs": [
    {
     "data": {
      "text/plain": [
       "['19-CDS-20', '19-DEC-19', '19-abc-19', '20-JAN-19']"
      ]
     },
     "execution_count": 64,
     "metadata": {},
     "output_type": "execute_result"
    }
   ],
   "source": [
    "re.findall('\\d{2}-\\w{3}-\\d{2}', text)"
   ]
  },
  {
   "cell_type": "code",
   "execution_count": null,
   "id": "9a989f6b-f71b-4393-aabd-75db5655a4ab",
   "metadata": {},
   "outputs": [],
   "source": []
  }
 ],
 "metadata": {
  "kernelspec": {
   "display_name": "Python 3",
   "language": "python",
   "name": "python3"
  },
  "language_info": {
   "codemirror_mode": {
    "name": "ipython",
    "version": 3
   },
   "file_extension": ".py",
   "mimetype": "text/x-python",
   "name": "python",
   "nbconvert_exporter": "python",
   "pygments_lexer": "ipython3",
   "version": "3.8.8"
  }
 },
 "nbformat": 4,
 "nbformat_minor": 5
}
