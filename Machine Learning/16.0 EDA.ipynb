{
 "cells": [
  {
   "cell_type": "markdown",
   "id": "ae31e321-94bd-4156-85fc-2b7ec5625971",
   "metadata": {},
   "source": [
    "# __Exploratory Data Analysis__ (Most Important in terms of Data Science)"
   ]
  },
  {
   "cell_type": "code",
   "execution_count": 1,
   "id": "60b0a615-f338-426d-acd8-81193a3c67dc",
   "metadata": {},
   "outputs": [],
   "source": [
    "import pandas as pd"
   ]
  },
  {
   "cell_type": "code",
   "execution_count": null,
   "id": "a50f4dd5-7bf1-48b5-8f4c-5ad374247ecf",
   "metadata": {},
   "outputs": [],
   "source": [
    "df = "
   ]
  }
 ],
 "metadata": {
  "kernelspec": {
   "display_name": "Python 3",
   "language": "python",
   "name": "python3"
  },
  "language_info": {
   "codemirror_mode": {
    "name": "ipython",
    "version": 3
   },
   "file_extension": ".py",
   "mimetype": "text/x-python",
   "name": "python",
   "nbconvert_exporter": "python",
   "pygments_lexer": "ipython3",
   "version": "3.8.8"
  }
 },
 "nbformat": 4,
 "nbformat_minor": 5
}
