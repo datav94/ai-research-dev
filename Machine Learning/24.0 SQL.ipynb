{
 "cells": [
  {
   "cell_type": "code",
   "execution_count": 2,
   "id": "52c28e81-3534-4791-b6f3-c9f54435b749",
   "metadata": {},
   "outputs": [
    {
     "name": "stdout",
     "output_type": "stream",
     "text": [
      "Requirement already satisfied: sqlalchemy in c:\\programdata\\anaconda3\\lib\\site-packages (1.4.7)\n",
      "Requirement already satisfied: greenlet!=0.4.17 in c:\\programdata\\anaconda3\\lib\\site-packages (from sqlalchemy) (1.0.0)\n",
      "Collecting pymysql\n",
      "  Downloading PyMySQL-1.0.2-py3-none-any.whl (43 kB)\n",
      "Installing collected packages: pymysql\n",
      "Successfully installed pymysql-1.0.2\n"
     ]
    }
   ],
   "source": [
    "!pip install sqlalchemy\n",
    "!pip install pymysql"
   ]
  },
  {
   "cell_type": "markdown",
   "id": "df82369c-78b9-42e6-acd0-4afb43316118",
   "metadata": {},
   "source": [
    "# just a revisit to know how SQL data can be gathered using pandas and sql db connectors\n",
    "# my SQL knowledge\n",
    "\n",
    "1. DB know and used during job\n",
    "    - MySQL\n",
    "    - SQL SERVER 2012\n",
    "    - PostgreSQL\n",
    "    - OracleDB\n",
    "    - IBM DB2\n",
    "    - Azure SQL\n",
    "2. SQL already known to me\n",
    "    - DML\n",
    "    - DDL\n",
    "    - DCL\n",
    "    - TCL\n",
    "    - T-SQL\n",
    "    - PL/SQL\n",
    "        1. Stored procedures\n",
    "        2. Functions\n",
    "        3. Triggers\n",
    "        4. Views\n",
    "        5. Reporting"
   ]
  },
  {
   "cell_type": "code",
   "execution_count": 8,
   "id": "7feaf011-39b0-4c8f-afc9-bd3e0c572ec5",
   "metadata": {},
   "outputs": [],
   "source": [
    "db_host = '18.136.157.135'\n",
    "username = 'dm_user_sql1'\n",
    "user_pass = '37z!49REb&nKnl4pV!vJ'\n",
    "db_name = 'datamites_sql_practice'"
   ]
  },
  {
   "cell_type": "code",
   "execution_count": 9,
   "id": "84cabba5-aa91-4d1f-a0af-79ec579f84f5",
   "metadata": {},
   "outputs": [],
   "source": [
    "from sqlalchemy import create_engine\n",
    "import pandas as pd"
   ]
  },
  {
   "cell_type": "code",
   "execution_count": 11,
   "id": "1816f8ca-a83a-4a4c-813d-d3451f890341",
   "metadata": {},
   "outputs": [
    {
     "name": "stderr",
     "output_type": "stream",
     "text": [
      "<ipython-input-11-9189fa5eb1f8>:2: SADeprecationWarning: The Engine.table_names() method is deprecated and will be removed in a future release.  Please refer to Inspector.get_table_names(). (deprecated since: 1.4)\n",
      "  conn.table_names()\n"
     ]
    },
    {
     "data": {
      "text/plain": [
       "['customers', 'orders', 'products']"
      ]
     },
     "execution_count": 11,
     "metadata": {},
     "output_type": "execute_result"
    }
   ],
   "source": [
    "conn = create_engine('mysql+pymysql://'+username+':'+user_pass+'@'+db_host+'/'+db_name)\n",
    "conn.table_names()"
   ]
  },
  {
   "cell_type": "code",
   "execution_count": 13,
   "id": "c0b9feb2-85a2-463d-8351-bea46253ead1",
   "metadata": {},
   "outputs": [
    {
     "data": {
      "text/html": [
       "<div>\n",
       "<style scoped>\n",
       "    .dataframe tbody tr th:only-of-type {\n",
       "        vertical-align: middle;\n",
       "    }\n",
       "\n",
       "    .dataframe tbody tr th {\n",
       "        vertical-align: top;\n",
       "    }\n",
       "\n",
       "    .dataframe thead th {\n",
       "        text-align: right;\n",
       "    }\n",
       "</style>\n",
       "<table border=\"1\" class=\"dataframe\">\n",
       "  <thead>\n",
       "    <tr style=\"text-align: right;\">\n",
       "      <th></th>\n",
       "      <th>customer_id</th>\n",
       "      <th>customer_name</th>\n",
       "      <th>segment</th>\n",
       "      <th>country</th>\n",
       "      <th>city</th>\n",
       "      <th>state</th>\n",
       "      <th>postal_code</th>\n",
       "      <th>region</th>\n",
       "    </tr>\n",
       "  </thead>\n",
       "  <tbody>\n",
       "    <tr>\n",
       "      <th>0</th>\n",
       "      <td>AA-10315</td>\n",
       "      <td>Alex Avila</td>\n",
       "      <td>Consumer</td>\n",
       "      <td>United States</td>\n",
       "      <td>Minneapolis</td>\n",
       "      <td>Minnesota</td>\n",
       "      <td>55407</td>\n",
       "      <td>Central</td>\n",
       "    </tr>\n",
       "    <tr>\n",
       "      <th>1</th>\n",
       "      <td>AA-10375</td>\n",
       "      <td>Allen Armold</td>\n",
       "      <td>Consumer</td>\n",
       "      <td>United States</td>\n",
       "      <td>Mesa</td>\n",
       "      <td>Arizona</td>\n",
       "      <td>85204</td>\n",
       "      <td>West</td>\n",
       "    </tr>\n",
       "    <tr>\n",
       "      <th>2</th>\n",
       "      <td>AA-10480</td>\n",
       "      <td>Andrew Allen</td>\n",
       "      <td>Consumer</td>\n",
       "      <td>United States</td>\n",
       "      <td>Concord</td>\n",
       "      <td>North Carolina</td>\n",
       "      <td>28027</td>\n",
       "      <td>South</td>\n",
       "    </tr>\n",
       "    <tr>\n",
       "      <th>3</th>\n",
       "      <td>AA-10645</td>\n",
       "      <td>Anna Andreadi</td>\n",
       "      <td>Consumer</td>\n",
       "      <td>United States</td>\n",
       "      <td>Chester</td>\n",
       "      <td>Pennsylvania</td>\n",
       "      <td>19013</td>\n",
       "      <td>East</td>\n",
       "    </tr>\n",
       "    <tr>\n",
       "      <th>4</th>\n",
       "      <td>AB-10015</td>\n",
       "      <td>Aaron Bergman</td>\n",
       "      <td>Consumer</td>\n",
       "      <td>United States</td>\n",
       "      <td>Seattle</td>\n",
       "      <td>Washington</td>\n",
       "      <td>98103</td>\n",
       "      <td>West</td>\n",
       "    </tr>\n",
       "  </tbody>\n",
       "</table>\n",
       "</div>"
      ],
      "text/plain": [
       "  customer_id  customer_name   segment        country         city  \\\n",
       "0    AA-10315     Alex Avila  Consumer  United States  Minneapolis   \n",
       "1    AA-10375   Allen Armold  Consumer  United States         Mesa   \n",
       "2    AA-10480   Andrew Allen  Consumer  United States      Concord   \n",
       "3    AA-10645  Anna Andreadi  Consumer  United States      Chester   \n",
       "4    AB-10015  Aaron Bergman  Consumer  United States      Seattle   \n",
       "\n",
       "            state  postal_code   region  \n",
       "0       Minnesota        55407  Central  \n",
       "1         Arizona        85204     West  \n",
       "2  North Carolina        28027    South  \n",
       "3    Pennsylvania        19013     East  \n",
       "4      Washington        98103     West  "
      ]
     },
     "execution_count": 13,
     "metadata": {},
     "output_type": "execute_result"
    }
   ],
   "source": [
    "query = 'SELECT * FROM customers;'\n",
    "df = pd.read_sql(query, conn)\n",
    "df.head()"
   ]
  },
  {
   "cell_type": "code",
   "execution_count": null,
   "id": "70ae8da5-79da-447e-9831-812cf4e8e75a",
   "metadata": {},
   "outputs": [],
   "source": []
  }
 ],
 "metadata": {
  "kernelspec": {
   "display_name": "Python 3",
   "language": "python",
   "name": "python3"
  },
  "language_info": {
   "codemirror_mode": {
    "name": "ipython",
    "version": 3
   },
   "file_extension": ".py",
   "mimetype": "text/x-python",
   "name": "python",
   "nbconvert_exporter": "python",
   "pygments_lexer": "ipython3",
   "version": "3.8.8"
  }
 },
 "nbformat": 4,
 "nbformat_minor": 5
}
