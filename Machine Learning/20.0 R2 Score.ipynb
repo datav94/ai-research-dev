{
 "cells": [
  {
   "cell_type": "markdown",
   "id": "1efc0b66-fe3e-4dd0-9671-f75bfa824f9d",
   "metadata": {},
   "source": [
    "# __R2 Score__"
   ]
  },
  {
   "cell_type": "markdown",
   "id": "04337f5a-8ec0-410b-82b8-596810511999",
   "metadata": {},
   "source": [
    "### it goes from -ve infinity to 1 and we want it as close to 1 as possible"
   ]
  },
  {
   "cell_type": "markdown",
   "id": "e7c5612b-908b-455b-8ced-6cce30fecb62",
   "metadata": {},
   "source": [
    "### It tells you how good your model is w.r.t a mean model or the mean value"
   ]
  },
  {
   "cell_type": "markdown",
   "id": "a7ac7ec3-0690-494e-a6c0-d6cf87f0a3ae",
   "metadata": {},
   "source": [
    "### if r2 score = 0 then the model is performing exactly like its mean model"
   ]
  },
  {
   "cell_type": "markdown",
   "id": "862480a9-4694-416e-a9d8-b025206c5448",
   "metadata": {},
   "source": [
    "### if r2 score < 0  -> model performance worse than  mean model"
   ]
  },
  {
   "cell_type": "markdown",
   "id": "b83a90f9-f92d-42c0-8089-bcfd404cec00",
   "metadata": {},
   "source": [
    "### if r2 score > 0 -> model performance better than mean model"
   ]
  },
  {
   "cell_type": "markdown",
   "id": "add3a98c-f33e-4972-b56c-3fdbf1d45feb",
   "metadata": {},
   "source": [
    "### SSR - sum of square of residuals\n",
    "### SST - Sum of square of totals\n",
    "\n",
    "#### R2 Score = 1 - (SSR/SST)"
   ]
  },
  {
   "cell_type": "markdown",
   "id": "626b279c-8fb9-463c-91af-ab8f9106a5fe",
   "metadata": {},
   "source": [
    "### Example"
   ]
  },
  {
   "cell_type": "code",
   "execution_count": 8,
   "id": "da29806f-648c-43b7-a30c-83d8040c7317",
   "metadata": {},
   "outputs": [],
   "source": [
    "y_test = [1,2,3]\n",
    "y_predict = [1,2,4]"
   ]
  },
  {
   "cell_type": "code",
   "execution_count": 9,
   "id": "3788fdc0-d466-48a4-ad54-aa2584329b98",
   "metadata": {},
   "outputs": [],
   "source": [
    "SSR = []\n",
    "\n",
    "for i in range(0,3):\n",
    "    SSR.append((y_test[i] - y_predict[i])**2)\n",
    "    \n",
    "SSR = sum(SSR)"
   ]
  },
  {
   "cell_type": "code",
   "execution_count": 10,
   "id": "c1e617a8-4f39-4e73-801b-305f8ff7cf65",
   "metadata": {},
   "outputs": [
    {
     "data": {
      "text/plain": [
       "1"
      ]
     },
     "execution_count": 10,
     "metadata": {},
     "output_type": "execute_result"
    }
   ],
   "source": [
    "SSR"
   ]
  },
  {
   "cell_type": "markdown",
   "id": "ad989986-9ea1-40d6-86ba-47c43ce6b182",
   "metadata": {},
   "source": [
    "### For sst you take your actual data and you take mean of it\n",
    "### the you substract mean from each value of test data and square them and then take their sum\n",
    "### thats your SST"
   ]
  },
  {
   "cell_type": "code",
   "execution_count": 11,
   "id": "4856d73b-c4a8-4402-82d3-67e6b199d413",
   "metadata": {},
   "outputs": [
    {
     "data": {
      "text/plain": [
       "[1, 0, 1]"
      ]
     },
     "execution_count": 11,
     "metadata": {},
     "output_type": "execute_result"
    }
   ],
   "source": [
    "SST = []\n",
    "mean_of_ytest = sum(y_test)//len(y_test)\n",
    "for i in range(0,3):\n",
    "    SST.append((y_test[i] - mean_of_ytest)**2)\n",
    "    \n",
    "SST"
   ]
  },
  {
   "cell_type": "code",
   "execution_count": 12,
   "id": "633c1a93-8e48-49ec-8dd0-ce6923213dee",
   "metadata": {},
   "outputs": [
    {
     "data": {
      "text/plain": [
       "2"
      ]
     },
     "execution_count": 12,
     "metadata": {},
     "output_type": "execute_result"
    }
   ],
   "source": [
    "SST = sum(SST)\n",
    "SST"
   ]
  },
  {
   "cell_type": "code",
   "execution_count": 13,
   "id": "9b8f6cce-802e-4aed-8e58-f99032f34f02",
   "metadata": {},
   "outputs": [
    {
     "data": {
      "text/plain": [
       "0.5"
      ]
     },
     "execution_count": 13,
     "metadata": {},
     "output_type": "execute_result"
    }
   ],
   "source": [
    "R2Score = 1 - (SSR/SST)\n",
    "R2Score"
   ]
  },
  {
   "cell_type": "code",
   "execution_count": 14,
   "id": "d496e929-ba34-43dd-b185-0c5fce45bbaa",
   "metadata": {},
   "outputs": [
    {
     "data": {
      "text/plain": [
       "0.5"
      ]
     },
     "execution_count": 14,
     "metadata": {},
     "output_type": "execute_result"
    }
   ],
   "source": [
    "from sklearn.metrics import r2_score\n",
    "\n",
    "r2_score(y_test, y_predict)"
   ]
  },
  {
   "cell_type": "markdown",
   "id": "1f95518e-972c-4166-9f51-167553f96de5",
   "metadata": {},
   "source": [
    "### and thats how R2 score is calculated"
   ]
  },
  {
   "cell_type": "code",
   "execution_count": 15,
   "id": "0adb9175-2184-4a39-bbcb-9c5b7e01869f",
   "metadata": {},
   "outputs": [],
   "source": [
    "actual = [5, 7, 9]\n",
    "predict = [6, 7, 10]"
   ]
  },
  {
   "cell_type": "code",
   "execution_count": 19,
   "id": "c86477ac-353f-46b0-bfdc-ad1620070480",
   "metadata": {},
   "outputs": [],
   "source": [
    "def r2_score_self(actual, predict):\n",
    "    assert len(actual) == len(predict), \"length of acutal and predicted values list is not same\"\n",
    "    mean_act = sum(actual)/len(actual)\n",
    "    return 1 - sum([(actual[i] - predict[i])**2 for i in range(len(actual))])/sum([(actual[i] - mean_act)**2 for i in range(len(actual))])"
   ]
  },
  {
   "cell_type": "code",
   "execution_count": 20,
   "id": "949effc8-7a5c-4c3d-8c0e-42a11e648ef3",
   "metadata": {},
   "outputs": [
    {
     "data": {
      "text/plain": [
       "0.75"
      ]
     },
     "execution_count": 20,
     "metadata": {},
     "output_type": "execute_result"
    }
   ],
   "source": [
    "r2_score_self(actual, predict)"
   ]
  },
  {
   "cell_type": "code",
   "execution_count": 21,
   "id": "96e759a6-eafd-4a9f-a8ed-f246ac720ec0",
   "metadata": {},
   "outputs": [
    {
     "data": {
      "text/plain": [
       "0.75"
      ]
     },
     "execution_count": 21,
     "metadata": {},
     "output_type": "execute_result"
    }
   ],
   "source": [
    "r2_score(actual, predict)"
   ]
  },
  {
   "cell_type": "code",
   "execution_count": null,
   "id": "6e117eab-7074-4b28-bf6a-034c450a2d9b",
   "metadata": {},
   "outputs": [],
   "source": []
  }
 ],
 "metadata": {
  "kernelspec": {
   "display_name": "Python 3",
   "language": "python",
   "name": "python3"
  },
  "language_info": {
   "codemirror_mode": {
    "name": "ipython",
    "version": 3
   },
   "file_extension": ".py",
   "mimetype": "text/x-python",
   "name": "python",
   "nbconvert_exporter": "python",
   "pygments_lexer": "ipython3",
   "version": "3.8.8"
  }
 },
 "nbformat": 4,
 "nbformat_minor": 5
}
