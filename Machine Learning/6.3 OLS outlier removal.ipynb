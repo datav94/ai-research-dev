{
 "cells": [
  {
   "cell_type": "markdown",
   "id": "9e4f8403-9c6d-4b39-a172-1a05bba3415d",
   "metadata": {},
   "source": [
    "# __6.1 Simple Linear Regression MtCars Dataset__"
   ]
  },
  {
   "cell_type": "code",
   "execution_count": 385,
   "id": "e80e0235-2bad-4b49-a479-b335696daebe",
   "metadata": {},
   "outputs": [],
   "source": [
    "import pandas as pd\n",
    "import numpy as np\n",
    "import matplotlib.pyplot as plt\n",
    "import seaborn as sns\n",
    "from scipy import stats\n",
    "from sklearn.linear_model import LinearRegression"
   ]
  },
  {
   "cell_type": "code",
   "execution_count": 386,
   "id": "b1c93487-a8c9-4bf8-a978-9dbc14fabfe8",
   "metadata": {
    "tags": []
   },
   "outputs": [
    {
     "data": {
      "text/html": [
       "<div>\n",
       "<style scoped>\n",
       "    .dataframe tbody tr th:only-of-type {\n",
       "        vertical-align: middle;\n",
       "    }\n",
       "\n",
       "    .dataframe tbody tr th {\n",
       "        vertical-align: top;\n",
       "    }\n",
       "\n",
       "    .dataframe thead th {\n",
       "        text-align: right;\n",
       "    }\n",
       "</style>\n",
       "<table border=\"1\" class=\"dataframe\">\n",
       "  <thead>\n",
       "    <tr style=\"text-align: right;\">\n",
       "      <th></th>\n",
       "      <th>model</th>\n",
       "      <th>mpg</th>\n",
       "      <th>cyl</th>\n",
       "      <th>disp</th>\n",
       "      <th>hp</th>\n",
       "      <th>drat</th>\n",
       "      <th>wt</th>\n",
       "      <th>qsec</th>\n",
       "      <th>vs</th>\n",
       "      <th>am</th>\n",
       "      <th>gear</th>\n",
       "      <th>carb</th>\n",
       "    </tr>\n",
       "  </thead>\n",
       "  <tbody>\n",
       "    <tr>\n",
       "      <th>0</th>\n",
       "      <td>Mazda RX4</td>\n",
       "      <td>21.0</td>\n",
       "      <td>6</td>\n",
       "      <td>160.0</td>\n",
       "      <td>110</td>\n",
       "      <td>3.9</td>\n",
       "      <td>2.620</td>\n",
       "      <td>16.46</td>\n",
       "      <td>0</td>\n",
       "      <td>1</td>\n",
       "      <td>4</td>\n",
       "      <td>4</td>\n",
       "    </tr>\n",
       "    <tr>\n",
       "      <th>1</th>\n",
       "      <td>Mazda RX4 Wag</td>\n",
       "      <td>21.0</td>\n",
       "      <td>6</td>\n",
       "      <td>160.0</td>\n",
       "      <td>110</td>\n",
       "      <td>3.9</td>\n",
       "      <td>2.875</td>\n",
       "      <td>17.02</td>\n",
       "      <td>0</td>\n",
       "      <td>1</td>\n",
       "      <td>4</td>\n",
       "      <td>4</td>\n",
       "    </tr>\n",
       "  </tbody>\n",
       "</table>\n",
       "</div>"
      ],
      "text/plain": [
       "           model   mpg  cyl   disp   hp  drat     wt   qsec  vs  am  gear  \\\n",
       "0      Mazda RX4  21.0    6  160.0  110   3.9  2.620  16.46   0   1     4   \n",
       "1  Mazda RX4 Wag  21.0    6  160.0  110   3.9  2.875  17.02   0   1     4   \n",
       "\n",
       "   carb  \n",
       "0     4  \n",
       "1     4  "
      ]
     },
     "execution_count": 386,
     "metadata": {},
     "output_type": "execute_result"
    }
   ],
   "source": [
    "df = pd.read_csv('mtcars.csv')\n",
    "df.head(2)"
   ]
  },
  {
   "cell_type": "code",
   "execution_count": 387,
   "id": "9fe5b437-f3bf-48b4-ba1b-a64f5f4e1fc7",
   "metadata": {},
   "outputs": [
    {
     "data": {
      "text/plain": [
       "(32, 12)"
      ]
     },
     "execution_count": 387,
     "metadata": {},
     "output_type": "execute_result"
    }
   ],
   "source": [
    "df.shape"
   ]
  },
  {
   "cell_type": "code",
   "execution_count": 388,
   "id": "859c1736-af90-4ed8-b294-6fbbb459a24c",
   "metadata": {},
   "outputs": [
    {
     "data": {
      "text/html": [
       "<div>\n",
       "<style scoped>\n",
       "    .dataframe tbody tr th:only-of-type {\n",
       "        vertical-align: middle;\n",
       "    }\n",
       "\n",
       "    .dataframe tbody tr th {\n",
       "        vertical-align: top;\n",
       "    }\n",
       "\n",
       "    .dataframe thead th {\n",
       "        text-align: right;\n",
       "    }\n",
       "</style>\n",
       "<table border=\"1\" class=\"dataframe\">\n",
       "  <thead>\n",
       "    <tr style=\"text-align: right;\">\n",
       "      <th></th>\n",
       "      <th>mpg</th>\n",
       "      <th>cyl</th>\n",
       "      <th>disp</th>\n",
       "      <th>hp</th>\n",
       "      <th>drat</th>\n",
       "      <th>wt</th>\n",
       "      <th>qsec</th>\n",
       "      <th>vs</th>\n",
       "      <th>am</th>\n",
       "      <th>gear</th>\n",
       "      <th>carb</th>\n",
       "    </tr>\n",
       "  </thead>\n",
       "  <tbody>\n",
       "    <tr>\n",
       "      <th>count</th>\n",
       "      <td>32.000000</td>\n",
       "      <td>32.000000</td>\n",
       "      <td>32.000000</td>\n",
       "      <td>32.000000</td>\n",
       "      <td>32.000000</td>\n",
       "      <td>32.000000</td>\n",
       "      <td>32.000000</td>\n",
       "      <td>32.000000</td>\n",
       "      <td>32.000000</td>\n",
       "      <td>32.000000</td>\n",
       "      <td>32.0000</td>\n",
       "    </tr>\n",
       "    <tr>\n",
       "      <th>mean</th>\n",
       "      <td>20.090625</td>\n",
       "      <td>6.187500</td>\n",
       "      <td>230.721875</td>\n",
       "      <td>146.687500</td>\n",
       "      <td>3.596563</td>\n",
       "      <td>3.217250</td>\n",
       "      <td>17.848750</td>\n",
       "      <td>0.437500</td>\n",
       "      <td>0.406250</td>\n",
       "      <td>3.687500</td>\n",
       "      <td>2.8125</td>\n",
       "    </tr>\n",
       "    <tr>\n",
       "      <th>std</th>\n",
       "      <td>6.026948</td>\n",
       "      <td>1.785922</td>\n",
       "      <td>123.938694</td>\n",
       "      <td>68.562868</td>\n",
       "      <td>0.534679</td>\n",
       "      <td>0.978457</td>\n",
       "      <td>1.786943</td>\n",
       "      <td>0.504016</td>\n",
       "      <td>0.498991</td>\n",
       "      <td>0.737804</td>\n",
       "      <td>1.6152</td>\n",
       "    </tr>\n",
       "    <tr>\n",
       "      <th>min</th>\n",
       "      <td>10.400000</td>\n",
       "      <td>4.000000</td>\n",
       "      <td>71.100000</td>\n",
       "      <td>52.000000</td>\n",
       "      <td>2.760000</td>\n",
       "      <td>1.513000</td>\n",
       "      <td>14.500000</td>\n",
       "      <td>0.000000</td>\n",
       "      <td>0.000000</td>\n",
       "      <td>3.000000</td>\n",
       "      <td>1.0000</td>\n",
       "    </tr>\n",
       "    <tr>\n",
       "      <th>25%</th>\n",
       "      <td>15.425000</td>\n",
       "      <td>4.000000</td>\n",
       "      <td>120.825000</td>\n",
       "      <td>96.500000</td>\n",
       "      <td>3.080000</td>\n",
       "      <td>2.581250</td>\n",
       "      <td>16.892500</td>\n",
       "      <td>0.000000</td>\n",
       "      <td>0.000000</td>\n",
       "      <td>3.000000</td>\n",
       "      <td>2.0000</td>\n",
       "    </tr>\n",
       "    <tr>\n",
       "      <th>50%</th>\n",
       "      <td>19.200000</td>\n",
       "      <td>6.000000</td>\n",
       "      <td>196.300000</td>\n",
       "      <td>123.000000</td>\n",
       "      <td>3.695000</td>\n",
       "      <td>3.325000</td>\n",
       "      <td>17.710000</td>\n",
       "      <td>0.000000</td>\n",
       "      <td>0.000000</td>\n",
       "      <td>4.000000</td>\n",
       "      <td>2.0000</td>\n",
       "    </tr>\n",
       "    <tr>\n",
       "      <th>75%</th>\n",
       "      <td>22.800000</td>\n",
       "      <td>8.000000</td>\n",
       "      <td>326.000000</td>\n",
       "      <td>180.000000</td>\n",
       "      <td>3.920000</td>\n",
       "      <td>3.610000</td>\n",
       "      <td>18.900000</td>\n",
       "      <td>1.000000</td>\n",
       "      <td>1.000000</td>\n",
       "      <td>4.000000</td>\n",
       "      <td>4.0000</td>\n",
       "    </tr>\n",
       "    <tr>\n",
       "      <th>max</th>\n",
       "      <td>33.900000</td>\n",
       "      <td>8.000000</td>\n",
       "      <td>472.000000</td>\n",
       "      <td>335.000000</td>\n",
       "      <td>4.930000</td>\n",
       "      <td>5.424000</td>\n",
       "      <td>22.900000</td>\n",
       "      <td>1.000000</td>\n",
       "      <td>1.000000</td>\n",
       "      <td>5.000000</td>\n",
       "      <td>8.0000</td>\n",
       "    </tr>\n",
       "  </tbody>\n",
       "</table>\n",
       "</div>"
      ],
      "text/plain": [
       "             mpg        cyl        disp          hp       drat         wt  \\\n",
       "count  32.000000  32.000000   32.000000   32.000000  32.000000  32.000000   \n",
       "mean   20.090625   6.187500  230.721875  146.687500   3.596563   3.217250   \n",
       "std     6.026948   1.785922  123.938694   68.562868   0.534679   0.978457   \n",
       "min    10.400000   4.000000   71.100000   52.000000   2.760000   1.513000   \n",
       "25%    15.425000   4.000000  120.825000   96.500000   3.080000   2.581250   \n",
       "50%    19.200000   6.000000  196.300000  123.000000   3.695000   3.325000   \n",
       "75%    22.800000   8.000000  326.000000  180.000000   3.920000   3.610000   \n",
       "max    33.900000   8.000000  472.000000  335.000000   4.930000   5.424000   \n",
       "\n",
       "            qsec         vs         am       gear     carb  \n",
       "count  32.000000  32.000000  32.000000  32.000000  32.0000  \n",
       "mean   17.848750   0.437500   0.406250   3.687500   2.8125  \n",
       "std     1.786943   0.504016   0.498991   0.737804   1.6152  \n",
       "min    14.500000   0.000000   0.000000   3.000000   1.0000  \n",
       "25%    16.892500   0.000000   0.000000   3.000000   2.0000  \n",
       "50%    17.710000   0.000000   0.000000   4.000000   2.0000  \n",
       "75%    18.900000   1.000000   1.000000   4.000000   4.0000  \n",
       "max    22.900000   1.000000   1.000000   5.000000   8.0000  "
      ]
     },
     "execution_count": 388,
     "metadata": {},
     "output_type": "execute_result"
    }
   ],
   "source": [
    "df.describe()"
   ]
  },
  {
   "cell_type": "code",
   "execution_count": 389,
   "id": "e12b337d-e5d8-4430-b6ee-75a22d0b91fb",
   "metadata": {},
   "outputs": [
    {
     "name": "stdout",
     "output_type": "stream",
     "text": [
      "<class 'pandas.core.frame.DataFrame'>\n",
      "RangeIndex: 32 entries, 0 to 31\n",
      "Data columns (total 12 columns):\n",
      " #   Column  Non-Null Count  Dtype  \n",
      "---  ------  --------------  -----  \n",
      " 0   model   32 non-null     object \n",
      " 1   mpg     32 non-null     float64\n",
      " 2   cyl     32 non-null     int64  \n",
      " 3   disp    32 non-null     float64\n",
      " 4   hp      32 non-null     int64  \n",
      " 5   drat    32 non-null     float64\n",
      " 6   wt      32 non-null     float64\n",
      " 7   qsec    32 non-null     float64\n",
      " 8   vs      32 non-null     int64  \n",
      " 9   am      32 non-null     int64  \n",
      " 10  gear    32 non-null     int64  \n",
      " 11  carb    32 non-null     int64  \n",
      "dtypes: float64(5), int64(6), object(1)\n",
      "memory usage: 3.1+ KB\n"
     ]
    }
   ],
   "source": [
    "df.info()"
   ]
  },
  {
   "cell_type": "markdown",
   "id": "37c16288-dc14-42d8-ac2c-9d02638e1180",
   "metadata": {},
   "source": [
    "# Check for missing data"
   ]
  },
  {
   "cell_type": "code",
   "execution_count": 390,
   "id": "965665c2-4a56-42e8-92d0-d9944b7fca0c",
   "metadata": {},
   "outputs": [
    {
     "data": {
      "text/plain": [
       "model    0\n",
       "mpg      0\n",
       "cyl      0\n",
       "disp     0\n",
       "hp       0\n",
       "drat     0\n",
       "wt       0\n",
       "qsec     0\n",
       "vs       0\n",
       "am       0\n",
       "gear     0\n",
       "carb     0\n",
       "dtype: int64"
      ]
     },
     "execution_count": 390,
     "metadata": {},
     "output_type": "execute_result"
    }
   ],
   "source": [
    "df.isnull().sum()"
   ]
  },
  {
   "cell_type": "markdown",
   "id": "820cf4b7-ea8a-4c70-8be6-df112146dc47",
   "metadata": {},
   "source": [
    "### __Problem Statement:__ Predict Milage per gallon using other variables"
   ]
  },
  {
   "cell_type": "markdown",
   "id": "46e7f008-f903-45b6-a3f9-2acc01eb5a6c",
   "metadata": {},
   "source": [
    "#### step 1:\n",
    "\n",
    "Remove car names as there is no need for that data"
   ]
  },
  {
   "cell_type": "code",
   "execution_count": 391,
   "id": "3ddc336a-ffaf-422e-8927-b2df190f7e8e",
   "metadata": {},
   "outputs": [
    {
     "data": {
      "text/html": [
       "<div>\n",
       "<style scoped>\n",
       "    .dataframe tbody tr th:only-of-type {\n",
       "        vertical-align: middle;\n",
       "    }\n",
       "\n",
       "    .dataframe tbody tr th {\n",
       "        vertical-align: top;\n",
       "    }\n",
       "\n",
       "    .dataframe thead th {\n",
       "        text-align: right;\n",
       "    }\n",
       "</style>\n",
       "<table border=\"1\" class=\"dataframe\">\n",
       "  <thead>\n",
       "    <tr style=\"text-align: right;\">\n",
       "      <th></th>\n",
       "      <th>mpg</th>\n",
       "      <th>cyl</th>\n",
       "      <th>disp</th>\n",
       "      <th>hp</th>\n",
       "      <th>drat</th>\n",
       "      <th>wt</th>\n",
       "      <th>qsec</th>\n",
       "      <th>vs</th>\n",
       "      <th>am</th>\n",
       "      <th>gear</th>\n",
       "      <th>carb</th>\n",
       "    </tr>\n",
       "  </thead>\n",
       "  <tbody>\n",
       "    <tr>\n",
       "      <th>0</th>\n",
       "      <td>21.0</td>\n",
       "      <td>6</td>\n",
       "      <td>160.0</td>\n",
       "      <td>110</td>\n",
       "      <td>3.90</td>\n",
       "      <td>2.620</td>\n",
       "      <td>16.46</td>\n",
       "      <td>0</td>\n",
       "      <td>1</td>\n",
       "      <td>4</td>\n",
       "      <td>4</td>\n",
       "    </tr>\n",
       "    <tr>\n",
       "      <th>1</th>\n",
       "      <td>21.0</td>\n",
       "      <td>6</td>\n",
       "      <td>160.0</td>\n",
       "      <td>110</td>\n",
       "      <td>3.90</td>\n",
       "      <td>2.875</td>\n",
       "      <td>17.02</td>\n",
       "      <td>0</td>\n",
       "      <td>1</td>\n",
       "      <td>4</td>\n",
       "      <td>4</td>\n",
       "    </tr>\n",
       "    <tr>\n",
       "      <th>2</th>\n",
       "      <td>22.8</td>\n",
       "      <td>4</td>\n",
       "      <td>108.0</td>\n",
       "      <td>93</td>\n",
       "      <td>3.85</td>\n",
       "      <td>2.320</td>\n",
       "      <td>18.61</td>\n",
       "      <td>1</td>\n",
       "      <td>1</td>\n",
       "      <td>4</td>\n",
       "      <td>1</td>\n",
       "    </tr>\n",
       "    <tr>\n",
       "      <th>3</th>\n",
       "      <td>21.4</td>\n",
       "      <td>6</td>\n",
       "      <td>258.0</td>\n",
       "      <td>110</td>\n",
       "      <td>3.08</td>\n",
       "      <td>3.215</td>\n",
       "      <td>19.44</td>\n",
       "      <td>1</td>\n",
       "      <td>0</td>\n",
       "      <td>3</td>\n",
       "      <td>1</td>\n",
       "    </tr>\n",
       "    <tr>\n",
       "      <th>4</th>\n",
       "      <td>18.7</td>\n",
       "      <td>8</td>\n",
       "      <td>360.0</td>\n",
       "      <td>175</td>\n",
       "      <td>3.15</td>\n",
       "      <td>3.440</td>\n",
       "      <td>17.02</td>\n",
       "      <td>0</td>\n",
       "      <td>0</td>\n",
       "      <td>3</td>\n",
       "      <td>2</td>\n",
       "    </tr>\n",
       "  </tbody>\n",
       "</table>\n",
       "</div>"
      ],
      "text/plain": [
       "    mpg  cyl   disp   hp  drat     wt   qsec  vs  am  gear  carb\n",
       "0  21.0    6  160.0  110  3.90  2.620  16.46   0   1     4     4\n",
       "1  21.0    6  160.0  110  3.90  2.875  17.02   0   1     4     4\n",
       "2  22.8    4  108.0   93  3.85  2.320  18.61   1   1     4     1\n",
       "3  21.4    6  258.0  110  3.08  3.215  19.44   1   0     3     1\n",
       "4  18.7    8  360.0  175  3.15  3.440  17.02   0   0     3     2"
      ]
     },
     "execution_count": 391,
     "metadata": {},
     "output_type": "execute_result"
    }
   ],
   "source": [
    "df = df.iloc[:, 1:]\n",
    "df.head()"
   ]
  },
  {
   "cell_type": "markdown",
   "id": "6c3e4027-8f3f-4e21-8ef4-866b2dae59ca",
   "metadata": {},
   "source": [
    "#### Step 2: Check for linearity\n",
    "\n",
    "Check correlation between the predictors and target"
   ]
  },
  {
   "cell_type": "code",
   "execution_count": 392,
   "id": "fcf53907-7cc8-4b04-8d07-ea967c508308",
   "metadata": {},
   "outputs": [
    {
     "data": {
      "text/html": [
       "<div>\n",
       "<style scoped>\n",
       "    .dataframe tbody tr th:only-of-type {\n",
       "        vertical-align: middle;\n",
       "    }\n",
       "\n",
       "    .dataframe tbody tr th {\n",
       "        vertical-align: top;\n",
       "    }\n",
       "\n",
       "    .dataframe thead th {\n",
       "        text-align: right;\n",
       "    }\n",
       "</style>\n",
       "<table border=\"1\" class=\"dataframe\">\n",
       "  <thead>\n",
       "    <tr style=\"text-align: right;\">\n",
       "      <th></th>\n",
       "      <th>mpg</th>\n",
       "      <th>cyl</th>\n",
       "      <th>disp</th>\n",
       "      <th>hp</th>\n",
       "      <th>drat</th>\n",
       "      <th>wt</th>\n",
       "      <th>qsec</th>\n",
       "      <th>vs</th>\n",
       "      <th>am</th>\n",
       "      <th>gear</th>\n",
       "      <th>carb</th>\n",
       "    </tr>\n",
       "  </thead>\n",
       "  <tbody>\n",
       "    <tr>\n",
       "      <th>mpg</th>\n",
       "      <td>1.000000</td>\n",
       "      <td>-0.852162</td>\n",
       "      <td>-0.847551</td>\n",
       "      <td>-0.776168</td>\n",
       "      <td>0.681172</td>\n",
       "      <td>-0.867659</td>\n",
       "      <td>0.418684</td>\n",
       "      <td>0.664039</td>\n",
       "      <td>0.599832</td>\n",
       "      <td>0.480285</td>\n",
       "      <td>-0.550925</td>\n",
       "    </tr>\n",
       "    <tr>\n",
       "      <th>cyl</th>\n",
       "      <td>-0.852162</td>\n",
       "      <td>1.000000</td>\n",
       "      <td>0.902033</td>\n",
       "      <td>0.832447</td>\n",
       "      <td>-0.699938</td>\n",
       "      <td>0.782496</td>\n",
       "      <td>-0.591242</td>\n",
       "      <td>-0.810812</td>\n",
       "      <td>-0.522607</td>\n",
       "      <td>-0.492687</td>\n",
       "      <td>0.526988</td>\n",
       "    </tr>\n",
       "    <tr>\n",
       "      <th>disp</th>\n",
       "      <td>-0.847551</td>\n",
       "      <td>0.902033</td>\n",
       "      <td>1.000000</td>\n",
       "      <td>0.790949</td>\n",
       "      <td>-0.710214</td>\n",
       "      <td>0.887980</td>\n",
       "      <td>-0.433698</td>\n",
       "      <td>-0.710416</td>\n",
       "      <td>-0.591227</td>\n",
       "      <td>-0.555569</td>\n",
       "      <td>0.394977</td>\n",
       "    </tr>\n",
       "    <tr>\n",
       "      <th>hp</th>\n",
       "      <td>-0.776168</td>\n",
       "      <td>0.832447</td>\n",
       "      <td>0.790949</td>\n",
       "      <td>1.000000</td>\n",
       "      <td>-0.448759</td>\n",
       "      <td>0.658748</td>\n",
       "      <td>-0.708223</td>\n",
       "      <td>-0.723097</td>\n",
       "      <td>-0.243204</td>\n",
       "      <td>-0.125704</td>\n",
       "      <td>0.749812</td>\n",
       "    </tr>\n",
       "    <tr>\n",
       "      <th>drat</th>\n",
       "      <td>0.681172</td>\n",
       "      <td>-0.699938</td>\n",
       "      <td>-0.710214</td>\n",
       "      <td>-0.448759</td>\n",
       "      <td>1.000000</td>\n",
       "      <td>-0.712441</td>\n",
       "      <td>0.091205</td>\n",
       "      <td>0.440278</td>\n",
       "      <td>0.712711</td>\n",
       "      <td>0.699610</td>\n",
       "      <td>-0.090790</td>\n",
       "    </tr>\n",
       "    <tr>\n",
       "      <th>wt</th>\n",
       "      <td>-0.867659</td>\n",
       "      <td>0.782496</td>\n",
       "      <td>0.887980</td>\n",
       "      <td>0.658748</td>\n",
       "      <td>-0.712441</td>\n",
       "      <td>1.000000</td>\n",
       "      <td>-0.174716</td>\n",
       "      <td>-0.554916</td>\n",
       "      <td>-0.692495</td>\n",
       "      <td>-0.583287</td>\n",
       "      <td>0.427606</td>\n",
       "    </tr>\n",
       "    <tr>\n",
       "      <th>qsec</th>\n",
       "      <td>0.418684</td>\n",
       "      <td>-0.591242</td>\n",
       "      <td>-0.433698</td>\n",
       "      <td>-0.708223</td>\n",
       "      <td>0.091205</td>\n",
       "      <td>-0.174716</td>\n",
       "      <td>1.000000</td>\n",
       "      <td>0.744535</td>\n",
       "      <td>-0.229861</td>\n",
       "      <td>-0.212682</td>\n",
       "      <td>-0.656249</td>\n",
       "    </tr>\n",
       "    <tr>\n",
       "      <th>vs</th>\n",
       "      <td>0.664039</td>\n",
       "      <td>-0.810812</td>\n",
       "      <td>-0.710416</td>\n",
       "      <td>-0.723097</td>\n",
       "      <td>0.440278</td>\n",
       "      <td>-0.554916</td>\n",
       "      <td>0.744535</td>\n",
       "      <td>1.000000</td>\n",
       "      <td>0.168345</td>\n",
       "      <td>0.206023</td>\n",
       "      <td>-0.569607</td>\n",
       "    </tr>\n",
       "    <tr>\n",
       "      <th>am</th>\n",
       "      <td>0.599832</td>\n",
       "      <td>-0.522607</td>\n",
       "      <td>-0.591227</td>\n",
       "      <td>-0.243204</td>\n",
       "      <td>0.712711</td>\n",
       "      <td>-0.692495</td>\n",
       "      <td>-0.229861</td>\n",
       "      <td>0.168345</td>\n",
       "      <td>1.000000</td>\n",
       "      <td>0.794059</td>\n",
       "      <td>0.057534</td>\n",
       "    </tr>\n",
       "    <tr>\n",
       "      <th>gear</th>\n",
       "      <td>0.480285</td>\n",
       "      <td>-0.492687</td>\n",
       "      <td>-0.555569</td>\n",
       "      <td>-0.125704</td>\n",
       "      <td>0.699610</td>\n",
       "      <td>-0.583287</td>\n",
       "      <td>-0.212682</td>\n",
       "      <td>0.206023</td>\n",
       "      <td>0.794059</td>\n",
       "      <td>1.000000</td>\n",
       "      <td>0.274073</td>\n",
       "    </tr>\n",
       "    <tr>\n",
       "      <th>carb</th>\n",
       "      <td>-0.550925</td>\n",
       "      <td>0.526988</td>\n",
       "      <td>0.394977</td>\n",
       "      <td>0.749812</td>\n",
       "      <td>-0.090790</td>\n",
       "      <td>0.427606</td>\n",
       "      <td>-0.656249</td>\n",
       "      <td>-0.569607</td>\n",
       "      <td>0.057534</td>\n",
       "      <td>0.274073</td>\n",
       "      <td>1.000000</td>\n",
       "    </tr>\n",
       "  </tbody>\n",
       "</table>\n",
       "</div>"
      ],
      "text/plain": [
       "           mpg       cyl      disp        hp      drat        wt      qsec  \\\n",
       "mpg   1.000000 -0.852162 -0.847551 -0.776168  0.681172 -0.867659  0.418684   \n",
       "cyl  -0.852162  1.000000  0.902033  0.832447 -0.699938  0.782496 -0.591242   \n",
       "disp -0.847551  0.902033  1.000000  0.790949 -0.710214  0.887980 -0.433698   \n",
       "hp   -0.776168  0.832447  0.790949  1.000000 -0.448759  0.658748 -0.708223   \n",
       "drat  0.681172 -0.699938 -0.710214 -0.448759  1.000000 -0.712441  0.091205   \n",
       "wt   -0.867659  0.782496  0.887980  0.658748 -0.712441  1.000000 -0.174716   \n",
       "qsec  0.418684 -0.591242 -0.433698 -0.708223  0.091205 -0.174716  1.000000   \n",
       "vs    0.664039 -0.810812 -0.710416 -0.723097  0.440278 -0.554916  0.744535   \n",
       "am    0.599832 -0.522607 -0.591227 -0.243204  0.712711 -0.692495 -0.229861   \n",
       "gear  0.480285 -0.492687 -0.555569 -0.125704  0.699610 -0.583287 -0.212682   \n",
       "carb -0.550925  0.526988  0.394977  0.749812 -0.090790  0.427606 -0.656249   \n",
       "\n",
       "            vs        am      gear      carb  \n",
       "mpg   0.664039  0.599832  0.480285 -0.550925  \n",
       "cyl  -0.810812 -0.522607 -0.492687  0.526988  \n",
       "disp -0.710416 -0.591227 -0.555569  0.394977  \n",
       "hp   -0.723097 -0.243204 -0.125704  0.749812  \n",
       "drat  0.440278  0.712711  0.699610 -0.090790  \n",
       "wt   -0.554916 -0.692495 -0.583287  0.427606  \n",
       "qsec  0.744535 -0.229861 -0.212682 -0.656249  \n",
       "vs    1.000000  0.168345  0.206023 -0.569607  \n",
       "am    0.168345  1.000000  0.794059  0.057534  \n",
       "gear  0.206023  0.794059  1.000000  0.274073  \n",
       "carb -0.569607  0.057534  0.274073  1.000000  "
      ]
     },
     "execution_count": 392,
     "metadata": {},
     "output_type": "execute_result"
    }
   ],
   "source": [
    "df.corr() # this gives correlation of each field with the other fields."
   ]
  },
  {
   "cell_type": "code",
   "execution_count": 393,
   "id": "b52ddb84-f830-4ddd-ab3d-d9f196f45f8d",
   "metadata": {},
   "outputs": [
    {
     "data": {
      "text/plain": [
       "mpg     1.000000\n",
       "cyl    -0.852162\n",
       "disp   -0.847551\n",
       "hp     -0.776168\n",
       "drat    0.681172\n",
       "wt     -0.867659\n",
       "qsec    0.418684\n",
       "vs      0.664039\n",
       "am      0.599832\n",
       "gear    0.480285\n",
       "carb   -0.550925\n",
       "Name: mpg, dtype: float64"
      ]
     },
     "execution_count": 393,
     "metadata": {},
     "output_type": "execute_result"
    }
   ],
   "source": [
    "df.corr().mpg"
   ]
  },
  {
   "cell_type": "markdown",
   "id": "63b5db0f-7583-4e88-8d0f-a645956a662d",
   "metadata": {},
   "source": [
    "the usual rule is anything above |0.5|\n",
    "\n",
    "but here almost all the columns are highly correlated so we shall select only the ones that are |0.7| and above"
   ]
  },
  {
   "cell_type": "code",
   "execution_count": 394,
   "id": "334957f5-a8bf-4d2b-90aa-8c3bf3d92a3a",
   "metadata": {},
   "outputs": [
    {
     "data": {
      "text/html": [
       "<div>\n",
       "<style scoped>\n",
       "    .dataframe tbody tr th:only-of-type {\n",
       "        vertical-align: middle;\n",
       "    }\n",
       "\n",
       "    .dataframe tbody tr th {\n",
       "        vertical-align: top;\n",
       "    }\n",
       "\n",
       "    .dataframe thead th {\n",
       "        text-align: right;\n",
       "    }\n",
       "</style>\n",
       "<table border=\"1\" class=\"dataframe\">\n",
       "  <thead>\n",
       "    <tr style=\"text-align: right;\">\n",
       "      <th></th>\n",
       "      <th>cyl</th>\n",
       "      <th>disp</th>\n",
       "      <th>hp</th>\n",
       "      <th>wt</th>\n",
       "      <th>mpg</th>\n",
       "    </tr>\n",
       "  </thead>\n",
       "  <tbody>\n",
       "    <tr>\n",
       "      <th>0</th>\n",
       "      <td>6</td>\n",
       "      <td>160.0</td>\n",
       "      <td>110</td>\n",
       "      <td>2.620</td>\n",
       "      <td>21.0</td>\n",
       "    </tr>\n",
       "    <tr>\n",
       "      <th>1</th>\n",
       "      <td>6</td>\n",
       "      <td>160.0</td>\n",
       "      <td>110</td>\n",
       "      <td>2.875</td>\n",
       "      <td>21.0</td>\n",
       "    </tr>\n",
       "    <tr>\n",
       "      <th>2</th>\n",
       "      <td>4</td>\n",
       "      <td>108.0</td>\n",
       "      <td>93</td>\n",
       "      <td>2.320</td>\n",
       "      <td>22.8</td>\n",
       "    </tr>\n",
       "    <tr>\n",
       "      <th>3</th>\n",
       "      <td>6</td>\n",
       "      <td>258.0</td>\n",
       "      <td>110</td>\n",
       "      <td>3.215</td>\n",
       "      <td>21.4</td>\n",
       "    </tr>\n",
       "    <tr>\n",
       "      <th>4</th>\n",
       "      <td>8</td>\n",
       "      <td>360.0</td>\n",
       "      <td>175</td>\n",
       "      <td>3.440</td>\n",
       "      <td>18.7</td>\n",
       "    </tr>\n",
       "  </tbody>\n",
       "</table>\n",
       "</div>"
      ],
      "text/plain": [
       "   cyl   disp   hp     wt   mpg\n",
       "0    6  160.0  110  2.620  21.0\n",
       "1    6  160.0  110  2.875  21.0\n",
       "2    4  108.0   93  2.320  22.8\n",
       "3    6  258.0  110  3.215  21.4\n",
       "4    8  360.0  175  3.440  18.7"
      ]
     },
     "execution_count": 394,
     "metadata": {},
     "output_type": "execute_result"
    }
   ],
   "source": [
    "df_linear = df.loc[:,['cyl','disp','hp','wt','mpg']]\n",
    "df_linear.head()"
   ]
  },
  {
   "cell_type": "code",
   "execution_count": 395,
   "id": "d654e4e7-9766-40a0-af64-4f3a58920f92",
   "metadata": {},
   "outputs": [
    {
     "data": {
      "text/plain": [
       "cyl    -0.852162\n",
       "disp   -0.847551\n",
       "hp     -0.776168\n",
       "wt     -0.867659\n",
       "mpg     1.000000\n",
       "Name: mpg, dtype: float64"
      ]
     },
     "execution_count": 395,
     "metadata": {},
     "output_type": "execute_result"
    }
   ],
   "source": [
    "df_linear.corr().mpg"
   ]
  },
  {
   "cell_type": "code",
   "execution_count": 396,
   "id": "04838a63-7821-4856-9caf-899b451a3db5",
   "metadata": {},
   "outputs": [
    {
     "data": {
      "image/png": "[encoded data removed]",
      "text/plain": [
       "<Figure size 432x288 with 4 Axes>"
      ]
     },
     "metadata": {
      "needs_background": "light"
     },
     "output_type": "display_data"
    }
   ],
   "source": [
    "fig, ax = plt.subplots(2,2)\n",
    "\n",
    "ax[0,0].scatter(x=df_linear.cyl, y=df_linear.mpg, label=['cyl','mpg'])\n",
    "ax[0,1].scatter(x=df_linear.disp, y=df_linear.mpg, label=['disp','mpg'])\n",
    "ax[1,0].scatter(x=df_linear.hp, y=df_linear.mpg, label=['hp','mpg'])\n",
    "ax[1,1].scatter(x=df_linear.wt, y=df_linear.mpg, label=['wt','mpg'])\n",
    "\n",
    "plt.show()"
   ]
  },
  {
   "cell_type": "markdown",
   "id": "605fe0fb-d639-4800-a446-7c045ec1af06",
   "metadata": {},
   "source": [
    "#### Step 3: Check for multivariate normality"
   ]
  },
  {
   "cell_type": "code",
   "execution_count": 397,
   "id": "ce066b4d-ab92-4c42-9bf2-d8f7f6f50540",
   "metadata": {},
   "outputs": [
    {
     "name": "stdout",
     "output_type": "stream",
     "text": [
      "cyl  Skewnes is : -0.18312865234479678  and kurtosis  -1.6809684168130405\n",
      "disp  Skewnes is : 0.40027244847286664  and kurtosis  -1.0896826570135087\n",
      "hp  Skewnes is : 0.7614356361333623  and kurtosis  0.05223272840399584\n",
      "wt  Skewnes is : 0.44378553550607647  and kurtosis  0.1724705401587352\n",
      "mpg  Skewnes is : 0.6404398640318834  and kurtosis  -0.20053320971549793\n"
     ]
    }
   ],
   "source": [
    "for i in df_linear:\n",
    "    print(i,' Skewnes is :',stats.skew(df_linear[i]),' and kurtosis ',stats.kurtosis(df_linear[i]))"
   ]
  },
  {
   "cell_type": "code",
   "execution_count": 398,
   "id": "1511dc87-b301-45eb-a3d0-405118ccc56a",
   "metadata": {},
   "outputs": [
    {
     "data": {
      "text/plain": [
       "<AxesSubplot:xlabel='wt', ylabel='Density'>"
      ]
     },
     "execution_count": 398,
     "metadata": {},
     "output_type": "execute_result"
    },
    {
     "data": {
      "image/png": "[encoded data removed]",
      "text/plain": [
       "<Figure size 432x288 with 4 Axes>"
      ]
     },
     "metadata": {
      "needs_background": "light"
     },
     "output_type": "display_data"
    }
   ],
   "source": [
    "fig, axs = plt.subplots(2,2)\n",
    "\n",
    "sns.kdeplot(x = df_linear.cyl, ax=axs[0,0])\n",
    "sns.kdeplot(x = df_linear.disp, ax=axs[0,1])\n",
    "sns.kdeplot(x = df_linear.hp, ax=axs[1,0])\n",
    "sns.kdeplot(x = df_linear.wt, ax=axs[1,1])"
   ]
  },
  {
   "cell_type": "markdown",
   "id": "2b162319-b70b-403c-8db3-6e0b0b65c398",
   "metadata": {},
   "source": [
    "#### Normality test results\n",
    "1. cyl column fails the normality test\n",
    "2. disp barely qualifies for the normality test\n",
    "3. weight qualifies for the normality test\n",
    "4. hp also qualifies for the normality test"
   ]
  },
  {
   "cell_type": "code",
   "execution_count": 399,
   "id": "441ac9ef-b2fd-4728-baeb-dfc235eacaf9",
   "metadata": {},
   "outputs": [
    {
     "data": {
      "text/html": [
       "<div>\n",
       "<style scoped>\n",
       "    .dataframe tbody tr th:only-of-type {\n",
       "        vertical-align: middle;\n",
       "    }\n",
       "\n",
       "    .dataframe tbody tr th {\n",
       "        vertical-align: top;\n",
       "    }\n",
       "\n",
       "    .dataframe thead th {\n",
       "        text-align: right;\n",
       "    }\n",
       "</style>\n",
       "<table border=\"1\" class=\"dataframe\">\n",
       "  <thead>\n",
       "    <tr style=\"text-align: right;\">\n",
       "      <th></th>\n",
       "      <th>disp</th>\n",
       "      <th>hp</th>\n",
       "      <th>wt</th>\n",
       "      <th>mpg</th>\n",
       "    </tr>\n",
       "  </thead>\n",
       "  <tbody>\n",
       "    <tr>\n",
       "      <th>0</th>\n",
       "      <td>160.0</td>\n",
       "      <td>110</td>\n",
       "      <td>2.620</td>\n",
       "      <td>21.0</td>\n",
       "    </tr>\n",
       "    <tr>\n",
       "      <th>1</th>\n",
       "      <td>160.0</td>\n",
       "      <td>110</td>\n",
       "      <td>2.875</td>\n",
       "      <td>21.0</td>\n",
       "    </tr>\n",
       "    <tr>\n",
       "      <th>2</th>\n",
       "      <td>108.0</td>\n",
       "      <td>93</td>\n",
       "      <td>2.320</td>\n",
       "      <td>22.8</td>\n",
       "    </tr>\n",
       "    <tr>\n",
       "      <th>3</th>\n",
       "      <td>258.0</td>\n",
       "      <td>110</td>\n",
       "      <td>3.215</td>\n",
       "      <td>21.4</td>\n",
       "    </tr>\n",
       "    <tr>\n",
       "      <th>4</th>\n",
       "      <td>360.0</td>\n",
       "      <td>175</td>\n",
       "      <td>3.440</td>\n",
       "      <td>18.7</td>\n",
       "    </tr>\n",
       "  </tbody>\n",
       "</table>\n",
       "</div>"
      ],
      "text/plain": [
       "    disp   hp     wt   mpg\n",
       "0  160.0  110  2.620  21.0\n",
       "1  160.0  110  2.875  21.0\n",
       "2  108.0   93  2.320  22.8\n",
       "3  258.0  110  3.215  21.4\n",
       "4  360.0  175  3.440  18.7"
      ]
     },
     "execution_count": 399,
     "metadata": {},
     "output_type": "execute_result"
    }
   ],
   "source": [
    "df_normal = df_linear.iloc[:, 1:]\n",
    "df_normal.head()"
   ]
  },
  {
   "cell_type": "markdown",
   "id": "8dfbd374-ef9d-4b92-a34b-38f05e7ec1ef",
   "metadata": {},
   "source": [
    "#### Step 4: Check for colinearity"
   ]
  },
  {
   "cell_type": "code",
   "execution_count": 400,
   "id": "b074024e-1ba4-44e8-8d71-753dbd999f14",
   "metadata": {},
   "outputs": [
    {
     "data": {
      "text/html": [
       "<div>\n",
       "<style scoped>\n",
       "    .dataframe tbody tr th:only-of-type {\n",
       "        vertical-align: middle;\n",
       "    }\n",
       "\n",
       "    .dataframe tbody tr th {\n",
       "        vertical-align: top;\n",
       "    }\n",
       "\n",
       "    .dataframe thead th {\n",
       "        text-align: right;\n",
       "    }\n",
       "</style>\n",
       "<table border=\"1\" class=\"dataframe\">\n",
       "  <thead>\n",
       "    <tr style=\"text-align: right;\">\n",
       "      <th></th>\n",
       "      <th>disp</th>\n",
       "      <th>hp</th>\n",
       "      <th>wt</th>\n",
       "    </tr>\n",
       "  </thead>\n",
       "  <tbody>\n",
       "    <tr>\n",
       "      <th>disp</th>\n",
       "      <td>1.000000</td>\n",
       "      <td>0.790949</td>\n",
       "      <td>0.887980</td>\n",
       "    </tr>\n",
       "    <tr>\n",
       "      <th>hp</th>\n",
       "      <td>0.790949</td>\n",
       "      <td>1.000000</td>\n",
       "      <td>0.658748</td>\n",
       "    </tr>\n",
       "    <tr>\n",
       "      <th>wt</th>\n",
       "      <td>0.887980</td>\n",
       "      <td>0.658748</td>\n",
       "      <td>1.000000</td>\n",
       "    </tr>\n",
       "  </tbody>\n",
       "</table>\n",
       "</div>"
      ],
      "text/plain": [
       "          disp        hp        wt\n",
       "disp  1.000000  0.790949  0.887980\n",
       "hp    0.790949  1.000000  0.658748\n",
       "wt    0.887980  0.658748  1.000000"
      ]
     },
     "execution_count": 400,
     "metadata": {},
     "output_type": "execute_result"
    }
   ],
   "source": [
    "df_normal.iloc[:,:-1].corr()"
   ]
  },
  {
   "cell_type": "code",
   "execution_count": 401,
   "id": "248320da-b91b-4821-8149-d290cf56c265",
   "metadata": {},
   "outputs": [
    {
     "data": {
      "text/plain": [
       "<AxesSubplot:>"
      ]
     },
     "execution_count": 401,
     "metadata": {},
     "output_type": "execute_result"
    },
    {
     "data": {
      "image/png": "[encoded data removed]",
      "text/plain": [
       "<Figure size 432x288 with 2 Axes>"
      ]
     },
     "metadata": {
      "needs_background": "light"
     },
     "output_type": "display_data"
    }
   ],
   "source": [
    "corr = df_normal.iloc[:,:-1].corr()\n",
    "sns.heatmap(corr, annot=True) # annot = True would show the corr value in the heat map"
   ]
  },
  {
   "cell_type": "markdown",
   "id": "24d70c59-f024-454b-a68f-2e8d0bba57fe",
   "metadata": {},
   "source": [
    "#### __the darker the heatmap area the lesser the correlation__"
   ]
  },
  {
   "cell_type": "code",
   "execution_count": 402,
   "id": "aea26d11-071c-4705-a4d9-c783b6541ede",
   "metadata": {},
   "outputs": [
    {
     "data": {
      "text/html": [
       "<div>\n",
       "<style scoped>\n",
       "    .dataframe tbody tr th:only-of-type {\n",
       "        vertical-align: middle;\n",
       "    }\n",
       "\n",
       "    .dataframe tbody tr th {\n",
       "        vertical-align: top;\n",
       "    }\n",
       "\n",
       "    .dataframe thead th {\n",
       "        text-align: right;\n",
       "    }\n",
       "</style>\n",
       "<table border=\"1\" class=\"dataframe\">\n",
       "  <thead>\n",
       "    <tr style=\"text-align: right;\">\n",
       "      <th></th>\n",
       "      <th>disp</th>\n",
       "      <th>hp</th>\n",
       "      <th>wt</th>\n",
       "      <th>mpg</th>\n",
       "    </tr>\n",
       "  </thead>\n",
       "  <tbody>\n",
       "    <tr>\n",
       "      <th>disp</th>\n",
       "      <td>1.000000</td>\n",
       "      <td>0.790949</td>\n",
       "      <td>0.887980</td>\n",
       "      <td>-0.847551</td>\n",
       "    </tr>\n",
       "    <tr>\n",
       "      <th>hp</th>\n",
       "      <td>0.790949</td>\n",
       "      <td>1.000000</td>\n",
       "      <td>0.658748</td>\n",
       "      <td>-0.776168</td>\n",
       "    </tr>\n",
       "    <tr>\n",
       "      <th>wt</th>\n",
       "      <td>0.887980</td>\n",
       "      <td>0.658748</td>\n",
       "      <td>1.000000</td>\n",
       "      <td>-0.867659</td>\n",
       "    </tr>\n",
       "    <tr>\n",
       "      <th>mpg</th>\n",
       "      <td>-0.847551</td>\n",
       "      <td>-0.776168</td>\n",
       "      <td>-0.867659</td>\n",
       "      <td>1.000000</td>\n",
       "    </tr>\n",
       "  </tbody>\n",
       "</table>\n",
       "</div>"
      ],
      "text/plain": [
       "          disp        hp        wt       mpg\n",
       "disp  1.000000  0.790949  0.887980 -0.847551\n",
       "hp    0.790949  1.000000  0.658748 -0.776168\n",
       "wt    0.887980  0.658748  1.000000 -0.867659\n",
       "mpg  -0.847551 -0.776168 -0.867659  1.000000"
      ]
     },
     "execution_count": 402,
     "metadata": {},
     "output_type": "execute_result"
    }
   ],
   "source": [
    "df_normal.corr()"
   ]
  },
  {
   "cell_type": "markdown",
   "id": "574418ac-7eb2-479b-bd46-ddcc1942776a",
   "metadata": {},
   "source": [
    "#### __here we are gonna keep weight and remove disp as disp has lower corr with mpg as compared to wt__\n",
    "\n",
    "_Explanation:_ Here we have two variables with lesser corr as compared to hp and they are disp and wt \n",
    "Now to select one out of the two we check their corr with our target and the one with lesser corr with the target is removed"
   ]
  },
  {
   "cell_type": "code",
   "execution_count": 403,
   "id": "f3768e25-ec70-4afc-b961-b46ac67dd541",
   "metadata": {
    "tags": []
   },
   "outputs": [
    {
     "data": {
      "text/html": [
       "<div>\n",
       "<style scoped>\n",
       "    .dataframe tbody tr th:only-of-type {\n",
       "        vertical-align: middle;\n",
       "    }\n",
       "\n",
       "    .dataframe tbody tr th {\n",
       "        vertical-align: top;\n",
       "    }\n",
       "\n",
       "    .dataframe thead th {\n",
       "        text-align: right;\n",
       "    }\n",
       "</style>\n",
       "<table border=\"1\" class=\"dataframe\">\n",
       "  <thead>\n",
       "    <tr style=\"text-align: right;\">\n",
       "      <th></th>\n",
       "      <th>hp</th>\n",
       "      <th>wt</th>\n",
       "      <th>mpg</th>\n",
       "    </tr>\n",
       "  </thead>\n",
       "  <tbody>\n",
       "    <tr>\n",
       "      <th>0</th>\n",
       "      <td>110</td>\n",
       "      <td>2.620</td>\n",
       "      <td>21.0</td>\n",
       "    </tr>\n",
       "    <tr>\n",
       "      <th>1</th>\n",
       "      <td>110</td>\n",
       "      <td>2.875</td>\n",
       "      <td>21.0</td>\n",
       "    </tr>\n",
       "    <tr>\n",
       "      <th>2</th>\n",
       "      <td>93</td>\n",
       "      <td>2.320</td>\n",
       "      <td>22.8</td>\n",
       "    </tr>\n",
       "    <tr>\n",
       "      <th>3</th>\n",
       "      <td>110</td>\n",
       "      <td>3.215</td>\n",
       "      <td>21.4</td>\n",
       "    </tr>\n",
       "    <tr>\n",
       "      <th>4</th>\n",
       "      <td>175</td>\n",
       "      <td>3.440</td>\n",
       "      <td>18.7</td>\n",
       "    </tr>\n",
       "  </tbody>\n",
       "</table>\n",
       "</div>"
      ],
      "text/plain": [
       "    hp     wt   mpg\n",
       "0  110  2.620  21.0\n",
       "1  110  2.875  21.0\n",
       "2   93  2.320  22.8\n",
       "3  110  3.215  21.4\n",
       "4  175  3.440  18.7"
      ]
     },
     "execution_count": 403,
     "metadata": {},
     "output_type": "execute_result"
    }
   ],
   "source": [
    "df_corr = df_normal.iloc[:,1:]\n",
    "df_corr.head()"
   ]
  },
  {
   "cell_type": "markdown",
   "id": "d6fad30b-0eb7-4922-8739-7c44c765ef60",
   "metadata": {},
   "source": [
    "#### __Step 5:__ Building an ML model "
   ]
  },
  {
   "cell_type": "markdown",
   "id": "a53ba434-96d8-4a07-8058-886381b1dad5",
   "metadata": {},
   "source": [
    "#### Steps for Building ML model\n",
    "\n",
    "1. Separate the predictors and targets\n",
    "2. Separate train and test data\n",
    "3. Train the ML model\n",
    "4. Evaluate the model"
   ]
  },
  {
   "cell_type": "markdown",
   "id": "be27dc70-2123-4873-a92b-04d951409f83",
   "metadata": {},
   "source": [
    "#### __1. Split Predictors and Targets__"
   ]
  },
  {
   "cell_type": "code",
   "execution_count": 404,
   "id": "aa473a7b-053a-4118-8987-8b6f38ab6b40",
   "metadata": {},
   "outputs": [],
   "source": [
    "# predictor\n",
    "X = df_corr.iloc[:,:-1]\n",
    "\n",
    "# target\n",
    "y = df_corr.mpg"
   ]
  },
  {
   "cell_type": "markdown",
   "id": "b0fd4517-5d90-4dd9-88de-5d508e49465d",
   "metadata": {},
   "source": [
    "#### __2. Train Test Split__"
   ]
  },
  {
   "cell_type": "code",
   "execution_count": 405,
   "id": "e1ee950a-0506-49c4-9f52-70834e47d9be",
   "metadata": {},
   "outputs": [],
   "source": [
    "from sklearn.model_selection import train_test_split\n",
    "X_train, X_test, y_train, y_test = train_test_split(X, y, test_size=0.2, random_state=14)"
   ]
  },
  {
   "cell_type": "code",
   "execution_count": 406,
   "id": "42e9d087-45cb-493a-be21-4f99cdbdb656",
   "metadata": {},
   "outputs": [
    {
     "data": {
      "text/plain": [
       "(25, 2)"
      ]
     },
     "execution_count": 406,
     "metadata": {},
     "output_type": "execute_result"
    }
   ],
   "source": [
    "X_train.shape"
   ]
  },
  {
   "cell_type": "code",
   "execution_count": 407,
   "id": "fa93355e-5fdc-4582-8d80-fd6687acef0e",
   "metadata": {},
   "outputs": [
    {
     "data": {
      "text/plain": [
       "(7, 2)"
      ]
     },
     "execution_count": 407,
     "metadata": {},
     "output_type": "execute_result"
    }
   ],
   "source": [
    "X_test.shape"
   ]
  },
  {
   "cell_type": "code",
   "execution_count": 408,
   "id": "6f0896d2-3da9-4a57-83e0-586b72315977",
   "metadata": {},
   "outputs": [
    {
     "data": {
      "text/plain": [
       "(25,)"
      ]
     },
     "execution_count": 408,
     "metadata": {},
     "output_type": "execute_result"
    }
   ],
   "source": [
    "y_train.shape"
   ]
  },
  {
   "cell_type": "code",
   "execution_count": 409,
   "id": "b2ab22cb-5409-40aa-b21b-0bf2d10fd382",
   "metadata": {},
   "outputs": [
    {
     "data": {
      "text/plain": [
       "(7,)"
      ]
     },
     "execution_count": 409,
     "metadata": {},
     "output_type": "execute_result"
    }
   ],
   "source": [
    "y_test.shape"
   ]
  },
  {
   "cell_type": "markdown",
   "id": "4e8100e8-7f27-4c40-b4f6-0c287ac380f5",
   "metadata": {},
   "source": [
    "#### __3. Train the model__"
   ]
  },
  {
   "cell_type": "code",
   "execution_count": 410,
   "id": "df4f50a4-7fe2-4fbf-ab16-b6b106a7e863",
   "metadata": {},
   "outputs": [
    {
     "name": "stdout",
     "output_type": "stream",
     "text": [
      "Model trained successfully!\n"
     ]
    }
   ],
   "source": [
    "# initialize the model\n",
    "model = LinearRegression()\n",
    "\n",
    "# Train the model\n",
    "model.fit(X_train, y_train)\n",
    "print('Model trained successfully!')"
   ]
  },
  {
   "cell_type": "markdown",
   "id": "d6182ba6-2645-4218-8caa-ff716e89c90d",
   "metadata": {},
   "source": [
    "#### __4. Evaluate__"
   ]
  },
  {
   "cell_type": "code",
   "execution_count": 411,
   "id": "a0378b58-d723-4eb6-93fc-8daab565a6f2",
   "metadata": {},
   "outputs": [],
   "source": [
    "# model.predict(X_test, y_test)"
   ]
  },
  {
   "cell_type": "markdown",
   "id": "5864b8ac-0ca3-492d-8446-a2506eef341f",
   "metadata": {},
   "source": [
    "##### To evaluate a model we use the r-squared value\n",
    "\n",
    "1. r-squared is between -infinity to 1\n",
    "2. anything close to 1 is a perfect model"
   ]
  },
  {
   "cell_type": "code",
   "execution_count": 412,
   "id": "f593650a-49a8-4f5b-be93-c2074c99746c",
   "metadata": {},
   "outputs": [
    {
     "data": {
      "text/plain": [
       "array([24.70597747, 20.57455469, 26.88320068, 27.26781514, 21.06426477,\n",
       "       16.39760929, 22.24545319])"
      ]
     },
     "execution_count": 412,
     "metadata": {},
     "output_type": "execute_result"
    }
   ],
   "source": [
    "from sklearn.metrics import r2_score\n",
    "\n",
    "y_predict = model.predict(X_test)\n",
    "y_predict"
   ]
  },
  {
   "cell_type": "code",
   "execution_count": 413,
   "id": "3a597b2c-92be-4fe5-abc1-c65124a43e16",
   "metadata": {},
   "outputs": [
    {
     "data": {
      "text/plain": [
       "2     22.8\n",
       "29    19.7\n",
       "27    30.4\n",
       "19    33.9\n",
       "3     21.4\n",
       "28    15.8\n",
       "1     21.0\n",
       "Name: mpg, dtype: float64"
      ]
     },
     "execution_count": 413,
     "metadata": {},
     "output_type": "execute_result"
    }
   ],
   "source": [
    "y_test"
   ]
  },
  {
   "cell_type": "code",
   "execution_count": 414,
   "id": "d276e676-3628-403d-bd80-01246fb0f907",
   "metadata": {},
   "outputs": [
    {
     "data": {
      "text/plain": [
       "0.7391162461269318"
      ]
     },
     "execution_count": 414,
     "metadata": {},
     "output_type": "execute_result"
    }
   ],
   "source": [
    "r2_score(y_test, y_predict)"
   ]
  },
  {
   "cell_type": "markdown",
   "id": "900daa1b-c784-4295-87f8-0516b9be44cf",
   "metadata": {},
   "source": [
    "# so we can safely say that model is 74% accurate"
   ]
  },
  {
   "cell_type": "markdown",
   "id": "00d4b9e8-fca7-4132-a915-91b8c567b336",
   "metadata": {},
   "source": [
    "# lets try and predict mpg for a car whose weight is 1.5 and hp is 200\n"
   ]
  },
  {
   "cell_type": "code",
   "execution_count": 415,
   "id": "73d8401c-be31-41c1-89d3-3ab450fa3be9",
   "metadata": {},
   "outputs": [
    {
     "data": {
      "text/plain": [
       "array([24.20368803])"
      ]
     },
     "execution_count": 415,
     "metadata": {},
     "output_type": "execute_result"
    }
   ],
   "source": [
    "hp = 200\n",
    "wt = 1.5\n",
    "model.predict([[hp, wt]])"
   ]
  },
  {
   "cell_type": "markdown",
   "id": "397b0448-1a47-413a-8130-7a6f7f423b76",
   "metadata": {},
   "source": [
    "# So now we can say that we are 74% sure that this new car has mpg of around 24.2 mpg"
   ]
  },
  {
   "cell_type": "markdown",
   "id": "0a98f9ef-ee46-4906-906c-7fe66a4938e0",
   "metadata": {},
   "source": [
    "Here one can try and remove the random_state kwarg and see that the model r2_score fluctuates heavily \n",
    "\n",
    "This happens with us as we do not have good number of data points to work with. \n",
    "\n",
    "We have only 32 data points out of which we take 25 of them to train our model and hence the heavy r2_score fluctuation\n",
    "\n",
    "Also, This model is no good due to the above reason - r2_score fluctuates due to less number of data points"
   ]
  },
  {
   "cell_type": "markdown",
   "id": "5f61e853-15f7-4232-a449-1cc1eb8ba2d9",
   "metadata": {},
   "source": [
    "# Outlier Removal\n",
    "\n",
    "1. Z score detection\n",
    "    - convert all values in their corresponding z-scores\n",
    "    - we take only those values whose z-score is range |3-std_dev|"
   ]
  },
  {
   "cell_type": "markdown",
   "id": "08e2d175-c2fa-4171-9736-fcb02755402d",
   "metadata": {},
   "source": [
    "## Z-Score detection"
   ]
  },
  {
   "cell_type": "markdown",
   "id": "735dced3-a427-46e9-89e3-0d97bd97310a",
   "metadata": {},
   "source": [
    "Here we need to convert all of our values into their corresponding z scores\n",
    "\n",
    "here we need to remove outliers from our predictors"
   ]
  },
  {
   "cell_type": "code",
   "execution_count": 416,
   "id": "1a6cbfc4-65cc-4b66-9f99-68cebab1b963",
   "metadata": {},
   "outputs": [
    {
     "data": {
      "text/plain": [
       "array([-0.54365487, -0.54365487, -0.7955699 , -0.54365487,  0.41954967,\n",
       "       -0.61774753,  1.45684686, -1.25494437, -0.76593284, -0.35101396,\n",
       "       -0.35101396,  0.49364233,  0.49364233,  0.49364233,  0.86410561,\n",
       "        1.01229092,  1.23456889, -1.19567025, -1.40312969, -1.21048878,\n",
       "       -0.73629578,  0.04908639,  0.04908639,  1.45684686,  0.41954967,\n",
       "       -1.19567025, -0.82520696, -0.49919927,  1.73839896,  0.41954967,\n",
       "        2.79051468, -0.5584734 ])"
      ]
     },
     "execution_count": 416,
     "metadata": {},
     "output_type": "execute_result"
    }
   ],
   "source": [
    "stats.zscore(df_corr.hp)"
   ]
  },
  {
   "cell_type": "code",
   "execution_count": 417,
   "id": "fd664976-c211-4d30-a2e2-1398126d6c99",
   "metadata": {},
   "outputs": [],
   "source": [
    "hp_zscore = stats.zscore(df_corr.hp)"
   ]
  },
  {
   "cell_type": "code",
   "execution_count": 418,
   "id": "e1828ebc-3121-4071-b440-21c27f7f815f",
   "metadata": {},
   "outputs": [
    {
     "data": {
      "text/plain": [
       "array([-0.54365487, -0.54365487, -0.7955699 , -0.54365487,  0.41954967,\n",
       "       -0.61774753,  1.45684686, -1.25494437, -0.76593284, -0.35101396,\n",
       "       -0.35101396,  0.49364233,  0.49364233,  0.49364233,  0.86410561,\n",
       "        1.01229092,  1.23456889, -1.19567025, -1.40312969, -1.21048878,\n",
       "       -0.73629578,  0.04908639,  0.04908639,  1.45684686,  0.41954967,\n",
       "       -1.19567025, -0.82520696, -0.49919927,  1.73839896,  0.41954967,\n",
       "        2.79051468, -0.5584734 ])"
      ]
     },
     "execution_count": 418,
     "metadata": {},
     "output_type": "execute_result"
    }
   ],
   "source": [
    "hp_zscore"
   ]
  },
  {
   "cell_type": "markdown",
   "id": "e1b77183-172f-413b-be8c-9a876f307a2a",
   "metadata": {},
   "source": [
    "for a certain value we shall use np.abs() method to get their absolute values"
   ]
  },
  {
   "cell_type": "code",
   "execution_count": 419,
   "id": "3b6fd92b-7339-4108-9f3a-1aa545e061ac",
   "metadata": {},
   "outputs": [
    {
     "data": {
      "text/plain": [
       "array([0.54365487, 0.54365487, 0.7955699 , 0.54365487, 0.41954967,\n",
       "       0.61774753, 1.45684686, 1.25494437, 0.76593284, 0.35101396,\n",
       "       0.35101396, 0.49364233, 0.49364233, 0.49364233, 0.86410561,\n",
       "       1.01229092, 1.23456889, 1.19567025, 1.40312969, 1.21048878,\n",
       "       0.73629578, 0.04908639, 0.04908639, 1.45684686, 0.41954967,\n",
       "       1.19567025, 0.82520696, 0.49919927, 1.73839896, 0.41954967,\n",
       "       2.79051468, 0.5584734 ])"
      ]
     },
     "execution_count": 419,
     "metadata": {},
     "output_type": "execute_result"
    }
   ],
   "source": [
    "np.abs(hp_zscore)"
   ]
  },
  {
   "cell_type": "code",
   "execution_count": 420,
   "id": "b84e7784-dd23-4fe8-ab97-2023abb9a391",
   "metadata": {},
   "outputs": [],
   "source": [
    "wt_zscore = stats.zscore(df_corr.wt)"
   ]
  },
  {
   "cell_type": "code",
   "execution_count": 421,
   "id": "de112f22-3023-465d-bbd2-aa3d2b9ae57d",
   "metadata": {},
   "outputs": [
    {
     "data": {
      "text/plain": [
       "array([0.62016658, 0.35538219, 0.93167763, 0.00233633, 0.23129695,\n",
       "       0.25206436, 0.36628508, 0.02829559, 0.06983039, 0.23129695,\n",
       "       0.23129695, 0.88547016, 0.5324243 , 0.58434281, 2.11074695,\n",
       "       2.29142336, 2.20939212, 1.05628205, 1.6637286 , 1.43528716,\n",
       "       0.78111396, 0.31436657, 0.2261051 , 0.64664502, 0.65183687,\n",
       "       1.33145014, 1.11858426, 1.76964235, 0.04906299, 0.46441106,\n",
       "       0.36628508, 0.45402735])"
      ]
     },
     "execution_count": 421,
     "metadata": {},
     "output_type": "execute_result"
    }
   ],
   "source": [
    "np.abs(wt_zscore)"
   ]
  },
  {
   "cell_type": "markdown",
   "id": "37131998-5821-4e4b-ba55-e5495f250a91",
   "metadata": {},
   "source": [
    "_now there are no outliers in the data so if there were and if your data is really big then using\n",
    "np and pandas we can directly create a data frame for the same as below_"
   ]
  },
  {
   "cell_type": "code",
   "execution_count": 422,
   "id": "8b5cd96c-544a-4eff-af01-3132c66f7f04",
   "metadata": {},
   "outputs": [],
   "source": [
    "df_z = df_corr[np.abs(hp_zscore) <= 3]"
   ]
  },
  {
   "cell_type": "code",
   "execution_count": 423,
   "id": "e96148ca-be3a-4812-ab20-2951f36d2085",
   "metadata": {},
   "outputs": [],
   "source": [
    "df_z = df_z[np.abs(wt_zscore) <= 3]"
   ]
  },
  {
   "cell_type": "code",
   "execution_count": 424,
   "id": "f71d1ee9-6d4d-4693-9510-6212aff5b81c",
   "metadata": {},
   "outputs": [
    {
     "data": {
      "text/plain": [
       "(32, 3)"
      ]
     },
     "execution_count": 424,
     "metadata": {},
     "output_type": "execute_result"
    }
   ],
   "source": [
    "df_z.shape"
   ]
  },
  {
   "cell_type": "markdown",
   "id": "9c2ddfb6-6b80-42d5-ab7d-e4c5e973701c",
   "metadata": {},
   "source": [
    "_Here since we have no outliers our dataframe remains the same but in case of outliers\n",
    "the size of the data frame will reduce as the outliers i.e. any record with z-score more than 3\n",
    "will be removed_"
   ]
  },
  {
   "cell_type": "code",
   "execution_count": 425,
   "id": "393eae53-1db6-45fc-87b4-e77dad2b5765",
   "metadata": {},
   "outputs": [],
   "source": [
    "mpg_zscore = stats.zscore(df_z.mpg)"
   ]
  },
  {
   "cell_type": "code",
   "execution_count": 426,
   "id": "d8d20f20-aba4-42d7-8a00-3af962cf297d",
   "metadata": {},
   "outputs": [
    {
     "data": {
      "text/html": [
       "<div>\n",
       "<style scoped>\n",
       "    .dataframe tbody tr th:only-of-type {\n",
       "        vertical-align: middle;\n",
       "    }\n",
       "\n",
       "    .dataframe tbody tr th {\n",
       "        vertical-align: top;\n",
       "    }\n",
       "\n",
       "    .dataframe thead th {\n",
       "        text-align: right;\n",
       "    }\n",
       "</style>\n",
       "<table border=\"1\" class=\"dataframe\">\n",
       "  <thead>\n",
       "    <tr style=\"text-align: right;\">\n",
       "      <th></th>\n",
       "      <th>hp</th>\n",
       "      <th>wt</th>\n",
       "      <th>mpg</th>\n",
       "    </tr>\n",
       "  </thead>\n",
       "  <tbody>\n",
       "    <tr>\n",
       "      <th>0</th>\n",
       "      <td>110</td>\n",
       "      <td>2.620</td>\n",
       "      <td>21.0</td>\n",
       "    </tr>\n",
       "    <tr>\n",
       "      <th>1</th>\n",
       "      <td>110</td>\n",
       "      <td>2.875</td>\n",
       "      <td>21.0</td>\n",
       "    </tr>\n",
       "    <tr>\n",
       "      <th>2</th>\n",
       "      <td>93</td>\n",
       "      <td>2.320</td>\n",
       "      <td>22.8</td>\n",
       "    </tr>\n",
       "    <tr>\n",
       "      <th>3</th>\n",
       "      <td>110</td>\n",
       "      <td>3.215</td>\n",
       "      <td>21.4</td>\n",
       "    </tr>\n",
       "    <tr>\n",
       "      <th>4</th>\n",
       "      <td>175</td>\n",
       "      <td>3.440</td>\n",
       "      <td>18.7</td>\n",
       "    </tr>\n",
       "  </tbody>\n",
       "</table>\n",
       "</div>"
      ],
      "text/plain": [
       "    hp     wt   mpg\n",
       "0  110  2.620  21.0\n",
       "1  110  2.875  21.0\n",
       "2   93  2.320  22.8\n",
       "3  110  3.215  21.4\n",
       "4  175  3.440  18.7"
      ]
     },
     "execution_count": 426,
     "metadata": {},
     "output_type": "execute_result"
    }
   ],
   "source": [
    "df_z = df_z[np.abs(mpg_zscore) <= 3]\n",
    "df_z.shape\n",
    "df_z.head()"
   ]
  },
  {
   "cell_type": "markdown",
   "id": "5ff423d2-9d05-4336-ad13-eddad44d261a",
   "metadata": {},
   "source": [
    "# Box plot\n",
    "we can use boxplot to check if there are any outliers in our data"
   ]
  },
  {
   "cell_type": "code",
   "execution_count": 427,
   "id": "00846ac5-9113-4355-824a-fdb343b4bbd2",
   "metadata": {},
   "outputs": [
    {
     "name": "stderr",
     "output_type": "stream",
     "text": [
      "C:\\ProgramData\\Anaconda3\\lib\\site-packages\\seaborn\\_decorators.py:36: FutureWarning: Pass the following variable as a keyword arg: x. From version 0.12, the only valid positional argument will be `data`, and passing other arguments without an explicit keyword will result in an error or misinterpretation.\n",
      "  warnings.warn(\n",
      "C:\\ProgramData\\Anaconda3\\lib\\site-packages\\seaborn\\_decorators.py:36: FutureWarning: Pass the following variable as a keyword arg: x. From version 0.12, the only valid positional argument will be `data`, and passing other arguments without an explicit keyword will result in an error or misinterpretation.\n",
      "  warnings.warn(\n",
      "C:\\ProgramData\\Anaconda3\\lib\\site-packages\\seaborn\\_decorators.py:36: FutureWarning: Pass the following variable as a keyword arg: x. From version 0.12, the only valid positional argument will be `data`, and passing other arguments without an explicit keyword will result in an error or misinterpretation.\n",
      "  warnings.warn(\n"
     ]
    },
    {
     "data": {
      "text/plain": [
       "<AxesSubplot:xlabel='mpg'>"
      ]
     },
     "execution_count": 427,
     "metadata": {},
     "output_type": "execute_result"
    },
    {
     "data": {
      "image/png": "[encoded data removed]",
      "text/plain": [
       "<Figure size 432x288 with 4 Axes>"
      ]
     },
     "metadata": {
      "needs_background": "light"
     },
     "output_type": "display_data"
    }
   ],
   "source": [
    "fig, axs = plt.subplots(2,2)\n",
    "\n",
    "sns.boxplot(df_z.hp, ax=axs[0,0])\n",
    "sns.boxplot(df_z.wt, ax=axs[0,1])\n",
    "sns.boxplot(df_z.mpg, ax=axs[1,0])"
   ]
  },
  {
   "cell_type": "markdown",
   "id": "8c582590-f13a-4351-8ef0-397a1d6b9d6e",
   "metadata": {},
   "source": [
    "# Percentile\n",
    "\n",
    "this is a method that we apply to the box plot or our dataset\n",
    "to get the outliers"
   ]
  },
  {
   "cell_type": "code",
   "execution_count": 428,
   "id": "33b3cba2-d049-489b-8483-0e3cf93442db",
   "metadata": {},
   "outputs": [],
   "source": [
    "perc99 = df_z.hp.quantile(0.998)"
   ]
  },
  {
   "cell_type": "code",
   "execution_count": 429,
   "id": "0f703dab-c68c-4965-8368-b50246e88fc4",
   "metadata": {},
   "outputs": [
    {
     "data": {
      "text/plain": [
       "330.5979999999999"
      ]
     },
     "execution_count": 429,
     "metadata": {},
     "output_type": "execute_result"
    }
   ],
   "source": [
    "perc99"
   ]
  },
  {
   "cell_type": "code",
   "execution_count": 430,
   "id": "a199167d-23fe-469e-8dc7-1424159b081f",
   "metadata": {},
   "outputs": [
    {
     "data": {
      "text/plain": [
       "(31, 3)"
      ]
     },
     "execution_count": 430,
     "metadata": {},
     "output_type": "execute_result"
    }
   ],
   "source": [
    "df_z = df_z[df_z.hp <= perc99]\n",
    "df_z.shape"
   ]
  },
  {
   "cell_type": "code",
   "execution_count": 431,
   "id": "88014aac-0451-442c-89de-45f3e23ecfe2",
   "metadata": {},
   "outputs": [
    {
     "name": "stderr",
     "output_type": "stream",
     "text": [
      "C:\\ProgramData\\Anaconda3\\lib\\site-packages\\seaborn\\_decorators.py:36: FutureWarning: Pass the following variable as a keyword arg: x. From version 0.12, the only valid positional argument will be `data`, and passing other arguments without an explicit keyword will result in an error or misinterpretation.\n",
      "  warnings.warn(\n"
     ]
    },
    {
     "data": {
      "text/plain": [
       "<AxesSubplot:xlabel='hp'>"
      ]
     },
     "execution_count": 431,
     "metadata": {},
     "output_type": "execute_result"
    },
    {
     "data": {
      "image/png": "[encoded data removed]",
      "text/plain": [
       "<Figure size 432x288 with 1 Axes>"
      ]
     },
     "metadata": {
      "needs_background": "light"
     },
     "output_type": "display_data"
    }
   ],
   "source": [
    "sns.boxplot(df_z.hp)"
   ]
  },
  {
   "cell_type": "markdown",
   "id": "7eae48de-b7fc-4b0f-a466-6032b2c90623",
   "metadata": {},
   "source": [
    "### now we can see that the one outlier that went undetected in the previous methods has been removed"
   ]
  },
  {
   "cell_type": "markdown",
   "id": "f11af5dd-cb94-4fae-906d-d51608ec770c",
   "metadata": {},
   "source": [
    "### now lets apply the same to our weight"
   ]
  },
  {
   "cell_type": "code",
   "execution_count": 432,
   "id": "42101b15-020d-4840-b556-120b4be73c48",
   "metadata": {},
   "outputs": [
    {
     "data": {
      "text/plain": [
       "5.132000000000002"
      ]
     },
     "execution_count": 432,
     "metadata": {},
     "output_type": "execute_result"
    }
   ],
   "source": [
    "perc99_wt = df_z.wt.quantile(0.93)\n",
    "perc99_wt"
   ]
  },
  {
   "cell_type": "code",
   "execution_count": 433,
   "id": "71379b2c-eff8-45f8-852b-fc0368fd2fff",
   "metadata": {},
   "outputs": [
    {
     "name": "stderr",
     "output_type": "stream",
     "text": [
      "C:\\ProgramData\\Anaconda3\\lib\\site-packages\\seaborn\\_decorators.py:36: FutureWarning: Pass the following variable as a keyword arg: x. From version 0.12, the only valid positional argument will be `data`, and passing other arguments without an explicit keyword will result in an error or misinterpretation.\n",
      "  warnings.warn(\n"
     ]
    },
    {
     "data": {
      "text/plain": [
       "<AxesSubplot:xlabel='wt'>"
      ]
     },
     "execution_count": 433,
     "metadata": {},
     "output_type": "execute_result"
    },
    {
     "data": {
      "image/png": "[encoded data removed]",
      "text/plain": [
       "<Figure size 432x288 with 1 Axes>"
      ]
     },
     "metadata": {
      "needs_background": "light"
     },
     "output_type": "display_data"
    }
   ],
   "source": [
    "df_z = df_z[df_z.wt <= perc99_wt]\n",
    "sns.boxplot(df_z.wt)"
   ]
  },
  {
   "cell_type": "code",
   "execution_count": 434,
   "id": "c21bad65-d76e-41f1-81f5-0346f1c3cd45",
   "metadata": {},
   "outputs": [
    {
     "data": {
      "text/plain": [
       "(28, 3)"
      ]
     },
     "execution_count": 434,
     "metadata": {},
     "output_type": "execute_result"
    }
   ],
   "source": [
    "df_z.shape"
   ]
  },
  {
   "cell_type": "markdown",
   "id": "a15d2ea0-053e-4a3a-9eab-35094b10912e",
   "metadata": {},
   "source": [
    "Now lets run linear regression on this again"
   ]
  },
  {
   "cell_type": "markdown",
   "id": "28fa18ec-a11d-405b-b8ad-e66222796a2d",
   "metadata": {},
   "source": [
    "1. split predictors and target\n",
    "2. perform a train test split\n",
    "3. train the model\n",
    "4. evaluate the model using r2_score"
   ]
  },
  {
   "cell_type": "code",
   "execution_count": 435,
   "id": "1948d4b8-f78f-4ced-a93b-31287ecf9a7f",
   "metadata": {},
   "outputs": [],
   "source": [
    "X = df_z.iloc[:,:-1]\n",
    "y = df_z.mpg"
   ]
  },
  {
   "cell_type": "code",
   "execution_count": 436,
   "id": "2dd0aec8-436b-4e76-8ab8-6d0b29e09995",
   "metadata": {},
   "outputs": [
    {
     "name": "stdout",
     "output_type": "stream",
     "text": [
      "(28, 2) (28,)\n"
     ]
    }
   ],
   "source": [
    "print(X.shape, y.shape)"
   ]
  },
  {
   "cell_type": "code",
   "execution_count": 437,
   "id": "c61b739c-c684-4d66-b286-646df53abf16",
   "metadata": {},
   "outputs": [],
   "source": [
    "X_train, X_test, y_train, y_test = train_test_split(X, y, test_size=0.2, random_state=25)"
   ]
  },
  {
   "cell_type": "code",
   "execution_count": 438,
   "id": "800d4fe4-d1ea-45a6-95a7-679d8deba23b",
   "metadata": {},
   "outputs": [
    {
     "data": {
      "text/plain": [
       "LinearRegression()"
      ]
     },
     "execution_count": 438,
     "metadata": {},
     "output_type": "execute_result"
    }
   ],
   "source": [
    "# now we train the model\n",
    "model = LinearRegression()\n",
    "model.fit(X_train, y_train)"
   ]
  },
  {
   "cell_type": "code",
   "execution_count": 439,
   "id": "c4c4acb2-9822-4282-ac12-3212b97024b1",
   "metadata": {},
   "outputs": [],
   "source": [
    "#Now we predict the values\n",
    "y_predict = model.predict(X_test)"
   ]
  },
  {
   "cell_type": "code",
   "execution_count": 440,
   "id": "4c0c39c1-3a09-4d1a-8bbc-a2287561d1b6",
   "metadata": {},
   "outputs": [
    {
     "data": {
      "text/plain": [
       "0.6190968308544469"
      ]
     },
     "execution_count": 440,
     "metadata": {},
     "output_type": "execute_result"
    }
   ],
   "source": [
    "r2_score(y_test, y_predict)"
   ]
  },
  {
   "cell_type": "markdown",
   "id": "562c1799-a11b-4a6c-a2cb-9ed45dbb1f0f",
   "metadata": {},
   "source": [
    "Here we have seen here today that our r2 score fluctuates heavily when we change random_state\n",
    "\n",
    "This is there fore not a good model because we do not have required data\n",
    "\n",
    "Here we can use K-fold cross validation when we have heavy fluctuation in our r2 score"
   ]
  },
  {
   "cell_type": "markdown",
   "id": "18e935a1-8a1e-4e64-b102-17e83c5b43cd",
   "metadata": {},
   "source": [
    "# Reminder\n",
    "\n",
    "percentile works on non normal data\n",
    "\n",
    "z-score works only on normal data"
   ]
  },
  {
   "cell_type": "code",
   "execution_count": null,
   "id": "88646f89-e216-407a-84b5-da7f5c9fe6e6",
   "metadata": {},
   "outputs": [],
   "source": []
  }
 ],
 "metadata": {
  "kernelspec": {
   "display_name": "Python 3",
   "language": "python",
   "name": "python3"
  },
  "language_info": {
   "codemirror_mode": {
    "name": "ipython",
    "version": 3
   },
   "file_extension": ".py",
   "mimetype": "text/x-python",
   "name": "python",
   "nbconvert_exporter": "python",
   "pygments_lexer": "ipython3",
   "version": "3.8.2"
  }
 },
 "nbformat": 4,
 "nbformat_minor": 5
}
