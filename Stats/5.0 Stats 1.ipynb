{
 "cells": [
  {
   "cell_type": "code",
   "execution_count": 3,
   "id": "1c579bf6-64fd-4517-b5a3-1346cc79129d",
   "metadata": {},
   "outputs": [],
   "source": [
    "import scipy as sp\n",
    "import numpy as np"
   ]
  },
  {
   "cell_type": "code",
   "execution_count": 11,
   "id": "e3025a0f-cadd-4d15-9dd9-41fbea3dac60",
   "metadata": {},
   "outputs": [
    {
     "name": "stderr",
     "output_type": "stream",
     "text": [
      "<ipython-input-11-e7e65bb5e3d8>:2: DeprecationWarning: scipy.mean is deprecated and will be removed in SciPy 2.0.0, use numpy.mean instead\n",
      "  sp.mean(emp_sal)\n"
     ]
    },
    {
     "data": {
      "text/plain": [
       "36.875"
      ]
     },
     "execution_count": 11,
     "metadata": {},
     "output_type": "execute_result"
    }
   ],
   "source": [
    "emp_sal = [10,11 ,12,5,12,9,15,221]\n",
    "sp.mean(emp_sal)"
   ]
  },
  {
   "cell_type": "code",
   "execution_count": 4,
   "id": "c1788019-93c7-4f2e-92fe-50be5999eb77",
   "metadata": {},
   "outputs": [
    {
     "name": "stderr",
     "output_type": "stream",
     "text": [
      "<ipython-input-4-145b42ec8c45>:5: DeprecationWarning: scipy.median is deprecated and will be removed in SciPy 2.0.0, use numpy.median instead\n",
      "  sp.median(emp_sal)\n"
     ]
    },
    {
     "data": {
      "text/plain": [
       "11.0"
      ]
     },
     "execution_count": 4,
     "metadata": {},
     "output_type": "execute_result"
    }
   ],
   "source": [
    "# here the mean is deviated as it does not provide a good way to measure central tendency\n",
    "# mean is sensitive towards outliers\n",
    "# median in other case almost immune to outliers\n",
    "\n",
    "sp.median(emp_sal)"
   ]
  },
  {
   "cell_type": "code",
   "execution_count": 5,
   "id": "be229a73-a7ef-4dd9-954a-c043796a958f",
   "metadata": {},
   "outputs": [],
   "source": [
    "import seaborn as sns"
   ]
  },
  {
   "cell_type": "code",
   "execution_count": 7,
   "id": "3745036c-7ef1-4e84-88da-5769cf913962",
   "metadata": {},
   "outputs": [
    {
     "name": "stderr",
     "output_type": "stream",
     "text": [
      "/home/bunny/anaconda3/lib/python3.8/site-packages/seaborn/distributions.py:2557: FutureWarning: `distplot` is a deprecated function and will be removed in a future version. Please adapt your code to use either `displot` (a figure-level function with similar flexibility) or `histplot` (an axes-level function for histograms).\n",
      "  warnings.warn(msg, FutureWarning)\n"
     ]
    },
    {
     "data": {
      "text/plain": [
       "<AxesSubplot:ylabel='Density'>"
      ]
     },
     "execution_count": 7,
     "metadata": {},
     "output_type": "execute_result"
    },
    {
     "data": {
      "image/png": "[encoded data removed]",
      "text/plain": [
       "<Figure size 432x288 with 1 Axes>"
      ]
     },
     "metadata": {
      "needs_background": "light"
     },
     "output_type": "display_data"
    }
   ],
   "source": [
    "sns.distplot(emp_sal, bins=5)"
   ]
  },
  {
   "cell_type": "code",
   "execution_count": 8,
   "id": "de46ad47-04a4-4aed-b91b-4bfee4911f08",
   "metadata": {},
   "outputs": [],
   "source": [
    "# the mode is the most occuring element in the data\n",
    "# a median is the center portion of a sorted data\n",
    "# a mean is the arithmatic mean or average of all the data points \n",
    "\n",
    "# thus mean is sensitive towards outliers but without them it can be a good approximation of the data"
   ]
  },
  {
   "cell_type": "code",
   "execution_count": 9,
   "id": "5b466399-c150-450e-99c0-6f7bd44db2a5",
   "metadata": {},
   "outputs": [],
   "source": [
    "from scipy import stats"
   ]
  },
  {
   "cell_type": "code",
   "execution_count": 12,
   "id": "a514062f-7624-4ac9-a8b1-1eb8cc6a8a06",
   "metadata": {},
   "outputs": [
    {
     "data": {
      "text/plain": [
       "ModeResult(mode=array([12]), count=array([2]))"
      ]
     },
     "execution_count": 12,
     "metadata": {},
     "output_type": "execute_result"
    }
   ],
   "source": [
    "stats.mode(emp_sal)"
   ]
  },
  {
   "cell_type": "markdown",
   "id": "81b6e02c-6011-4e42-bcc1-aefd15be0839",
   "metadata": {},
   "source": [
    "# __Data Variablility__"
   ]
  },
  {
   "cell_type": "code",
   "execution_count": 13,
   "id": "c945499d-e394-41e1-89ae-046efc48855a",
   "metadata": {},
   "outputs": [],
   "source": [
    "nums = [9,9,9,8,10,8,10,9,8,10]"
   ]
  },
  {
   "cell_type": "code",
   "execution_count": 14,
   "id": "d9c6e815-5583-4af4-977f-44bea06e38ba",
   "metadata": {},
   "outputs": [
    {
     "name": "stdout",
     "output_type": "stream",
     "text": [
      "range of nums is: 2\n"
     ]
    }
   ],
   "source": [
    "print('range of nums is: {}'.format(max(nums)-min(nums)))"
   ]
  },
  {
   "cell_type": "markdown",
   "id": "b234d298-9481-48a6-a334-22b452ca1bc0",
   "metadata": {},
   "source": [
    "## Standard Deviation\n",
    "\n"
   ]
  },
  {
   "cell_type": "code",
   "execution_count": 15,
   "id": "2fa0014b-bd52-46ed-9cb9-ae01521181ce",
   "metadata": {},
   "outputs": [],
   "source": [
    "num_s = [2,3,5,8,7]"
   ]
  },
  {
   "cell_type": "code",
   "execution_count": 21,
   "id": "53f4abb1-11be-4cd3-8408-f8d1d370ea0b",
   "metadata": {},
   "outputs": [
    {
     "data": {
      "text/plain": [
       "5.0"
      ]
     },
     "execution_count": 21,
     "metadata": {},
     "output_type": "execute_result"
    }
   ],
   "source": [
    "np.mean(num_s)"
   ]
  },
  {
   "cell_type": "code",
   "execution_count": 22,
   "id": "a88f1d03-b2d9-4e3a-bed0-d9872cc8adc2",
   "metadata": {},
   "outputs": [
    {
     "name": "stderr",
     "output_type": "stream",
     "text": [
      "<ipython-input-22-46dd4fb47dd0>:1: DeprecationWarning: scipy.std is deprecated and will be removed in SciPy 2.0.0, use numpy.std instead\n",
      "  sp.std(num_s)\n"
     ]
    },
    {
     "data": {
      "text/plain": [
       "2.280350850198276"
      ]
     },
     "execution_count": 22,
     "metadata": {},
     "output_type": "execute_result"
    }
   ],
   "source": [
    "sp.std(num_s)"
   ]
  },
  {
   "cell_type": "code",
   "execution_count": 32,
   "id": "c76aeed2-6db5-4aa3-aa02-caff4acefd32",
   "metadata": {},
   "outputs": [],
   "source": [
    "# Own Implementation for standard deviation of population\n",
    "def variance_pop(nums :list) -> float:\n",
    "    mean = np.mean(nums)\n",
    "    return sum([(i-mean)**2 for i in nums])/len(nums)\n",
    "\n",
    "def std_dev_pop(nums :list) -> float:\n",
    "    return np.sqrt(variance_pop(nums))"
   ]
  },
  {
   "cell_type": "code",
   "execution_count": 33,
   "id": "bea1573e-ee5f-4328-a485-1dba8e5b750b",
   "metadata": {},
   "outputs": [
    {
     "data": {
      "text/plain": [
       "2.280350850198276"
      ]
     },
     "execution_count": 33,
     "metadata": {},
     "output_type": "execute_result"
    }
   ],
   "source": [
    "std_dev_pop(num_s)"
   ]
  },
  {
   "cell_type": "code",
   "execution_count": 37,
   "id": "eaaa96f0-9cca-42c4-bb64-f486509c37d6",
   "metadata": {},
   "outputs": [
    {
     "name": "stdout",
     "output_type": "stream",
     "text": [
      "range is: 10\n",
      "standard deviation is 3.1091263510296048\n",
      "range is: 10\n",
      "standard deviation is 3.1091263510296048\n"
     ]
    }
   ],
   "source": [
    "num_ex = [5,8,10,10,12,15]\n",
    "print('range is: {}\\nstandard deviation is {}'.format(max(num_ex)-min(num_ex),std_dev_pop(num_ex)))\n",
    "print('range is: {}\\nstandard deviation is {}'.format(max(num_ex)-min(num_ex),np.std(num_ex)))"
   ]
  },
  {
   "cell_type": "code",
   "execution_count": 38,
   "id": "a378f64c-57e4-4cc2-9fbf-852d79dc00d6",
   "metadata": {},
   "outputs": [
    {
     "data": {
      "text/plain": [
       "38.97932471326358"
      ]
     },
     "execution_count": 38,
     "metadata": {},
     "output_type": "execute_result"
    }
   ],
   "source": [
    "x = [5,100,75,25,5,95,20]\n",
    "std_dev_pop(x)"
   ]
  },
  {
   "cell_type": "code",
   "execution_count": 39,
   "id": "429e0207-ed4b-4f50-ac22-2a8873b549a0",
   "metadata": {},
   "outputs": [],
   "source": [
    "def variance_sample(nums :list) -> float:\n",
    "    mean = np.mean(nums)\n",
    "    return sum([(i-mean)**2 for i in nums])/(len(nums)-1)\n",
    "\n",
    "def std_dev_sample(nums :list) -> float:\n",
    "    return np.sqrt(variance_sample(nums))"
   ]
  },
  {
   "cell_type": "markdown",
   "id": "8e6e11ba-e826-4ec2-bfbe-619d2612a2e2",
   "metadata": {},
   "source": [
    "# Z score"
   ]
  },
  {
   "cell_type": "markdown",
   "id": "ed415326-f911-4883-8cba-ae0d90c994ec",
   "metadata": {},
   "source": [
    "It shows how many standard deviations is our data point away from the mean of the data"
   ]
  },
  {
   "cell_type": "code",
   "execution_count": 40,
   "id": "6b9381ed-ebd6-419b-9dfd-2152674aa395",
   "metadata": {},
   "outputs": [],
   "source": [
    "# z score is calculated as difference of data point and the mean divided by the standard deviation\n",
    "# Z(x) = (X - mean)/std_dev(sigma)"
   ]
  },
  {
   "cell_type": "code",
   "execution_count": 41,
   "id": "c8c6f51c-c8a7-49dc-89c9-a4178a309e97",
   "metadata": {},
   "outputs": [
    {
     "data": {
      "text/plain": [
       "<AxesSubplot:ylabel='Count'>"
      ]
     },
     "execution_count": 41,
     "metadata": {},
     "output_type": "execute_result"
    },
    {
     "data": {
      "image/png": "[encoded data removed]",
      "text/plain": [
       "<Figure size 432x288 with 1 Axes>"
      ]
     },
     "metadata": {
      "needs_background": "light"
     },
     "output_type": "display_data"
    }
   ],
   "source": [
    "x = [5,1,5,7,9,0,5,2,5,8,5,8,6,3,6,8,0,7,3,2,2,9,7,5,4,8,6,5,4,6]\n",
    "sns.histplot(x)"
   ]
  },
  {
   "cell_type": "code",
   "execution_count": 51,
   "id": "c483c6a6-db6d-42b4-83d8-7354fdba1a2e",
   "metadata": {},
   "outputs": [
    {
     "data": {
      "text/plain": [
       "<AxesSubplot:ylabel='Count'>"
      ]
     },
     "execution_count": 51,
     "metadata": {},
     "output_type": "execute_result"
    },
    {
     "data": {
      "image/png": "[encoded data removed]",
      "text/plain": [
       "<Figure size 432x288 with 1 Axes>"
      ]
     },
     "metadata": {
      "needs_background": "light"
     },
     "output_type": "display_data"
    }
   ],
   "source": [
    "x = [1,9,2,8,8,3,3,3,3,7,7,7,7,4,4,4,4,4,4,6,6,6,6,6,6,5,5,5,5,5,5,5,5]\n",
    "sns.histplot(x)"
   ]
  },
  {
   "cell_type": "code",
   "execution_count": 59,
   "id": "3079edcc-1ea6-4a9d-ab94-67144b8022e7",
   "metadata": {},
   "outputs": [
    {
     "data": {
      "text/plain": [
       "<seaborn.axisgrid.FacetGrid at 0x7f9b655f33a0>"
      ]
     },
     "execution_count": 59,
     "metadata": {},
     "output_type": "execute_result"
    },
    {
     "data": {
      "image/png": "[encoded data removed]",
      "text/plain": [
       "<Figure size 360x360 with 1 Axes>"
      ]
     },
     "metadata": {
      "needs_background": "light"
     },
     "output_type": "display_data"
    },
    {
     "data": {
      "image/png": "[encoded data removed]",
      "text/plain": [
       "<Figure size 360x360 with 1 Axes>"
      ]
     },
     "metadata": {
      "needs_background": "light"
     },
     "output_type": "display_data"
    }
   ],
   "source": [
    "sns.displot(x, kind='kde')# instead of distplot use displot with kind key word set to kde\n",
    "sns.displot(x)"
   ]
  },
  {
   "cell_type": "code",
   "execution_count": 55,
   "id": "a5d330f7-bf53-4006-ae78-f60168f16390",
   "metadata": {},
   "outputs": [
    {
     "data": {
      "text/plain": [
       "<seaborn.axisgrid.FacetGrid at 0x7f9b65c230a0>"
      ]
     },
     "execution_count": 55,
     "metadata": {},
     "output_type": "execute_result"
    },
    {
     "data": {
      "image/png": "[encoded data removed]",
      "text/plain": [
       "<Figure size 360x360 with 1 Axes>"
      ]
     },
     "metadata": {
      "needs_background": "light"
     },
     "output_type": "display_data"
    }
   ],
   "source": [
    "sns.displot(x, kind='ecdf')"
   ]
  },
  {
   "cell_type": "code",
   "execution_count": 78,
   "id": "e94fdba9-4a5e-433e-98f2-03378c6c6d7a",
   "metadata": {},
   "outputs": [
    {
     "name": "stderr",
     "output_type": "stream",
     "text": [
      "/home/bunny/anaconda3/lib/python3.8/site-packages/seaborn/distributions.py:2164: UserWarning: `displot` is a figure-level function and does not accept the ax= paramter. You may wish to try kdeplot.\n",
      "  warnings.warn(msg, UserWarning)\n"
     ]
    },
    {
     "data": {
      "text/plain": [
       "<AxesSubplot:ylabel='Count'>"
      ]
     },
     "execution_count": 78,
     "metadata": {},
     "output_type": "execute_result"
    },
    {
     "data": {
      "image/png": "[encoded data removed]",
      "text/plain": [
       "<Figure size 432x288 with 1 Axes>"
      ]
     },
     "metadata": {
      "needs_background": "light"
     },
     "output_type": "display_data"
    },
    {
     "data": {
      "image/png": "[encoded data removed]",
      "text/plain": [
       "<Figure size 360x360 with 1 Axes>"
      ]
     },
     "metadata": {
      "needs_background": "light"
     },
     "output_type": "display_data"
    }
   ],
   "source": [
    "import matplotlib.pyplot as plt\n",
    "fig, axs = plt.subplots()\n",
    "sns.displot(x, kind='kde', ax=axs)# instead of distplot use displot with kind key word set to kde\n",
    "sns.histplot(x, ax=axs)"
   ]
  },
  {
   "cell_type": "markdown",
   "id": "4a84e58c-4dfa-499f-828c-e8e1098a5204",
   "metadata": {},
   "source": [
    "# Normality test\n",
    "\n",
    "- Skewness\n",
    "- Kurtosis"
   ]
  },
  {
   "cell_type": "markdown",
   "id": "f882e25e-8b36-4428-82c2-f359f7fd1e45",
   "metadata": {},
   "source": [
    "- negatively skewed (tail to the left)\n",
    "- normal\n",
    "- positively skewed (tail to the right)"
   ]
  },
  {
   "cell_type": "code",
   "execution_count": 79,
   "id": "ae20d172-66fc-431a-af1d-96cc52b2baec",
   "metadata": {},
   "outputs": [
    {
     "data": {
      "text/plain": [
       "[1,\n",
       " 9,\n",
       " 2,\n",
       " 8,\n",
       " 8,\n",
       " 3,\n",
       " 3,\n",
       " 3,\n",
       " 3,\n",
       " 7,\n",
       " 7,\n",
       " 7,\n",
       " 7,\n",
       " 4,\n",
       " 4,\n",
       " 4,\n",
       " 4,\n",
       " 4,\n",
       " 4,\n",
       " 6,\n",
       " 6,\n",
       " 6,\n",
       " 6,\n",
       " 6,\n",
       " 6,\n",
       " 5,\n",
       " 5,\n",
       " 5,\n",
       " 5,\n",
       " 5,\n",
       " 5,\n",
       " 5,\n",
       " 5]"
      ]
     },
     "execution_count": 79,
     "metadata": {},
     "output_type": "execute_result"
    }
   ],
   "source": [
    "# set a margin of error in your curve and then set a limit after checking the skewness\n",
    "\n",
    "x"
   ]
  },
  {
   "cell_type": "code",
   "execution_count": 80,
   "id": "43b8099e-8c8a-48a3-a29e-dea4f8c3c034",
   "metadata": {},
   "outputs": [
    {
     "data": {
      "text/plain": [
       "-0.0057453105337277295"
      ]
     },
     "execution_count": 80,
     "metadata": {},
     "output_type": "execute_result"
    }
   ],
   "source": [
    "stats.skew(x)"
   ]
  },
  {
   "cell_type": "code",
   "execution_count": 83,
   "id": "1647a93f-0708-4a9c-bbdf-0930d0eeb1ce",
   "metadata": {},
   "outputs": [
    {
     "name": "stderr",
     "output_type": "stream",
     "text": [
      "/home/bunny/anaconda3/lib/python3.8/site-packages/seaborn/distributions.py:2557: FutureWarning: `distplot` is a deprecated function and will be removed in a future version. Please adapt your code to use either `displot` (a figure-level function with similar flexibility) or `histplot` (an axes-level function for histograms).\n",
      "  warnings.warn(msg, FutureWarning)\n"
     ]
    },
    {
     "data": {
      "text/plain": [
       "<AxesSubplot:ylabel='Density'>"
      ]
     },
     "execution_count": 83,
     "metadata": {},
     "output_type": "execute_result"
    },
    {
     "data": {
      "image/png": "[encoded data removed]",
      "text/plain": [
       "<Figure size 432x288 with 1 Axes>"
      ]
     },
     "metadata": {
      "needs_background": "light"
     },
     "output_type": "display_data"
    }
   ],
   "source": [
    "# here the data is negatively skewed\n",
    "# margin of error skewness = -1 to 1 or in some cases -1.94 to 1.94\n",
    "# now the data needs to test the kurtosis test\n",
    "# here we determine the height of the curve\n",
    "# here as well the margin of error is -1 to 1\n",
    "y = [25,1,54,7,5,4,5,4,6,4,2,5,2,5,88,5,5,56,4,4,5,5,]\n",
    "sns.distplot(y)"
   ]
  },
  {
   "cell_type": "code",
   "execution_count": 84,
   "id": "59e30515-48e6-4c2c-921e-cc6602ed3ea7",
   "metadata": {},
   "outputs": [
    {
     "name": "stdout",
     "output_type": "stream",
     "text": [
      "skey: 2.2852089275804714\n",
      "kurtosis:  4.049961897013799\n"
     ]
    }
   ],
   "source": [
    "print('skew:', stats.skew(y))\n",
    "print('kurtosis: ', stats.kurtosis(y))"
   ]
  },
  {
   "cell_type": "code",
   "execution_count": 85,
   "id": "b835c91e-f74a-4afa-a2e5-b4d401422a49",
   "metadata": {},
   "outputs": [
    {
     "name": "stdout",
     "output_type": "stream",
     "text": [
      "skew: 0.5034593468379267\n",
      "kurtosis:  -0.07521221228194142\n"
     ]
    }
   ],
   "source": [
    "# so for the above data the guassian distribution does not apply\n",
    "x = [6,4,6,8,4,7,5,4,6,9,6,4,2,5,7,9,5,4,6,4,6,3,5,4,3,6,5,4]\n",
    "\n",
    "print('skew:', stats.skew(x))\n",
    "print('kurtosis: ', stats.kurtosis(x))"
   ]
  },
  {
   "cell_type": "markdown",
   "id": "954ebf00-d094-4900-811d-22e6ab2bf75f",
   "metadata": {},
   "source": [
    "yes the above given data is normal"
   ]
  },
  {
   "cell_type": "code",
   "execution_count": 86,
   "id": "0fb6ae8f-e8cd-42da-84e2-dffef79094c4",
   "metadata": {},
   "outputs": [
    {
     "name": "stderr",
     "output_type": "stream",
     "text": [
      "/home/bunny/anaconda3/lib/python3.8/site-packages/seaborn/distributions.py:2557: FutureWarning: `distplot` is a deprecated function and will be removed in a future version. Please adapt your code to use either `displot` (a figure-level function with similar flexibility) or `histplot` (an axes-level function for histograms).\n",
      "  warnings.warn(msg, FutureWarning)\n"
     ]
    },
    {
     "data": {
      "text/plain": [
       "<AxesSubplot:ylabel='Density'>"
      ]
     },
     "execution_count": 86,
     "metadata": {},
     "output_type": "execute_result"
    },
    {
     "data": {
      "image/png": "[encoded data removed]",
      "text/plain": [
       "<Figure size 432x288 with 1 Axes>"
      ]
     },
     "metadata": {
      "needs_background": "light"
     },
     "output_type": "display_data"
    }
   ],
   "source": [
    "sns.distplot(x)"
   ]
  },
  {
   "cell_type": "markdown",
   "id": "3556b196-3816-4b7c-87e6-483b64dec724",
   "metadata": {},
   "source": [
    "skewness |s| > 1.96\n",
    "kurtosis |k| > 1.96 for most of the publication but we shall stick to the -1 to 1 limit for margin of error"
   ]
  },
  {
   "cell_type": "markdown",
   "id": "0a54680c-7c69-4bf6-9176-a5b4c63d7ee4",
   "metadata": {},
   "source": [
    "# __Measure of distance__"
   ]
  },
  {
   "cell_type": "code",
   "execution_count": 95,
   "id": "97b4fb30-9b83-42a3-9ed6-fb0b4d38d02f",
   "metadata": {},
   "outputs": [],
   "source": [
    "def distance(x:tuple ,y:tuple) -> float:\n",
    "    return np.sqrt((y[0] - x[0])**2 +(y[1] - x[1])**2)"
   ]
  },
  {
   "cell_type": "code",
   "execution_count": 96,
   "id": "c686501a-5c9c-42dc-b50e-89399d7567c7",
   "metadata": {},
   "outputs": [
    {
     "data": {
      "text/plain": [
       "14.142135623730951"
      ]
     },
     "execution_count": 96,
     "metadata": {},
     "output_type": "execute_result"
    }
   ],
   "source": [
    "x = (10,20)\n",
    "y = (20,30)\n",
    "\n",
    "distance(x,y)"
   ]
  },
  {
   "cell_type": "code",
   "execution_count": 118,
   "id": "8eff8b2b-ac2c-4f16-9f80-a7ec9e76aa63",
   "metadata": {},
   "outputs": [
    {
     "data": {
      "text/plain": [
       "5.656854249492381"
      ]
     },
     "execution_count": 118,
     "metadata": {},
     "output_type": "execute_result"
    }
   ],
   "source": [
    "x = (6,6)\n",
    "y = (2,2)\n",
    "\n",
    "distance(x,y)"
   ]
  },
  {
   "cell_type": "markdown",
   "id": "3cab6b36-18f1-46cd-ad14-93c307821bec",
   "metadata": {},
   "source": [
    "# Manhattan distance (taxicab distance)"
   ]
  },
  {
   "cell_type": "markdown",
   "id": "2bdab3a0-cba7-4441-b8fc-46013ed48a3b",
   "metadata": {},
   "source": [
    "### __Formula__: _d = |x2 - x1| + |y2 - y1|_"
   ]
  },
  {
   "cell_type": "markdown",
   "id": "4be7c9da-5fa8-49e1-b54c-1800c7ff0b47",
   "metadata": {},
   "source": [
    "it is similar to euclidean distance but it is calculated by traversing through the grid using vertical and horizontal lines"
   ]
  },
  {
   "cell_type": "code",
   "execution_count": 100,
   "id": "24a328be-8597-4a32-896d-06d7866b2493",
   "metadata": {},
   "outputs": [],
   "source": [
    "def manhattan_distance(x:tuple, y:tuple) -> float:\n",
    "    return abs(y[0] - x[0]) + abs(y[1] - x[1])"
   ]
  },
  {
   "cell_type": "code",
   "execution_count": 101,
   "id": "b69da8a5-9c5c-472d-a33a-d92ec33421af",
   "metadata": {},
   "outputs": [
    {
     "data": {
      "text/plain": [
       "8"
      ]
     },
     "execution_count": 101,
     "metadata": {},
     "output_type": "execute_result"
    }
   ],
   "source": [
    "manhattan_distance(x,y)"
   ]
  },
  {
   "cell_type": "markdown",
   "id": "88d858ed-e66e-430c-ae6b-21d26ffcb0d0",
   "metadata": {},
   "source": [
    "# Minkowski distance\n",
    "\n",
    "it is a metric on the euclidean space and can be considered as a generalization of both the Euclidean and mahattan distance\n",
    "\n",
    "formula = (sum(i=1 to n) of (pn - qn)**r)**1/r\n",
    "when r=infinity it conputes the supremum\n",
    "if r = 1 its manhattan distance\n",
    "if r = 2 its euclidean distance"
   ]
  },
  {
   "cell_type": "code",
   "execution_count": 146,
   "id": "4060b260-a5b5-49b9-9297-4889fb7f2bd1",
   "metadata": {},
   "outputs": [],
   "source": [
    "def minkowski_distance(x:tuple, y:tuple, r:int) -> float:\n",
    "    assert len(x) == len(y), 'Length of both the x and y should be same'\n",
    "    return sum([abs(y[i] - x[i])**r for i in range(len(x))])**(1/r)"
   ]
  },
  {
   "cell_type": "code",
   "execution_count": 109,
   "id": "a35cf601-c04c-4fcb-933b-5a9da7b02825",
   "metadata": {},
   "outputs": [
    {
     "data": {
      "text/plain": [
       "5.656854249492381"
      ]
     },
     "execution_count": 109,
     "metadata": {},
     "output_type": "execute_result"
    }
   ],
   "source": [
    "minkowski_distance(x, y, 2)"
   ]
  },
  {
   "cell_type": "code",
   "execution_count": 145,
   "id": "6bf2293c-54dd-4d44-a021-4fa38ca1d54b",
   "metadata": {},
   "outputs": [
    {
     "data": {
      "text/plain": [
       "5.000141436450183"
      ]
     },
     "execution_count": 145,
     "metadata": {},
     "output_type": "execute_result"
    }
   ],
   "source": [
    "minkowski_distance(x, y, 3.10589)"
   ]
  },
  {
   "cell_type": "markdown",
   "id": "f462157b-51e9-4892-a394-4cf5940bf821",
   "metadata": {},
   "source": [
    "# Corelation factor\n",
    "\n",
    "it will always be between -1 to 1"
   ]
  },
  {
   "cell_type": "markdown",
   "id": "39ced4d0-b934-4f83-a7f9-a9905640f8ba",
   "metadata": {},
   "source": [
    "### _cov(X,Y) = sum((x-xbar)(y-ybar))/n-1_\n",
    "\n",
    "### _corr(X,Y) = cov(X,Y)/std_dev(x)*std_dev(y)_"
   ]
  },
  {
   "cell_type": "code",
   "execution_count": null,
   "id": "abf3ea23-b495-47ce-8708-a0f8e7c7abdc",
   "metadata": {},
   "outputs": [],
   "source": []
  }
 ],
 "metadata": {
  "kernelspec": {
   "display_name": "Python 3",
   "language": "python",
   "name": "python3"
  },
  "language_info": {
   "codemirror_mode": {
    "name": "ipython",
    "version": 3
   },
   "file_extension": ".py",
   "mimetype": "text/x-python",
   "name": "python",
   "nbconvert_exporter": "python",
   "pygments_lexer": "ipython3",
   "version": "3.8.8"
  }
 },
 "nbformat": 4,
 "nbformat_minor": 5
}
