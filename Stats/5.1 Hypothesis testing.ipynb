{
 "cells": [
  {
   "cell_type": "markdown",
   "id": "cf7c79c4-a55a-4e01-b508-0bf7875a13d6",
   "metadata": {},
   "source": [
    "# __Hypothesis Testing__"
   ]
  },
  {
   "cell_type": "code",
   "execution_count": 2,
   "id": "cda1f906-5f4b-4ec1-a03c-9c9b95b9f39d",
   "metadata": {},
   "outputs": [],
   "source": [
    "from scipy import stats"
   ]
  },
  {
   "cell_type": "code",
   "execution_count": 9,
   "id": "33db8852-83a1-454f-92de-aa895d1c2590",
   "metadata": {},
   "outputs": [],
   "source": [
    "mar_age_bang = [28,24,27,25,22,25,26,20]"
   ]
  },
  {
   "cell_type": "markdown",
   "id": "96bfcad8-5faa-4eda-b562-f5f3e1835f05",
   "metadata": {},
   "source": [
    "H0: Marriage age in banglore is 30\n",
    "\n",
    "Ha: Marriage age in banglore is not 30\n",
    "\n",
    "hypothesized mean : 30"
   ]
  },
  {
   "cell_type": "markdown",
   "id": "a4a25830-3940-4e78-9b2d-32ef0f2e45ee",
   "metadata": {},
   "source": [
    "# __1 sample T test__"
   ]
  },
  {
   "cell_type": "code",
   "execution_count": 10,
   "id": "7fbe7fc7-dbb8-47fe-8f08-1e0ce5b7efa8",
   "metadata": {},
   "outputs": [
    {
     "data": {
      "text/plain": [
       "Ttest_1sampResult(statistic=-5.813237796741342, pvalue=0.0006546362524625216)"
      ]
     },
     "execution_count": 10,
     "metadata": {},
     "output_type": "execute_result"
    }
   ],
   "source": [
    "stats.ttest_1samp(mar_age_bang, 30)"
   ]
  },
  {
   "cell_type": "markdown",
   "id": "1e66f450-1248-4278-a1e7-8ab7136bf026",
   "metadata": {},
   "source": [
    "P-value can be called a threshold to test hypothesis\n",
    "\n",
    "statistical significance\n",
    "\n",
    "_< 0.05 -> Reject null hypothesis & accept alternate hypothesis_\n",
    "\n",
    "_> 0.05 -> Accept null hypothesis & reject alternate hypothesis_"
   ]
  },
  {
   "cell_type": "markdown",
   "id": "4cef3b60-987f-4541-b9de-700595b49a71",
   "metadata": {},
   "source": [
    "# __Two Sample Independent T-test__"
   ]
  },
  {
   "cell_type": "code",
   "execution_count": 11,
   "id": "4e89eb63-c904-4074-bd96-f92c04be88e6",
   "metadata": {},
   "outputs": [
    {
     "data": {
      "text/plain": [
       "Ttest_indResult(statistic=2.9445038788874944, pvalue=0.014671995163632505)"
      ]
     },
     "execution_count": 11,
     "metadata": {},
     "output_type": "execute_result"
    }
   ],
   "source": [
    "banglore = [35,32,28,30,34,27]\n",
    "assam = [24,26,28,30,24,25]\n",
    "\n",
    "# H0 - marriage age in banglore and assam is the same\n",
    "# Ha - marriage age in banglore and assam is not the same\n",
    "stats.ttest_ind(banglore, assam)"
   ]
  },
  {
   "cell_type": "markdown",
   "id": "8b585f01-41c4-43e2-9274-cfa5703c619f",
   "metadata": {},
   "source": [
    "-> here we reject the null hypothesis H0 and accept Ha"
   ]
  },
  {
   "cell_type": "markdown",
   "id": "c12cfad3-045d-4cc4-a20a-e8efde71001a",
   "metadata": {},
   "source": [
    "# __Two Sample Dependent T-test__"
   ]
  },
  {
   "cell_type": "code",
   "execution_count": 3,
   "id": "51c2af8d-3fd2-4425-8428-92afac54a61d",
   "metadata": {},
   "outputs": [
    {
     "data": {
      "text/plain": [
       "Ttest_relResult(statistic=1.8813567939135083, pvalue=0.1330724158585178)"
      ]
     },
     "execution_count": 3,
     "metadata": {},
     "output_type": "execute_result"
    }
   ],
   "source": [
    "egX = [200, 250, 150,300,500]\n",
    "egY = [100, 260, 130, 150, 480]\n",
    "\n",
    "# H0 : Response time of egX and egY is same\n",
    "# Ha: Response time of egx and egY is not same\n",
    "\n",
    "stats.ttest_rel(egX, egY)"
   ]
  },
  {
   "cell_type": "markdown",
   "id": "86e627b0-5589-430b-b2b9-d0fda7c31182",
   "metadata": {},
   "source": [
    "Here the probability value of our null hypothesis being true is 13% i.e the p-value is 0.13 which is >0.05\n",
    "\n",
    "So we fail to reject null hypothesis thus we accept H0 and accept Ha"
   ]
  },
  {
   "cell_type": "markdown",
   "id": "f2d33c27-edeb-4d64-abdf-eabc0e81fb42",
   "metadata": {},
   "source": [
    "# ___ANOVA (Analysis of Variance)___"
   ]
  },
  {
   "cell_type": "code",
   "execution_count": 4,
   "id": "2aeab022-e937-4f86-ac4a-caedff7f2f9c",
   "metadata": {},
   "outputs": [
    {
     "data": {
      "text/plain": [
       "F_onewayResult(statistic=0.2225919148228248, pvalue=0.8036733738879859)"
      ]
     },
     "execution_count": 4,
     "metadata": {},
     "output_type": "execute_result"
    }
   ],
   "source": [
    "coffee = [220,250,130,120,450]\n",
    "\n",
    "# H0: all drinks response time is same\n",
    "# Ha: all drinks response time is not same\n",
    "\n",
    "stats.f_oneway(egX, egY, coffee)"
   ]
  },
  {
   "cell_type": "markdown",
   "id": "e16cda58-683c-467f-81b8-7d7e9ebd5229",
   "metadata": {},
   "source": [
    "Here the p-value is 80% so we accept H0\n",
    "\n",
    "we reject Ha"
   ]
  },
  {
   "cell_type": "code",
   "execution_count": null,
   "id": "f84d79f8-b5ac-4bfd-910a-f6877e6e4af2",
   "metadata": {},
   "outputs": [],
   "source": []
  }
 ],
 "metadata": {
  "kernelspec": {
   "display_name": "Python 3",
   "language": "python",
   "name": "python3"
  },
  "language_info": {
   "codemirror_mode": {
    "name": "ipython",
    "version": 3
   },
   "file_extension": ".py",
   "mimetype": "text/x-python",
   "name": "python",
   "nbconvert_exporter": "python",
   "pygments_lexer": "ipython3",
   "version": "3.8.8"
  }
 },
 "nbformat": 4,
 "nbformat_minor": 5
}
