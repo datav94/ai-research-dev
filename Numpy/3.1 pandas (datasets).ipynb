{
 "cells": [
  {
   "cell_type": "markdown",
   "id": "f53a4202-6b88-426f-8c99-c343712bdcf4",
   "metadata": {},
   "source": [
    "# __Pandas Datasets__"
   ]
  },
  {
   "cell_type": "code",
   "execution_count": 1,
   "id": "9151a924-236d-487a-82d2-8669e5a287b1",
   "metadata": {},
   "outputs": [
    {
     "data": {
      "text/plain": [
       "'/home/bunny/CDS/Numpy'"
      ]
     },
     "execution_count": 1,
     "metadata": {},
     "output_type": "execute_result"
    }
   ],
   "source": [
    "pwd"
   ]
  },
  {
   "cell_type": "code",
   "execution_count": null,
   "id": "ff7da358-29b9-42cc-b990-fb175d5fd30f",
   "metadata": {},
   "outputs": [],
   "source": []
  }
 ],
 "metadata": {
  "kernelspec": {
   "display_name": "Python 3",
   "language": "python",
   "name": "python3"
  },
  "language_info": {
   "codemirror_mode": {
    "name": "ipython",
    "version": 3
   },
   "file_extension": ".py",
   "mimetype": "text/x-python",
   "name": "python",
   "nbconvert_exporter": "python",
   "pygments_lexer": "ipython3",
   "version": "3.8.8"
  }
 },
 "nbformat": 4,
 "nbformat_minor": 5
}
