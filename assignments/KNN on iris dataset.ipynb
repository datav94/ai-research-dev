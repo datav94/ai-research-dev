{
 "cells": [
  {
   "cell_type": "markdown",
   "id": "27683ce1-51c5-4ee8-b437-d13b13308e65",
   "metadata": {},
   "source": [
    "# KNN on iris data set for classification of species"
   ]
  },
  {
   "cell_type": "code",
   "execution_count": 1,
   "id": "1f4ee3a3-1592-4996-90af-fe5a5d82509c",
   "metadata": {},
   "outputs": [],
   "source": [
    "import pandas as pd\n",
    "import numpy as np\n",
    "import seaborn as sns\n",
    "import matplotlib.pyplot as plt\n",
    "from scipy import stats"
   ]
  },
  {
   "cell_type": "code",
   "execution_count": 2,
   "id": "587a3385-d981-4851-8ef2-5e03827e44f1",
   "metadata": {},
   "outputs": [
    {
     "data": {
      "text/html": [
       "<div>\n",
       "<style scoped>\n",
       "    .dataframe tbody tr th:only-of-type {\n",
       "        vertical-align: middle;\n",
       "    }\n",
       "\n",
       "    .dataframe tbody tr th {\n",
       "        vertical-align: top;\n",
       "    }\n",
       "\n",
       "    .dataframe thead th {\n",
       "        text-align: right;\n",
       "    }\n",
       "</style>\n",
       "<table border=\"1\" class=\"dataframe\">\n",
       "  <thead>\n",
       "    <tr style=\"text-align: right;\">\n",
       "      <th></th>\n",
       "      <th>SepalLengthCm</th>\n",
       "      <th>SepalWidthCm</th>\n",
       "      <th>PetalLengthCm</th>\n",
       "      <th>PetalWidthCm</th>\n",
       "      <th>Species</th>\n",
       "    </tr>\n",
       "    <tr>\n",
       "      <th>Id</th>\n",
       "      <th></th>\n",
       "      <th></th>\n",
       "      <th></th>\n",
       "      <th></th>\n",
       "      <th></th>\n",
       "    </tr>\n",
       "  </thead>\n",
       "  <tbody>\n",
       "    <tr>\n",
       "      <th>1</th>\n",
       "      <td>5.1</td>\n",
       "      <td>3.5</td>\n",
       "      <td>1.4</td>\n",
       "      <td>0.2</td>\n",
       "      <td>0</td>\n",
       "    </tr>\n",
       "    <tr>\n",
       "      <th>2</th>\n",
       "      <td>4.9</td>\n",
       "      <td>3.0</td>\n",
       "      <td>1.4</td>\n",
       "      <td>0.2</td>\n",
       "      <td>0</td>\n",
       "    </tr>\n",
       "    <tr>\n",
       "      <th>3</th>\n",
       "      <td>4.7</td>\n",
       "      <td>3.2</td>\n",
       "      <td>1.3</td>\n",
       "      <td>0.2</td>\n",
       "      <td>0</td>\n",
       "    </tr>\n",
       "    <tr>\n",
       "      <th>4</th>\n",
       "      <td>4.6</td>\n",
       "      <td>3.1</td>\n",
       "      <td>1.5</td>\n",
       "      <td>0.2</td>\n",
       "      <td>0</td>\n",
       "    </tr>\n",
       "    <tr>\n",
       "      <th>5</th>\n",
       "      <td>5.0</td>\n",
       "      <td>3.6</td>\n",
       "      <td>1.4</td>\n",
       "      <td>0.2</td>\n",
       "      <td>0</td>\n",
       "    </tr>\n",
       "  </tbody>\n",
       "</table>\n",
       "</div>"
      ],
      "text/plain": [
       "    SepalLengthCm  SepalWidthCm  PetalLengthCm  PetalWidthCm  Species\n",
       "Id                                                                   \n",
       "1             5.1           3.5            1.4           0.2        0\n",
       "2             4.9           3.0            1.4           0.2        0\n",
       "3             4.7           3.2            1.3           0.2        0\n",
       "4             4.6           3.1            1.5           0.2        0\n",
       "5             5.0           3.6            1.4           0.2        0"
      ]
     },
     "execution_count": 2,
     "metadata": {},
     "output_type": "execute_result"
    }
   ],
   "source": [
    "df = pd.read_csv('iris.csv', index_col='Id')\n",
    "df.head()"
   ]
  },
  {
   "cell_type": "code",
   "execution_count": 46,
   "id": "f66e43ab-b41a-4860-a995-20f94cab5c87",
   "metadata": {},
   "outputs": [
    {
     "data": {
      "text/plain": [
       "(150, 5)"
      ]
     },
     "execution_count": 46,
     "metadata": {},
     "output_type": "execute_result"
    }
   ],
   "source": [
    "df.shape"
   ]
  },
  {
   "cell_type": "code",
   "execution_count": 4,
   "id": "0f772f54-1b18-4f3c-9cb4-52e7549ff413",
   "metadata": {},
   "outputs": [
    {
     "data": {
      "text/plain": [
       "SepalLengthCm    0\n",
       "SepalWidthCm     0\n",
       "PetalLengthCm    0\n",
       "PetalWidthCm     0\n",
       "Species          0\n",
       "dtype: int64"
      ]
     },
     "execution_count": 4,
     "metadata": {},
     "output_type": "execute_result"
    }
   ],
   "source": [
    "df.isna().sum()"
   ]
  },
  {
   "cell_type": "code",
   "execution_count": 5,
   "id": "b5e0ae5f-1f36-40a2-80b2-3ff463d72c02",
   "metadata": {},
   "outputs": [
    {
     "data": {
      "text/plain": [
       "SepalLengthCm    0\n",
       "SepalWidthCm     0\n",
       "PetalLengthCm    0\n",
       "PetalWidthCm     0\n",
       "Species          0\n",
       "dtype: int64"
      ]
     },
     "execution_count": 5,
     "metadata": {},
     "output_type": "execute_result"
    }
   ],
   "source": [
    "df.isnull().sum()"
   ]
  },
  {
   "cell_type": "markdown",
   "id": "644b6c1a-c500-4379-af71-cef1b60454ef",
   "metadata": {},
   "source": [
    "# check for linearity"
   ]
  },
  {
   "cell_type": "code",
   "execution_count": 6,
   "id": "ff52a798-fbdd-48b3-87f8-9dcc720a5571",
   "metadata": {},
   "outputs": [
    {
     "data": {
      "text/html": [
       "<div>\n",
       "<style scoped>\n",
       "    .dataframe tbody tr th:only-of-type {\n",
       "        vertical-align: middle;\n",
       "    }\n",
       "\n",
       "    .dataframe tbody tr th {\n",
       "        vertical-align: top;\n",
       "    }\n",
       "\n",
       "    .dataframe thead th {\n",
       "        text-align: right;\n",
       "    }\n",
       "</style>\n",
       "<table border=\"1\" class=\"dataframe\">\n",
       "  <thead>\n",
       "    <tr style=\"text-align: right;\">\n",
       "      <th></th>\n",
       "      <th>SepalLengthCm</th>\n",
       "      <th>SepalWidthCm</th>\n",
       "      <th>PetalLengthCm</th>\n",
       "      <th>PetalWidthCm</th>\n",
       "      <th>Species</th>\n",
       "    </tr>\n",
       "  </thead>\n",
       "  <tbody>\n",
       "    <tr>\n",
       "      <th>SepalLengthCm</th>\n",
       "      <td>1.000000</td>\n",
       "      <td>-0.109369</td>\n",
       "      <td>0.871754</td>\n",
       "      <td>0.817954</td>\n",
       "      <td>0.782561</td>\n",
       "    </tr>\n",
       "    <tr>\n",
       "      <th>SepalWidthCm</th>\n",
       "      <td>-0.109369</td>\n",
       "      <td>1.000000</td>\n",
       "      <td>-0.420516</td>\n",
       "      <td>-0.356544</td>\n",
       "      <td>-0.419446</td>\n",
       "    </tr>\n",
       "    <tr>\n",
       "      <th>PetalLengthCm</th>\n",
       "      <td>0.871754</td>\n",
       "      <td>-0.420516</td>\n",
       "      <td>1.000000</td>\n",
       "      <td>0.962757</td>\n",
       "      <td>0.949043</td>\n",
       "    </tr>\n",
       "    <tr>\n",
       "      <th>PetalWidthCm</th>\n",
       "      <td>0.817954</td>\n",
       "      <td>-0.356544</td>\n",
       "      <td>0.962757</td>\n",
       "      <td>1.000000</td>\n",
       "      <td>0.956464</td>\n",
       "    </tr>\n",
       "    <tr>\n",
       "      <th>Species</th>\n",
       "      <td>0.782561</td>\n",
       "      <td>-0.419446</td>\n",
       "      <td>0.949043</td>\n",
       "      <td>0.956464</td>\n",
       "      <td>1.000000</td>\n",
       "    </tr>\n",
       "  </tbody>\n",
       "</table>\n",
       "</div>"
      ],
      "text/plain": [
       "               SepalLengthCm  SepalWidthCm  PetalLengthCm  PetalWidthCm  \\\n",
       "SepalLengthCm       1.000000     -0.109369       0.871754      0.817954   \n",
       "SepalWidthCm       -0.109369      1.000000      -0.420516     -0.356544   \n",
       "PetalLengthCm       0.871754     -0.420516       1.000000      0.962757   \n",
       "PetalWidthCm        0.817954     -0.356544       0.962757      1.000000   \n",
       "Species             0.782561     -0.419446       0.949043      0.956464   \n",
       "\n",
       "                Species  \n",
       "SepalLengthCm  0.782561  \n",
       "SepalWidthCm  -0.419446  \n",
       "PetalLengthCm  0.949043  \n",
       "PetalWidthCm   0.956464  \n",
       "Species        1.000000  "
      ]
     },
     "execution_count": 6,
     "metadata": {},
     "output_type": "execute_result"
    }
   ],
   "source": [
    "df.corr()"
   ]
  },
  {
   "cell_type": "markdown",
   "id": "e115d640-0c89-47ce-b85f-984c89985cd1",
   "metadata": {},
   "source": [
    "# check for normality using skewness and kurtosis"
   ]
  },
  {
   "cell_type": "code",
   "execution_count": 7,
   "id": "c9e24e96-999b-4461-8aa2-50bc73725e1e",
   "metadata": {},
   "outputs": [
    {
     "name": "stdout",
     "output_type": "stream",
     "text": [
      "SepalLengthCm: skewness 0.3117530585022963, Kurtosis -0.5735679489249765\n",
      "SepalWidthCm: skewness 0.330702812773315, Kurtosis 0.24144329938318343\n",
      "PetalLengthCm: skewness -0.2717119501716388, Kurtosis -1.3953593021397128\n",
      "PetalWidthCm: skewness -0.10394366626751729, Kurtosis -1.3352456441311857\n",
      "Species: skewness 0.0, Kurtosis -1.5\n"
     ]
    }
   ],
   "source": [
    "for i in df:\n",
    "    print(f'{i}: skewness {stats.skew(df[i])}, Kurtosis {stats.kurtosis(df[i])}')"
   ]
  },
  {
   "cell_type": "markdown",
   "id": "5fdba9a9-bc93-4bfc-a7d3-f9d2af32b35a",
   "metadata": {},
   "source": [
    "# check for multicolinearity"
   ]
  },
  {
   "cell_type": "code",
   "execution_count": 8,
   "id": "f5c7c931-43d2-4818-9b18-deba3016cc62",
   "metadata": {},
   "outputs": [
    {
     "data": {
      "text/html": [
       "<div>\n",
       "<style scoped>\n",
       "    .dataframe tbody tr th:only-of-type {\n",
       "        vertical-align: middle;\n",
       "    }\n",
       "\n",
       "    .dataframe tbody tr th {\n",
       "        vertical-align: top;\n",
       "    }\n",
       "\n",
       "    .dataframe thead th {\n",
       "        text-align: right;\n",
       "    }\n",
       "</style>\n",
       "<table border=\"1\" class=\"dataframe\">\n",
       "  <thead>\n",
       "    <tr style=\"text-align: right;\">\n",
       "      <th></th>\n",
       "      <th>SepalLengthCm</th>\n",
       "      <th>SepalWidthCm</th>\n",
       "      <th>PetalLengthCm</th>\n",
       "      <th>PetalWidthCm</th>\n",
       "    </tr>\n",
       "  </thead>\n",
       "  <tbody>\n",
       "    <tr>\n",
       "      <th>SepalLengthCm</th>\n",
       "      <td>1.000000</td>\n",
       "      <td>-0.109369</td>\n",
       "      <td>0.871754</td>\n",
       "      <td>0.817954</td>\n",
       "    </tr>\n",
       "    <tr>\n",
       "      <th>SepalWidthCm</th>\n",
       "      <td>-0.109369</td>\n",
       "      <td>1.000000</td>\n",
       "      <td>-0.420516</td>\n",
       "      <td>-0.356544</td>\n",
       "    </tr>\n",
       "    <tr>\n",
       "      <th>PetalLengthCm</th>\n",
       "      <td>0.871754</td>\n",
       "      <td>-0.420516</td>\n",
       "      <td>1.000000</td>\n",
       "      <td>0.962757</td>\n",
       "    </tr>\n",
       "    <tr>\n",
       "      <th>PetalWidthCm</th>\n",
       "      <td>0.817954</td>\n",
       "      <td>-0.356544</td>\n",
       "      <td>0.962757</td>\n",
       "      <td>1.000000</td>\n",
       "    </tr>\n",
       "  </tbody>\n",
       "</table>\n",
       "</div>"
      ],
      "text/plain": [
       "               SepalLengthCm  SepalWidthCm  PetalLengthCm  PetalWidthCm\n",
       "SepalLengthCm       1.000000     -0.109369       0.871754      0.817954\n",
       "SepalWidthCm       -0.109369      1.000000      -0.420516     -0.356544\n",
       "PetalLengthCm       0.871754     -0.420516       1.000000      0.962757\n",
       "PetalWidthCm        0.817954     -0.356544       0.962757      1.000000"
      ]
     },
     "execution_count": 8,
     "metadata": {},
     "output_type": "execute_result"
    }
   ],
   "source": [
    "df.iloc[:,:-1].corr()"
   ]
  },
  {
   "cell_type": "markdown",
   "id": "1d970ffa-b7f5-4872-b8d6-f2fe9173f65a",
   "metadata": {},
   "source": [
    "### here if this was a linear regression or logistic regression we shall have to remove SepalLengthCM and SepalWidthCM column as their relevance from the above three checks seems abismal"
   ]
  },
  {
   "cell_type": "markdown",
   "id": "7f580be6-1267-4f65-bed9-48b0f397f7c0",
   "metadata": {},
   "source": [
    "### Since KNN is non parametric these data manipulations are not required"
   ]
  },
  {
   "cell_type": "markdown",
   "id": "1587fa97-76cc-4ccc-b67f-0ea3d6ceac0f",
   "metadata": {},
   "source": [
    "### Hence we shall move forward with our model and train test split but first we shall split predictors from target"
   ]
  },
  {
   "cell_type": "code",
   "execution_count": 9,
   "id": "cfd7d525-d5f3-45c0-9234-d8496ac191db",
   "metadata": {},
   "outputs": [],
   "source": [
    "X = df.iloc[:,:-1]\n",
    "y = df.Species"
   ]
  },
  {
   "cell_type": "code",
   "execution_count": 10,
   "id": "bd9e4653-b2fd-4701-8391-3fa520e2cae1",
   "metadata": {},
   "outputs": [],
   "source": [
    "from sklearn.model_selection import train_test_split\n",
    "c\n",
    "from sklearn.metrics import accuracy_score, classification_report, confusion_matrix"
   ]
  },
  {
   "cell_type": "code",
   "execution_count": 11,
   "id": "2a8e9555-f85e-4b57-93a4-fa6dce6fe93e",
   "metadata": {},
   "outputs": [
    {
     "data": {
      "text/plain": [
       "0.9736842105263158"
      ]
     },
     "execution_count": 11,
     "metadata": {},
     "output_type": "execute_result"
    }
   ],
   "source": [
    "X_train, X_test, y_train, y_test = train_test_split(X, y, test_size=0.25, random_state=212)\n",
    "# lets initially try with 3 neighbours\n",
    "model = KNeighborsClassifier(n_neighbors=3)\n",
    "\n",
    "model.fit(X_train, y_train)\n",
    "\n",
    "y_predict = model.predict(X_test)\n",
    "\n",
    "accuracy_score(y_test, y_predict)"
   ]
  },
  {
   "cell_type": "code",
   "execution_count": 13,
   "id": "d5176035-393f-4f16-99ae-97281f28e3a3",
   "metadata": {},
   "outputs": [
    {
     "data": {
      "text/html": [
       "<div>\n",
       "<style scoped>\n",
       "    .dataframe tbody tr th:only-of-type {\n",
       "        vertical-align: middle;\n",
       "    }\n",
       "\n",
       "    .dataframe tbody tr th {\n",
       "        vertical-align: top;\n",
       "    }\n",
       "\n",
       "    .dataframe thead th {\n",
       "        text-align: right;\n",
       "    }\n",
       "</style>\n",
       "<table border=\"1\" class=\"dataframe\">\n",
       "  <thead>\n",
       "    <tr style=\"text-align: right;\">\n",
       "      <th>col_0</th>\n",
       "      <th>0</th>\n",
       "      <th>1</th>\n",
       "      <th>2</th>\n",
       "    </tr>\n",
       "    <tr>\n",
       "      <th>Species</th>\n",
       "      <th></th>\n",
       "      <th></th>\n",
       "      <th></th>\n",
       "    </tr>\n",
       "  </thead>\n",
       "  <tbody>\n",
       "    <tr>\n",
       "      <th>0</th>\n",
       "      <td>11</td>\n",
       "      <td>0</td>\n",
       "      <td>0</td>\n",
       "    </tr>\n",
       "    <tr>\n",
       "      <th>1</th>\n",
       "      <td>0</td>\n",
       "      <td>12</td>\n",
       "      <td>0</td>\n",
       "    </tr>\n",
       "    <tr>\n",
       "      <th>2</th>\n",
       "      <td>0</td>\n",
       "      <td>1</td>\n",
       "      <td>14</td>\n",
       "    </tr>\n",
       "  </tbody>\n",
       "</table>\n",
       "</div>"
      ],
      "text/plain": [
       "col_0     0   1   2\n",
       "Species            \n",
       "0        11   0   0\n",
       "1         0  12   0\n",
       "2         0   1  14"
      ]
     },
     "execution_count": 13,
     "metadata": {},
     "output_type": "execute_result"
    }
   ],
   "source": [
    "pd.crosstab(y_test, y_predict)"
   ]
  },
  {
   "cell_type": "markdown",
   "id": "a618918c-aaae-4b63-a8e1-890e899ada3c",
   "metadata": {},
   "source": [
    "# here only one virginica has been wrongly classified as versi color"
   ]
  },
  {
   "cell_type": "markdown",
   "id": "f4cd8ea1-8c43-4ca6-9c13-c9c7e984349f",
   "metadata": {},
   "source": [
    "# but lets further ourselves with classification report to check the precision recall and f1_score of our model"
   ]
  },
  {
   "cell_type": "code",
   "execution_count": 16,
   "id": "6bf147c6-be75-4dd9-870a-03a9fa7acd5c",
   "metadata": {},
   "outputs": [
    {
     "name": "stdout",
     "output_type": "stream",
     "text": [
      "              precision    recall  f1-score   support\n",
      "\n",
      "           0       1.00      1.00      1.00        11\n",
      "           1       0.92      1.00      0.96        12\n",
      "           2       1.00      0.93      0.97        15\n",
      "\n",
      "    accuracy                           0.97        38\n",
      "   macro avg       0.97      0.98      0.98        38\n",
      "weighted avg       0.98      0.97      0.97        38\n",
      "\n"
     ]
    }
   ],
   "source": [
    "print(classification_report(y_test, y_predict))"
   ]
  },
  {
   "cell_type": "code",
   "execution_count": 18,
   "id": "7af3b351-fad7-453c-8f00-96d698765279",
   "metadata": {},
   "outputs": [
    {
     "data": {
      "text/plain": [
       "<AxesSubplot:xlabel='col_0', ylabel='Species'>"
      ]
     },
     "execution_count": 18,
     "metadata": {},
     "output_type": "execute_result"
    },
    {
     "data": {
      "image/png": "[encoded data removed]",
      "text/plain": [
       "<Figure size 432x288 with 2 Axes>"
      ]
     },
     "metadata": {
      "needs_background": "light"
     },
     "output_type": "display_data"
    }
   ],
   "source": [
    "sns.heatmap(pd.crosstab(y_test, y_predict), annot=True)"
   ]
  },
  {
   "cell_type": "markdown",
   "id": "ccdad7c7-7114-4ad6-93e8-6069d4bcbb20",
   "metadata": {},
   "source": [
    "# we can even check for outliers using two methods - z score and percentile method or visualize using our box plot"
   ]
  },
  {
   "cell_type": "code",
   "execution_count": 21,
   "id": "1374dd2b-7da9-4650-907a-d08784af817e",
   "metadata": {},
   "outputs": [
    {
     "name": "stderr",
     "output_type": "stream",
     "text": [
      "/home/bunny/anaconda3/lib/python3.8/site-packages/seaborn/_decorators.py:36: FutureWarning: Pass the following variable as a keyword arg: x. From version 0.12, the only valid positional argument will be `data`, and passing other arguments without an explicit keyword will result in an error or misinterpretation.\n",
      "  warnings.warn(\n"
     ]
    },
    {
     "data": {
      "text/plain": [
       "<AxesSubplot:xlabel='SepalLengthCm'>"
      ]
     },
     "execution_count": 21,
     "metadata": {},
     "output_type": "execute_result"
    },
    {
     "data": {
      "image/png": "[encoded data removed]",
      "text/plain": [
       "<Figure size 432x288 with 1 Axes>"
      ]
     },
     "metadata": {
      "needs_background": "light"
     },
     "output_type": "display_data"
    }
   ],
   "source": [
    "# function to plot box plots of our data frame\n",
    "# lets also define a function that returns z score of all of the columns of our data frame\n",
    "\n",
    "def z_score(df):\n",
    "    return {i: stats.zscore(df[i]) for i in df}\n",
    "\n",
    "sns.boxplot(df.SepalLengthCm)"
   ]
  },
  {
   "cell_type": "code",
   "execution_count": 22,
   "id": "aa471f71-3129-46ef-b124-63798df455a8",
   "metadata": {},
   "outputs": [
    {
     "name": "stderr",
     "output_type": "stream",
     "text": [
      "/home/bunny/anaconda3/lib/python3.8/site-packages/seaborn/_decorators.py:36: FutureWarning: Pass the following variable as a keyword arg: x. From version 0.12, the only valid positional argument will be `data`, and passing other arguments without an explicit keyword will result in an error or misinterpretation.\n",
      "  warnings.warn(\n"
     ]
    },
    {
     "data": {
      "text/plain": [
       "<AxesSubplot:xlabel='SepalWidthCm'>"
      ]
     },
     "execution_count": 22,
     "metadata": {},
     "output_type": "execute_result"
    },
    {
     "data": {
      "image/png": "[encoded data removed]",
      "text/plain": [
       "<Figure size 432x288 with 1 Axes>"
      ]
     },
     "metadata": {
      "needs_background": "light"
     },
     "output_type": "display_data"
    }
   ],
   "source": [
    "sns.boxplot(df.SepalWidthCm)"
   ]
  },
  {
   "cell_type": "code",
   "execution_count": 23,
   "id": "880d2ab1-6bf1-4032-b427-1f72045914c0",
   "metadata": {},
   "outputs": [
    {
     "name": "stderr",
     "output_type": "stream",
     "text": [
      "/home/bunny/anaconda3/lib/python3.8/site-packages/seaborn/_decorators.py:36: FutureWarning: Pass the following variable as a keyword arg: x. From version 0.12, the only valid positional argument will be `data`, and passing other arguments without an explicit keyword will result in an error or misinterpretation.\n",
      "  warnings.warn(\n"
     ]
    },
    {
     "data": {
      "text/plain": [
       "<AxesSubplot:xlabel='PetalLengthCm'>"
      ]
     },
     "execution_count": 23,
     "metadata": {},
     "output_type": "execute_result"
    },
    {
     "data": {
      "image/png": "[encoded data removed]",
      "text/plain": [
       "<Figure size 432x288 with 1 Axes>"
      ]
     },
     "metadata": {
      "needs_background": "light"
     },
     "output_type": "display_data"
    }
   ],
   "source": [
    "sns.boxplot(df.PetalLengthCm)"
   ]
  },
  {
   "cell_type": "code",
   "execution_count": 24,
   "id": "1f716c77-e9d9-44b6-b910-108c357ee4a3",
   "metadata": {},
   "outputs": [
    {
     "name": "stderr",
     "output_type": "stream",
     "text": [
      "/home/bunny/anaconda3/lib/python3.8/site-packages/seaborn/_decorators.py:36: FutureWarning: Pass the following variable as a keyword arg: x. From version 0.12, the only valid positional argument will be `data`, and passing other arguments without an explicit keyword will result in an error or misinterpretation.\n",
      "  warnings.warn(\n"
     ]
    },
    {
     "data": {
      "text/plain": [
       "<AxesSubplot:xlabel='PetalWidthCm'>"
      ]
     },
     "execution_count": 24,
     "metadata": {},
     "output_type": "execute_result"
    },
    {
     "data": {
      "image/png": "[encoded data removed]",
      "text/plain": [
       "<Figure size 432x288 with 1 Axes>"
      ]
     },
     "metadata": {
      "needs_background": "light"
     },
     "output_type": "display_data"
    }
   ],
   "source": [
    "sns.boxplot(df.PetalWidthCm)"
   ]
  },
  {
   "cell_type": "markdown",
   "id": "f1988704-5479-423a-afef-1d85288b3be4",
   "metadata": {},
   "source": [
    "Only our column sepalwidth cm has some outlier so lets remove them using zscore method"
   ]
  },
  {
   "cell_type": "code",
   "execution_count": 25,
   "id": "ea3acb2d-f3ad-4556-b9a9-412122828f25",
   "metadata": {},
   "outputs": [],
   "source": [
    "z_score = z_score(df.iloc[:,:-1])"
   ]
  },
  {
   "cell_type": "code",
   "execution_count": 26,
   "id": "98aa0822-86a4-4255-9b6b-ca55803f3451",
   "metadata": {},
   "outputs": [
    {
     "data": {
      "text/plain": [
       "{'SepalLengthCm': array([-0.90068117, -1.14301691, -1.38535265, -1.50652052, -1.02184904,\n",
       "        -0.53717756, -1.50652052, -1.02184904, -1.74885626, -1.14301691,\n",
       "        -0.53717756, -1.26418478, -1.26418478, -1.87002413, -0.05250608,\n",
       "        -0.17367395, -0.53717756, -0.90068117, -0.17367395, -0.90068117,\n",
       "        -0.53717756, -0.90068117, -1.50652052, -0.90068117, -1.26418478,\n",
       "        -1.02184904, -1.02184904, -0.7795133 , -0.7795133 , -1.38535265,\n",
       "        -1.26418478, -0.53717756, -0.7795133 , -0.41600969, -1.14301691,\n",
       "        -1.02184904, -0.41600969, -1.14301691, -1.74885626, -0.90068117,\n",
       "        -1.02184904, -1.62768839, -1.74885626, -1.02184904, -0.90068117,\n",
       "        -1.26418478, -0.90068117, -1.50652052, -0.65834543, -1.02184904,\n",
       "         1.40150837,  0.67450115,  1.2803405 , -0.41600969,  0.79566902,\n",
       "        -0.17367395,  0.55333328, -1.14301691,  0.91683689, -0.7795133 ,\n",
       "        -1.02184904,  0.06866179,  0.18982966,  0.31099753, -0.29484182,\n",
       "         1.03800476, -0.29484182, -0.05250608,  0.4321654 , -0.29484182,\n",
       "         0.06866179,  0.31099753,  0.55333328,  0.31099753,  0.67450115,\n",
       "         0.91683689,  1.15917263,  1.03800476,  0.18982966, -0.17367395,\n",
       "        -0.41600969, -0.41600969, -0.05250608,  0.18982966, -0.53717756,\n",
       "         0.18982966,  1.03800476,  0.55333328, -0.29484182, -0.41600969,\n",
       "        -0.41600969,  0.31099753, -0.05250608, -1.02184904, -0.29484182,\n",
       "        -0.17367395, -0.17367395,  0.4321654 , -0.90068117, -0.17367395,\n",
       "         0.55333328, -0.05250608,  1.52267624,  0.55333328,  0.79566902,\n",
       "         2.12851559, -1.14301691,  1.76501198,  1.03800476,  1.64384411,\n",
       "         0.79566902,  0.67450115,  1.15917263, -0.17367395, -0.05250608,\n",
       "         0.67450115,  0.79566902,  2.24968346,  2.24968346,  0.18982966,\n",
       "         1.2803405 , -0.29484182,  2.24968346,  0.55333328,  1.03800476,\n",
       "         1.64384411,  0.4321654 ,  0.31099753,  0.67450115,  1.64384411,\n",
       "         1.88617985,  2.4920192 ,  0.67450115,  0.55333328,  0.31099753,\n",
       "         2.24968346,  0.55333328,  0.67450115,  0.18982966,  1.2803405 ,\n",
       "         1.03800476,  1.2803405 , -0.05250608,  1.15917263,  1.03800476,\n",
       "         1.03800476,  0.55333328,  0.79566902,  0.4321654 ,  0.06866179]),\n",
       " 'SepalWidthCm': array([ 1.03205722, -0.1249576 ,  0.33784833,  0.10644536,  1.26346019,\n",
       "         1.95766909,  0.80065426,  0.80065426, -0.35636057,  0.10644536,\n",
       "         1.49486315,  0.80065426, -0.1249576 , -0.1249576 ,  2.18907205,\n",
       "         3.11468391,  1.95766909,  1.03205722,  1.72626612,  1.72626612,\n",
       "         0.80065426,  1.49486315,  1.26346019,  0.56925129,  0.80065426,\n",
       "        -0.1249576 ,  0.80065426,  1.03205722,  0.80065426,  0.33784833,\n",
       "         0.10644536,  0.80065426,  2.42047502,  2.65187798,  0.10644536,\n",
       "         0.33784833,  1.03205722,  0.10644536, -0.1249576 ,  0.80065426,\n",
       "         1.03205722, -1.74477836,  0.33784833,  1.03205722,  1.72626612,\n",
       "        -0.1249576 ,  1.72626612,  0.33784833,  1.49486315,  0.56925129,\n",
       "         0.33784833,  0.33784833,  0.10644536, -1.74477836, -0.58776353,\n",
       "        -0.58776353,  0.56925129, -1.51337539, -0.35636057, -0.8191665 ,\n",
       "        -2.43898725, -0.1249576 , -1.97618132, -0.35636057, -0.35636057,\n",
       "         0.10644536, -0.1249576 , -0.8191665 , -1.97618132, -1.28197243,\n",
       "         0.33784833, -0.58776353, -1.28197243, -0.58776353, -0.35636057,\n",
       "        -0.1249576 , -0.58776353, -0.1249576 , -0.35636057, -1.05056946,\n",
       "        -1.51337539, -1.51337539, -0.8191665 , -0.8191665 , -0.1249576 ,\n",
       "         0.80065426,  0.10644536, -1.74477836, -0.1249576 , -1.28197243,\n",
       "        -1.05056946, -0.1249576 , -1.05056946, -1.74477836, -0.8191665 ,\n",
       "        -0.1249576 , -0.35636057, -0.35636057, -1.28197243, -0.58776353,\n",
       "         0.56925129, -0.8191665 , -0.1249576 , -0.35636057, -0.1249576 ,\n",
       "        -0.1249576 , -1.28197243, -0.35636057, -1.28197243,  1.26346019,\n",
       "         0.33784833, -0.8191665 , -0.1249576 , -1.28197243, -0.58776353,\n",
       "         0.33784833, -0.1249576 ,  1.72626612, -1.05056946, -1.97618132,\n",
       "         0.33784833, -0.58776353, -0.58776353, -0.8191665 ,  0.56925129,\n",
       "         0.33784833, -0.58776353, -0.1249576 , -0.58776353, -0.1249576 ,\n",
       "        -0.58776353,  1.72626612, -0.58776353, -0.58776353, -1.05056946,\n",
       "        -0.1249576 ,  0.80065426,  0.10644536, -0.1249576 ,  0.10644536,\n",
       "         0.10644536,  0.10644536, -0.8191665 ,  0.33784833,  0.56925129,\n",
       "        -0.1249576 , -1.28197243, -0.1249576 ,  0.80065426, -0.1249576 ]),\n",
       " 'PetalLengthCm': array([-1.3412724 , -1.3412724 , -1.39813811, -1.2844067 , -1.3412724 ,\n",
       "        -1.17067529, -1.3412724 , -1.2844067 , -1.3412724 , -1.2844067 ,\n",
       "        -1.2844067 , -1.227541  , -1.3412724 , -1.51186952, -1.45500381,\n",
       "        -1.2844067 , -1.39813811, -1.3412724 , -1.17067529, -1.2844067 ,\n",
       "        -1.17067529, -1.2844067 , -1.56873522, -1.17067529, -1.05694388,\n",
       "        -1.227541  , -1.227541  , -1.2844067 , -1.3412724 , -1.227541  ,\n",
       "        -1.227541  , -1.2844067 , -1.2844067 , -1.3412724 , -1.2844067 ,\n",
       "        -1.45500381, -1.39813811, -1.2844067 , -1.39813811, -1.2844067 ,\n",
       "        -1.39813811, -1.39813811, -1.39813811, -1.227541  , -1.05694388,\n",
       "        -1.3412724 , -1.227541  , -1.3412724 , -1.2844067 , -1.3412724 ,\n",
       "         0.53529583,  0.42156442,  0.64902723,  0.1372359 ,  0.47843012,\n",
       "         0.42156442,  0.53529583, -0.26082403,  0.47843012,  0.08037019,\n",
       "        -0.14709262,  0.25096731,  0.1372359 ,  0.53529583, -0.09022692,\n",
       "         0.36469871,  0.42156442,  0.1941016 ,  0.42156442,  0.08037019,\n",
       "         0.59216153,  0.1372359 ,  0.64902723,  0.53529583,  0.30783301,\n",
       "         0.36469871,  0.59216153,  0.70589294,  0.42156442, -0.14709262,\n",
       "         0.02350449, -0.03336121,  0.08037019,  0.76275864,  0.42156442,\n",
       "         0.42156442,  0.53529583,  0.36469871,  0.1941016 ,  0.1372359 ,\n",
       "         0.36469871,  0.47843012,  0.1372359 , -0.26082403,  0.25096731,\n",
       "         0.25096731,  0.25096731,  0.30783301, -0.43142114,  0.1941016 ,\n",
       "         1.27454998,  0.76275864,  1.21768427,  1.04708716,  1.16081857,\n",
       "         1.6157442 ,  0.42156442,  1.44514709,  1.16081857,  1.33141568,\n",
       "         0.76275864,  0.87649005,  0.99022146,  0.70589294,  0.76275864,\n",
       "         0.87649005,  0.99022146,  1.67260991,  1.78634131,  0.70589294,\n",
       "         1.10395287,  0.64902723,  1.67260991,  0.64902723,  1.10395287,\n",
       "         1.27454998,  0.59216153,  0.64902723,  1.04708716,  1.16081857,\n",
       "         1.33141568,  1.50201279,  1.04708716,  0.76275864,  1.04708716,\n",
       "         1.33141568,  1.04708716,  0.99022146,  0.59216153,  0.93335575,\n",
       "         1.04708716,  0.76275864,  0.76275864,  1.21768427,  1.10395287,\n",
       "         0.81962435,  0.70589294,  0.81962435,  0.93335575,  0.76275864]),\n",
       " 'PetalWidthCm': array([-1.31297673, -1.31297673, -1.31297673, -1.31297673, -1.31297673,\n",
       "        -1.05003079, -1.18150376, -1.31297673, -1.31297673, -1.4444497 ,\n",
       "        -1.31297673, -1.31297673, -1.4444497 , -1.4444497 , -1.31297673,\n",
       "        -1.05003079, -1.05003079, -1.18150376, -1.18150376, -1.18150376,\n",
       "        -1.31297673, -1.05003079, -1.31297673, -0.91855782, -1.31297673,\n",
       "        -1.31297673, -1.05003079, -1.31297673, -1.31297673, -1.31297673,\n",
       "        -1.31297673, -1.05003079, -1.4444497 , -1.31297673, -1.4444497 ,\n",
       "        -1.31297673, -1.31297673, -1.4444497 , -1.31297673, -1.31297673,\n",
       "        -1.18150376, -1.18150376, -1.31297673, -0.78708485, -1.05003079,\n",
       "        -1.18150376, -1.31297673, -1.31297673, -1.31297673, -1.31297673,\n",
       "         0.26469891,  0.39617188,  0.39617188,  0.13322594,  0.39617188,\n",
       "         0.13322594,  0.52764485, -0.26119297,  0.13322594,  0.26469891,\n",
       "        -0.26119297,  0.39617188, -0.26119297,  0.26469891,  0.13322594,\n",
       "         0.26469891,  0.39617188, -0.26119297,  0.39617188, -0.12972   ,\n",
       "         0.79059079,  0.13322594,  0.39617188,  0.00175297,  0.13322594,\n",
       "         0.26469891,  0.26469891,  0.65911782,  0.39617188, -0.26119297,\n",
       "        -0.12972   , -0.26119297,  0.00175297,  0.52764485,  0.39617188,\n",
       "         0.52764485,  0.39617188,  0.13322594,  0.13322594,  0.13322594,\n",
       "         0.00175297,  0.26469891,  0.00175297, -0.26119297,  0.13322594,\n",
       "         0.00175297,  0.13322594,  0.13322594, -0.12972   ,  0.13322594,\n",
       "         1.71090158,  0.92206376,  1.1850097 ,  0.79059079,  1.31648267,\n",
       "         1.1850097 ,  0.65911782,  0.79059079,  0.79059079,  1.71090158,\n",
       "         1.05353673,  0.92206376,  1.1850097 ,  1.05353673,  1.57942861,\n",
       "         1.44795564,  0.79059079,  1.31648267,  1.44795564,  0.39617188,\n",
       "         1.44795564,  1.05353673,  1.05353673,  0.79059079,  1.1850097 ,\n",
       "         0.79059079,  0.79059079,  0.79059079,  1.1850097 ,  0.52764485,\n",
       "         0.92206376,  1.05353673,  1.31648267,  0.39617188,  0.26469891,\n",
       "         1.44795564,  1.57942861,  0.79059079,  0.79059079,  1.1850097 ,\n",
       "         1.57942861,  1.44795564,  0.92206376,  1.44795564,  1.71090158,\n",
       "         1.44795564,  0.92206376,  1.05353673,  1.44795564,  0.79059079])}"
      ]
     },
     "execution_count": 26,
     "metadata": {},
     "output_type": "execute_result"
    }
   ],
   "source": [
    "z_score"
   ]
  },
  {
   "cell_type": "code",
   "execution_count": 27,
   "id": "f90a3265-e1ef-477d-909d-cbae15b170bd",
   "metadata": {},
   "outputs": [
    {
     "data": {
      "text/plain": [
       "(149, 5)"
      ]
     },
     "execution_count": 27,
     "metadata": {},
     "output_type": "execute_result"
    }
   ],
   "source": [
    "df_outlier_free = df[np.abs(z_score.get('SepalWidthCm')) <= 3]\n",
    "df_outlier_free.shape"
   ]
  },
  {
   "cell_type": "code",
   "execution_count": 28,
   "id": "a39f7eee-2ccf-4618-8d85-7e0d014777f8",
   "metadata": {},
   "outputs": [
    {
     "data": {
      "text/plain": [
       "(150, 5)"
      ]
     },
     "execution_count": 28,
     "metadata": {},
     "output_type": "execute_result"
    }
   ],
   "source": [
    "df.shape"
   ]
  },
  {
   "cell_type": "code",
   "execution_count": 29,
   "id": "6fa27f8c-2adc-46e3-bc7c-7d328981646f",
   "metadata": {},
   "outputs": [
    {
     "name": "stderr",
     "output_type": "stream",
     "text": [
      "/home/bunny/anaconda3/lib/python3.8/site-packages/seaborn/_decorators.py:36: FutureWarning: Pass the following variable as a keyword arg: x. From version 0.12, the only valid positional argument will be `data`, and passing other arguments without an explicit keyword will result in an error or misinterpretation.\n",
      "  warnings.warn(\n"
     ]
    },
    {
     "data": {
      "text/plain": [
       "<AxesSubplot:xlabel='SepalWidthCm'>"
      ]
     },
     "execution_count": 29,
     "metadata": {},
     "output_type": "execute_result"
    },
    {
     "data": {
      "image/png": "[encoded data removed]",
      "text/plain": [
       "<Figure size 432x288 with 1 Axes>"
      ]
     },
     "metadata": {
      "needs_background": "light"
     },
     "output_type": "display_data"
    }
   ],
   "source": [
    "sns.boxplot(df.SepalWidthCm)"
   ]
  },
  {
   "cell_type": "markdown",
   "id": "1c80b648-8c54-4597-af1c-0fd6b2a02f08",
   "metadata": {},
   "source": [
    "### so our z-score method has not completely removed the outliers so lets try the percentile method"
   ]
  },
  {
   "cell_type": "code",
   "execution_count": 30,
   "id": "25dc3e2b-5883-493c-a29f-a8ca8d985bf9",
   "metadata": {},
   "outputs": [
    {
     "data": {
      "text/plain": [
       "4.170400000000001"
      ]
     },
     "execution_count": 30,
     "metadata": {},
     "output_type": "execute_result"
    }
   ],
   "source": [
    "df_outlier_free.SepalWidthCm.quantile(0.998)"
   ]
  },
  {
   "cell_type": "code",
   "execution_count": 32,
   "id": "3caefd3b-dc70-4e7e-8a79-417a9cc5fbae",
   "metadata": {},
   "outputs": [
    {
     "data": {
      "text/plain": [
       "(148, 5)"
      ]
     },
     "execution_count": 32,
     "metadata": {},
     "output_type": "execute_result"
    }
   ],
   "source": [
    "df_perr = df_outlier_free[df_outlier_free.SepalWidthCm <= df_outlier_free.SepalWidthCm.quantile(0.998)]\n",
    "df_perr.shape"
   ]
  },
  {
   "cell_type": "code",
   "execution_count": 34,
   "id": "0c98fc56-2586-44c7-b9ca-2df897457dd2",
   "metadata": {},
   "outputs": [
    {
     "data": {
      "text/html": [
       "<div>\n",
       "<style scoped>\n",
       "    .dataframe tbody tr th:only-of-type {\n",
       "        vertical-align: middle;\n",
       "    }\n",
       "\n",
       "    .dataframe tbody tr th {\n",
       "        vertical-align: top;\n",
       "    }\n",
       "\n",
       "    .dataframe thead th {\n",
       "        text-align: right;\n",
       "    }\n",
       "</style>\n",
       "<table border=\"1\" class=\"dataframe\">\n",
       "  <thead>\n",
       "    <tr style=\"text-align: right;\">\n",
       "      <th></th>\n",
       "      <th>SepalLengthCm</th>\n",
       "      <th>SepalWidthCm</th>\n",
       "      <th>PetalLengthCm</th>\n",
       "      <th>PetalWidthCm</th>\n",
       "      <th>Species</th>\n",
       "    </tr>\n",
       "    <tr>\n",
       "      <th>Id</th>\n",
       "      <th></th>\n",
       "      <th></th>\n",
       "      <th></th>\n",
       "      <th></th>\n",
       "      <th></th>\n",
       "    </tr>\n",
       "  </thead>\n",
       "  <tbody>\n",
       "    <tr>\n",
       "      <th>1</th>\n",
       "      <td>5.1</td>\n",
       "      <td>3.5</td>\n",
       "      <td>1.4</td>\n",
       "      <td>0.2</td>\n",
       "      <td>0</td>\n",
       "    </tr>\n",
       "    <tr>\n",
       "      <th>2</th>\n",
       "      <td>4.9</td>\n",
       "      <td>3.0</td>\n",
       "      <td>1.4</td>\n",
       "      <td>0.2</td>\n",
       "      <td>0</td>\n",
       "    </tr>\n",
       "    <tr>\n",
       "      <th>3</th>\n",
       "      <td>4.7</td>\n",
       "      <td>3.2</td>\n",
       "      <td>1.3</td>\n",
       "      <td>0.2</td>\n",
       "      <td>0</td>\n",
       "    </tr>\n",
       "    <tr>\n",
       "      <th>4</th>\n",
       "      <td>4.6</td>\n",
       "      <td>3.1</td>\n",
       "      <td>1.5</td>\n",
       "      <td>0.2</td>\n",
       "      <td>0</td>\n",
       "    </tr>\n",
       "    <tr>\n",
       "      <th>5</th>\n",
       "      <td>5.0</td>\n",
       "      <td>3.6</td>\n",
       "      <td>1.4</td>\n",
       "      <td>0.2</td>\n",
       "      <td>0</td>\n",
       "    </tr>\n",
       "  </tbody>\n",
       "</table>\n",
       "</div>"
      ],
      "text/plain": [
       "    SepalLengthCm  SepalWidthCm  PetalLengthCm  PetalWidthCm  Species\n",
       "Id                                                                   \n",
       "1             5.1           3.5            1.4           0.2        0\n",
       "2             4.9           3.0            1.4           0.2        0\n",
       "3             4.7           3.2            1.3           0.2        0\n",
       "4             4.6           3.1            1.5           0.2        0\n",
       "5             5.0           3.6            1.4           0.2        0"
      ]
     },
     "execution_count": 34,
     "metadata": {},
     "output_type": "execute_result"
    }
   ],
   "source": [
    "df_perr.head()"
   ]
  },
  {
   "cell_type": "code",
   "execution_count": 36,
   "id": "9e78cfb6-ace7-4b54-84db-40f5e3e1eee8",
   "metadata": {},
   "outputs": [
    {
     "name": "stderr",
     "output_type": "stream",
     "text": [
      "/home/bunny/anaconda3/lib/python3.8/site-packages/seaborn/_decorators.py:36: FutureWarning: Pass the following variable as a keyword arg: x. From version 0.12, the only valid positional argument will be `data`, and passing other arguments without an explicit keyword will result in an error or misinterpretation.\n",
      "  warnings.warn(\n"
     ]
    },
    {
     "data": {
      "text/plain": [
       "<AxesSubplot:xlabel='SepalWidthCm'>"
      ]
     },
     "execution_count": 36,
     "metadata": {},
     "output_type": "execute_result"
    },
    {
     "data": {
      "image/png": "[encoded data removed]",
      "text/plain": [
       "<Figure size 432x288 with 1 Axes>"
      ]
     },
     "metadata": {
      "needs_background": "light"
     },
     "output_type": "display_data"
    }
   ],
   "source": [
    "sns.boxplot(df_perr.SepalWidthCm)"
   ]
  },
  {
   "cell_type": "markdown",
   "id": "8e6527b0-6c02-4345-ae3a-6eb0bd3b5789",
   "metadata": {},
   "source": [
    "## we can remove these outliers by reducing the percentile rank and testing using box plot"
   ]
  },
  {
   "cell_type": "code",
   "execution_count": 37,
   "id": "d0a9cde9-383a-40a1-887e-53bdd433a135",
   "metadata": {},
   "outputs": [
    {
     "name": "stderr",
     "output_type": "stream",
     "text": [
      "/home/bunny/anaconda3/lib/python3.8/site-packages/seaborn/_decorators.py:36: FutureWarning: Pass the following variable as a keyword arg: x. From version 0.12, the only valid positional argument will be `data`, and passing other arguments without an explicit keyword will result in an error or misinterpretation.\n",
      "  warnings.warn(\n"
     ]
    },
    {
     "data": {
      "text/plain": [
       "<AxesSubplot:xlabel='SepalWidthCm'>"
      ]
     },
     "execution_count": 37,
     "metadata": {},
     "output_type": "execute_result"
    },
    {
     "data": {
      "image/png": "[encoded data removed]",
      "text/plain": [
       "<Figure size 432x288 with 1 Axes>"
      ]
     },
     "metadata": {
      "needs_background": "light"
     },
     "output_type": "display_data"
    }
   ],
   "source": [
    "df_perr2 = df_perr[df_perr.SepalWidthCm <= df_perr.SepalWidthCm.quantile(0.98)]\n",
    "sns.boxplot(df_perr2.SepalWidthCm)"
   ]
  },
  {
   "cell_type": "markdown",
   "id": "f48139f5-b4db-4f23-8d43-13de7d71a631",
   "metadata": {},
   "source": [
    "# now all the outliers on the right side are removed lets remove the left side outlier using percentile rank"
   ]
  },
  {
   "cell_type": "code",
   "execution_count": 40,
   "id": "5029ffe4-b566-4411-ac91-522578a1800c",
   "metadata": {},
   "outputs": [
    {
     "name": "stdout",
     "output_type": "stream",
     "text": [
      "(146, 5) (145, 5)\n"
     ]
    }
   ],
   "source": [
    "df_perr3 = df_perr2[df_perr2.SepalWidthCm >= df_perr2.SepalWidthCm.quantile(0.01)]\n",
    "\n",
    "print(df_perr2.shape, df_perr3.shape)"
   ]
  },
  {
   "cell_type": "code",
   "execution_count": 41,
   "id": "6c3bdd84-10e7-4598-b616-46c93ae1097b",
   "metadata": {},
   "outputs": [
    {
     "name": "stderr",
     "output_type": "stream",
     "text": [
      "/home/bunny/anaconda3/lib/python3.8/site-packages/seaborn/_decorators.py:36: FutureWarning: Pass the following variable as a keyword arg: x. From version 0.12, the only valid positional argument will be `data`, and passing other arguments without an explicit keyword will result in an error or misinterpretation.\n",
      "  warnings.warn(\n"
     ]
    },
    {
     "data": {
      "text/plain": [
       "<AxesSubplot:xlabel='SepalWidthCm'>"
      ]
     },
     "execution_count": 41,
     "metadata": {},
     "output_type": "execute_result"
    },
    {
     "data": {
      "image/png": "[encoded data removed]",
      "text/plain": [
       "<Figure size 432x288 with 1 Axes>"
      ]
     },
     "metadata": {
      "needs_background": "light"
     },
     "output_type": "display_data"
    }
   ],
   "source": [
    "sns.boxplot(df_perr3.SepalWidthCm)"
   ]
  },
  {
   "cell_type": "markdown",
   "id": "b0bca070-eb2e-41be-9a80-860cb7da6e90",
   "metadata": {},
   "source": [
    "# and hence we removed all the outliers now lets try building the KNN model again to see it it creates any difference"
   ]
  },
  {
   "cell_type": "code",
   "execution_count": 43,
   "id": "6f09730d-38ac-4f6f-a1df-8d3170b96256",
   "metadata": {},
   "outputs": [
    {
     "data": {
      "text/plain": [
       "1.0"
      ]
     },
     "execution_count": 43,
     "metadata": {},
     "output_type": "execute_result"
    }
   ],
   "source": [
    "X = df_perr3.iloc[:,:-1]\n",
    "y = df_perr3.Species\n",
    "\n",
    "X_train, X_test, y_train, y_test = train_test_split(X, y, test_size=0.25, random_state=150)\n",
    "\n",
    "model = KNeighborsClassifier(n_neighbors=3)\n",
    "\n",
    "model.fit(X_train, y_train)\n",
    "\n",
    "y_predict = model.predict(X_test)\n",
    "\n",
    "accuracy_score(y_test, y_predict)"
   ]
  },
  {
   "cell_type": "code",
   "execution_count": 45,
   "id": "3aae9425-d807-493c-92b7-8a990ee455e3",
   "metadata": {},
   "outputs": [
    {
     "name": "stdout",
     "output_type": "stream",
     "text": [
      "              precision    recall  f1-score   support\n",
      "\n",
      "           0       1.00      1.00      1.00        11\n",
      "           1       1.00      1.00      1.00        14\n",
      "           2       1.00      1.00      1.00        12\n",
      "\n",
      "    accuracy                           1.00        37\n",
      "   macro avg       1.00      1.00      1.00        37\n",
      "weighted avg       1.00      1.00      1.00        37\n",
      "\n"
     ]
    }
   ],
   "source": [
    "print(classification_report(y_test, y_predict))"
   ]
  },
  {
   "cell_type": "code",
   "execution_count": 47,
   "id": "d7dc5a09-b9bc-4447-a3a1-c10f4315eb9e",
   "metadata": {},
   "outputs": [
    {
     "data": {
      "text/plain": [
       "<AxesSubplot:xlabel='col_0', ylabel='Species'>"
      ]
     },
     "execution_count": 47,
     "metadata": {},
     "output_type": "execute_result"
    },
    {
     "data": {
      "image/png": "[encoded data removed]",
      "text/plain": [
       "<Figure size 432x288 with 2 Axes>"
      ]
     },
     "metadata": {
      "needs_background": "light"
     },
     "output_type": "display_data"
    }
   ],
   "source": [
    "sns.heatmap(pd.crosstab(y_test, y_predict), annot=True)"
   ]
  },
  {
   "cell_type": "code",
   "execution_count": null,
   "id": "b853b469-47ab-450a-a496-a9f4c9dc5b02",
   "metadata": {},
   "outputs": [],
   "source": []
  }
 ],
 "metadata": {
  "kernelspec": {
   "display_name": "Python 3",
   "language": "python",
   "name": "python3"
  },
  "language_info": {
   "codemirror_mode": {
    "name": "ipython",
    "version": 3
   },
   "file_extension": ".py",
   "mimetype": "text/x-python",
   "name": "python",
   "nbconvert_exporter": "python",
   "pygments_lexer": "ipython3",
   "version": "3.8.8"
  }
 },
 "nbformat": 4,
 "nbformat_minor": 5
}
