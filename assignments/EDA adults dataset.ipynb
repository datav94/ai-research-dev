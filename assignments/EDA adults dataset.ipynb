{
 "cells": [
  {
   "cell_type": "markdown",
   "id": "1b142e9d-2dac-4b8f-be16-754d0d4f30b2",
   "metadata": {},
   "source": [
    "# EDA on adults dataset"
   ]
  },
  {
   "cell_type": "code",
   "execution_count": 2,
   "id": "47a1a401-a969-459c-b5f4-bb1cc0d27dba",
   "metadata": {},
   "outputs": [],
   "source": [
    "import pandas as pd\n",
    "import seaborn as sns\n",
    "import numpy as np\n",
    "import matplotlib.pyplot as plt"
   ]
  },
  {
   "cell_type": "code",
   "execution_count": 4,
   "id": "2544ea5a-eb9e-4de6-a24a-cfe5f5f64bf7",
   "metadata": {},
   "outputs": [
    {
     "data": {
      "text/html": [
       "<div>\n",
       "<style scoped>\n",
       "    .dataframe tbody tr th:only-of-type {\n",
       "        vertical-align: middle;\n",
       "    }\n",
       "\n",
       "    .dataframe tbody tr th {\n",
       "        vertical-align: top;\n",
       "    }\n",
       "\n",
       "    .dataframe thead th {\n",
       "        text-align: right;\n",
       "    }\n",
       "</style>\n",
       "<table border=\"1\" class=\"dataframe\">\n",
       "  <thead>\n",
       "    <tr style=\"text-align: right;\">\n",
       "      <th></th>\n",
       "      <th>age</th>\n",
       "      <th>workclass</th>\n",
       "      <th>fnlwgt</th>\n",
       "      <th>education</th>\n",
       "      <th>education_num</th>\n",
       "      <th>marital_status</th>\n",
       "      <th>occupation</th>\n",
       "      <th>relationship</th>\n",
       "      <th>race</th>\n",
       "      <th>sex</th>\n",
       "      <th>capital_gain</th>\n",
       "      <th>capital_loss</th>\n",
       "      <th>hours_per_week</th>\n",
       "      <th>native_country</th>\n",
       "      <th>census_income</th>\n",
       "    </tr>\n",
       "  </thead>\n",
       "  <tbody>\n",
       "    <tr>\n",
       "      <th>0</th>\n",
       "      <td>50</td>\n",
       "      <td>Self-emp-not-inc</td>\n",
       "      <td>83311</td>\n",
       "      <td>Bachelors</td>\n",
       "      <td>13</td>\n",
       "      <td>Married-civ-spouse</td>\n",
       "      <td>Exec-managerial</td>\n",
       "      <td>Husband</td>\n",
       "      <td>White</td>\n",
       "      <td>Male</td>\n",
       "      <td>0</td>\n",
       "      <td>0</td>\n",
       "      <td>13</td>\n",
       "      <td>United-States</td>\n",
       "      <td>&lt;=50K</td>\n",
       "    </tr>\n",
       "    <tr>\n",
       "      <th>1</th>\n",
       "      <td>38</td>\n",
       "      <td>Private</td>\n",
       "      <td>215646</td>\n",
       "      <td>HS-grad</td>\n",
       "      <td>9</td>\n",
       "      <td>Divorced</td>\n",
       "      <td>Handlers-cleaners</td>\n",
       "      <td>Not-in-family</td>\n",
       "      <td>White</td>\n",
       "      <td>Male</td>\n",
       "      <td>0</td>\n",
       "      <td>0</td>\n",
       "      <td>40</td>\n",
       "      <td>United-States</td>\n",
       "      <td>&lt;=50K</td>\n",
       "    </tr>\n",
       "    <tr>\n",
       "      <th>2</th>\n",
       "      <td>53</td>\n",
       "      <td>Private</td>\n",
       "      <td>234721</td>\n",
       "      <td>11th</td>\n",
       "      <td>7</td>\n",
       "      <td>Married-civ-spouse</td>\n",
       "      <td>Handlers-cleaners</td>\n",
       "      <td>Husband</td>\n",
       "      <td>Black</td>\n",
       "      <td>Male</td>\n",
       "      <td>0</td>\n",
       "      <td>0</td>\n",
       "      <td>40</td>\n",
       "      <td>United-States</td>\n",
       "      <td>&lt;=50K</td>\n",
       "    </tr>\n",
       "    <tr>\n",
       "      <th>3</th>\n",
       "      <td>28</td>\n",
       "      <td>Private</td>\n",
       "      <td>338409</td>\n",
       "      <td>Bachelors</td>\n",
       "      <td>13</td>\n",
       "      <td>Married-civ-spouse</td>\n",
       "      <td>Prof-specialty</td>\n",
       "      <td>Wife</td>\n",
       "      <td>Black</td>\n",
       "      <td>Female</td>\n",
       "      <td>0</td>\n",
       "      <td>0</td>\n",
       "      <td>40</td>\n",
       "      <td>Cuba</td>\n",
       "      <td>&lt;=50K</td>\n",
       "    </tr>\n",
       "    <tr>\n",
       "      <th>4</th>\n",
       "      <td>37</td>\n",
       "      <td>Private</td>\n",
       "      <td>284582</td>\n",
       "      <td>Masters</td>\n",
       "      <td>14</td>\n",
       "      <td>Married-civ-spouse</td>\n",
       "      <td>Exec-managerial</td>\n",
       "      <td>Wife</td>\n",
       "      <td>White</td>\n",
       "      <td>Female</td>\n",
       "      <td>0</td>\n",
       "      <td>0</td>\n",
       "      <td>40</td>\n",
       "      <td>United-States</td>\n",
       "      <td>&lt;=50K</td>\n",
       "    </tr>\n",
       "  </tbody>\n",
       "</table>\n",
       "</div>"
      ],
      "text/plain": [
       "   age          workclass  fnlwgt   education  education_num  \\\n",
       "0   50   Self-emp-not-inc   83311   Bachelors             13   \n",
       "1   38            Private  215646     HS-grad              9   \n",
       "2   53            Private  234721        11th              7   \n",
       "3   28            Private  338409   Bachelors             13   \n",
       "4   37            Private  284582     Masters             14   \n",
       "\n",
       "        marital_status          occupation    relationship    race      sex  \\\n",
       "0   Married-civ-spouse     Exec-managerial         Husband   White     Male   \n",
       "1             Divorced   Handlers-cleaners   Not-in-family   White     Male   \n",
       "2   Married-civ-spouse   Handlers-cleaners         Husband   Black     Male   \n",
       "3   Married-civ-spouse      Prof-specialty            Wife   Black   Female   \n",
       "4   Married-civ-spouse     Exec-managerial            Wife   White   Female   \n",
       "\n",
       "   capital_gain  capital_loss  hours_per_week  native_country census_income  \n",
       "0             0             0              13   United-States         <=50K  \n",
       "1             0             0              40   United-States         <=50K  \n",
       "2             0             0              40   United-States         <=50K  \n",
       "3             0             0              40            Cuba         <=50K  \n",
       "4             0             0              40   United-States         <=50K  "
      ]
     },
     "execution_count": 4,
     "metadata": {},
     "output_type": "execute_result"
    }
   ],
   "source": [
    "df = pd.read_csv('https://archive.ics.uci.edu/ml/machine-learning-databases/adult/adult.data', na_values=' ?')\n",
    "df.columns = ['age','workclass','fnlwgt','education','education_num','marital_status','occupation','relationship','race','sex','capital_gain','capital_loss','hours_per_week','native_country','census_income']\n",
    "df.head()"
   ]
  },
  {
   "cell_type": "code",
   "execution_count": 5,
   "id": "d8c0fc55-2683-41df-a50d-604afa0d0fd7",
   "metadata": {},
   "outputs": [
    {
     "data": {
      "text/plain": [
       "age                  0\n",
       "workclass         1836\n",
       "fnlwgt               0\n",
       "education            0\n",
       "education_num        0\n",
       "marital_status       0\n",
       "occupation        1843\n",
       "relationship         0\n",
       "race                 0\n",
       "sex                  0\n",
       "capital_gain         0\n",
       "capital_loss         0\n",
       "hours_per_week       0\n",
       "native_country     583\n",
       "census_income        0\n",
       "dtype: int64"
      ]
     },
     "execution_count": 5,
     "metadata": {},
     "output_type": "execute_result"
    }
   ],
   "source": [
    "df.isnull().sum()"
   ]
  },
  {
   "cell_type": "code",
   "execution_count": 7,
   "id": "9a831569-1843-4529-8fd1-4febd9ccda46",
   "metadata": {},
   "outputs": [
    {
     "data": {
      "text/plain": [
       "array([' Self-emp-not-inc', ' Private', ' State-gov', ' Federal-gov',\n",
       "       ' Local-gov', nan, ' Self-emp-inc', ' Without-pay',\n",
       "       ' Never-worked'], dtype=object)"
      ]
     },
     "execution_count": 7,
     "metadata": {},
     "output_type": "execute_result"
    }
   ],
   "source": [
    "df.workclass.unique()"
   ]
  },
  {
   "cell_type": "code",
   "execution_count": 8,
   "id": "1d2db29e-dbc1-4a2d-bd4b-7c2027b9211c",
   "metadata": {},
   "outputs": [
    {
     "data": {
      "text/plain": [
       "array([' Bachelors', ' HS-grad', ' 11th', ' Masters', ' 9th',\n",
       "       ' Some-college', ' Assoc-acdm', ' Assoc-voc', ' 7th-8th',\n",
       "       ' Doctorate', ' Prof-school', ' 5th-6th', ' 10th', ' 1st-4th',\n",
       "       ' Preschool', ' 12th'], dtype=object)"
      ]
     },
     "execution_count": 8,
     "metadata": {},
     "output_type": "execute_result"
    }
   ],
   "source": [
    "df.education.unique()"
   ]
  },
  {
   "cell_type": "code",
   "execution_count": 13,
   "id": "018d0ee6-be34-46be-a1c4-77a8d29f95f5",
   "metadata": {},
   "outputs": [],
   "source": [
    "df_edu = df[['education','education_num']].groupby('education').mean().sort_values('education_num')"
   ]
  },
  {
   "cell_type": "code",
   "execution_count": 17,
   "id": "d75c8a22-12f7-4846-a88d-33b9ecdb848e",
   "metadata": {},
   "outputs": [
    {
     "data": {
      "text/html": [
       "<div>\n",
       "<style scoped>\n",
       "    .dataframe tbody tr th:only-of-type {\n",
       "        vertical-align: middle;\n",
       "    }\n",
       "\n",
       "    .dataframe tbody tr th {\n",
       "        vertical-align: top;\n",
       "    }\n",
       "\n",
       "    .dataframe thead th {\n",
       "        text-align: right;\n",
       "    }\n",
       "</style>\n",
       "<table border=\"1\" class=\"dataframe\">\n",
       "  <thead>\n",
       "    <tr style=\"text-align: right;\">\n",
       "      <th></th>\n",
       "      <th>education_num</th>\n",
       "    </tr>\n",
       "    <tr>\n",
       "      <th>education</th>\n",
       "      <th></th>\n",
       "    </tr>\n",
       "  </thead>\n",
       "  <tbody>\n",
       "    <tr>\n",
       "      <th>Preschool</th>\n",
       "      <td>1</td>\n",
       "    </tr>\n",
       "    <tr>\n",
       "      <th>1st-4th</th>\n",
       "      <td>2</td>\n",
       "    </tr>\n",
       "    <tr>\n",
       "      <th>5th-6th</th>\n",
       "      <td>3</td>\n",
       "    </tr>\n",
       "    <tr>\n",
       "      <th>7th-8th</th>\n",
       "      <td>4</td>\n",
       "    </tr>\n",
       "    <tr>\n",
       "      <th>9th</th>\n",
       "      <td>5</td>\n",
       "    </tr>\n",
       "    <tr>\n",
       "      <th>10th</th>\n",
       "      <td>6</td>\n",
       "    </tr>\n",
       "    <tr>\n",
       "      <th>11th</th>\n",
       "      <td>7</td>\n",
       "    </tr>\n",
       "    <tr>\n",
       "      <th>12th</th>\n",
       "      <td>8</td>\n",
       "    </tr>\n",
       "    <tr>\n",
       "      <th>HS-grad</th>\n",
       "      <td>9</td>\n",
       "    </tr>\n",
       "    <tr>\n",
       "      <th>Some-college</th>\n",
       "      <td>10</td>\n",
       "    </tr>\n",
       "    <tr>\n",
       "      <th>Assoc-voc</th>\n",
       "      <td>11</td>\n",
       "    </tr>\n",
       "    <tr>\n",
       "      <th>Assoc-acdm</th>\n",
       "      <td>12</td>\n",
       "    </tr>\n",
       "    <tr>\n",
       "      <th>Bachelors</th>\n",
       "      <td>13</td>\n",
       "    </tr>\n",
       "    <tr>\n",
       "      <th>Masters</th>\n",
       "      <td>14</td>\n",
       "    </tr>\n",
       "    <tr>\n",
       "      <th>Prof-school</th>\n",
       "      <td>15</td>\n",
       "    </tr>\n",
       "    <tr>\n",
       "      <th>Doctorate</th>\n",
       "      <td>16</td>\n",
       "    </tr>\n",
       "  </tbody>\n",
       "</table>\n",
       "</div>"
      ],
      "text/plain": [
       "               education_num\n",
       "education                   \n",
       " Preschool                 1\n",
       " 1st-4th                   2\n",
       " 5th-6th                   3\n",
       " 7th-8th                   4\n",
       " 9th                       5\n",
       " 10th                      6\n",
       " 11th                      7\n",
       " 12th                      8\n",
       " HS-grad                   9\n",
       " Some-college             10\n",
       " Assoc-voc                11\n",
       " Assoc-acdm               12\n",
       " Bachelors                13\n",
       " Masters                  14\n",
       " Prof-school              15\n",
       " Doctorate                16"
      ]
     },
     "execution_count": 17,
     "metadata": {},
     "output_type": "execute_result"
    }
   ],
   "source": [
    "df_edu"
   ]
  },
  {
   "cell_type": "code",
   "execution_count": 14,
   "id": "db0ea8fb-a37a-4f81-ba35-33487b7de63d",
   "metadata": {},
   "outputs": [],
   "source": [
    "edu_num = list(df_edu.education_num)"
   ]
  },
  {
   "cell_type": "code",
   "execution_count": 15,
   "id": "965a05ae-a939-4dc7-9833-d89375c0367c",
   "metadata": {},
   "outputs": [
    {
     "data": {
      "text/plain": [
       "[1, 2, 3, 4, 5, 6, 7, 8, 9, 10, 11, 12, 13, 14, 15, 16]"
      ]
     },
     "execution_count": 15,
     "metadata": {},
     "output_type": "execute_result"
    }
   ],
   "source": [
    "edu_num"
   ]
  },
  {
   "cell_type": "code",
   "execution_count": 16,
   "id": "8bd2e564-00d4-4150-9a88-2b340add3adb",
   "metadata": {},
   "outputs": [
    {
     "data": {
      "text/plain": [
       "[' Self-emp-not-inc',\n",
       " ' Private',\n",
       " ' State-gov',\n",
       " ' Federal-gov',\n",
       " ' Local-gov',\n",
       " nan,\n",
       " ' Self-emp-inc',\n",
       " ' Without-pay',\n",
       " ' Never-worked']"
      ]
     },
     "execution_count": 16,
     "metadata": {},
     "output_type": "execute_result"
    }
   ],
   "source": [
    "workclass = list(df.workclass.unique())\n",
    "workclass"
   ]
  },
  {
   "cell_type": "code",
   "execution_count": 19,
   "id": "cd17b020-c761-4708-9bde-538f3d9d3145",
   "metadata": {},
   "outputs": [],
   "source": [
    "sex = list(df.sex.unique())"
   ]
  },
  {
   "cell_type": "code",
   "execution_count": 20,
   "id": "79f7d97c-6ab0-43ae-8127-9ee28f99f081",
   "metadata": {},
   "outputs": [
    {
     "data": {
      "text/plain": [
       "[' Male', ' Female']"
      ]
     },
     "execution_count": 20,
     "metadata": {},
     "output_type": "execute_result"
    }
   ],
   "source": [
    "sex"
   ]
  },
  {
   "cell_type": "code",
   "execution_count": 21,
   "id": "ca01ac51-5edb-4979-92e0-8d3b695806aa",
   "metadata": {},
   "outputs": [
    {
     "data": {
      "text/plain": [
       "True"
      ]
     },
     "execution_count": 21,
     "metadata": {},
     "output_type": "execute_result"
    }
   ],
   "source": [
    "male_workclass = []\n",
    "female_workclass = []\n",
    "\n",
    "for i in workclass:\n",
    "    male_workclass.append(df[(df.workclass == i) & (df.sex == ' Male')].shape[0])\n",
    "    female_workclass.append(df[(df.workclass == i) & (df.sex == ' Female')].shape[0])\n",
    "\n",
    "len(male_workclass) == len(female_workclass)"
   ]
  },
  {
   "cell_type": "code",
   "execution_count": 25,
   "id": "7d8589f1-82c7-4728-9726-591d28739a03",
   "metadata": {},
   "outputs": [
    {
     "data": {
      "text/plain": [
       "Text(0, 0.5, ' Self-emp-not-inc')"
      ]
     },
     "execution_count": 25,
     "metadata": {},
     "output_type": "execute_result"
    },
    {
     "data": {
      "image/png": "[encoded data removed]",
      "text/plain": [
       "<Figure size 432x288 with 1 Axes>"
      ]
     },
     "metadata": {
      "needs_background": "light"
     },
     "output_type": "display_data"
    }
   ],
   "source": [
    "plt.bar(sex, [male_workclass[0], female_workclass[0]])\n",
    "plt.xlabel('sex')\n",
    "plt.ylabel(workclass[0])"
   ]
  },
  {
   "cell_type": "code",
   "execution_count": 33,
   "id": "f25100a2-d44e-4c13-a8cb-62725ad7dd55",
   "metadata": {},
   "outputs": [],
   "source": [
    "df.workclass.replace(np.nan, 'Unknown', inplace=True)"
   ]
  },
  {
   "cell_type": "code",
   "execution_count": 34,
   "id": "2669f74f-c0db-47f7-84eb-39aad0bd561e",
   "metadata": {},
   "outputs": [
    {
     "data": {
      "text/plain": [
       " Private             22696\n",
       " Self-emp-not-inc     2541\n",
       " Local-gov            2093\n",
       "Unknown               1836\n",
       " State-gov            1297\n",
       " Self-emp-inc         1116\n",
       " Federal-gov           960\n",
       " Without-pay            14\n",
       " Never-worked            7\n",
       "Name: workclass, dtype: int64"
      ]
     },
     "execution_count": 34,
     "metadata": {},
     "output_type": "execute_result"
    }
   ],
   "source": [
    "df.workclass.value_counts()"
   ]
  },
  {
   "cell_type": "code",
   "execution_count": 38,
   "id": "4b3e9bcc-30bf-4079-8a43-780ebc1c7163",
   "metadata": {},
   "outputs": [
    {
     "data": {
      "image/png": "[encoded data removed]",
      "text/plain": [
       "<Figure size 432x288 with 9 Axes>"
      ]
     },
     "metadata": {
      "needs_background": "light"
     },
     "output_type": "display_data"
    }
   ],
   "source": [
    "counter = 0\n",
    "fig, ax = plt.subplots(3,3)\n",
    "\n",
    "for i in range(len(ax)):\n",
    "    for j in range(len(ax[i])):\n",
    "        ax[i,j].bar(sex, [male_workclass[counter], female_workclass[counter]])\n",
    "        ax[i,j].set(xlabel='sex', ylabel=workclass[counter])\n",
    "        counter += 1\n",
    "        \n",
    "plt.subplots_adjust(left=0.5,\n",
    "                    bottom=0.5, \n",
    "                    right=2, \n",
    "                    top=2, \n",
    "                    wspace=0.9, \n",
    "                    hspace=0.9)\n",
    "plt.show()"
   ]
  },
  {
   "cell_type": "code",
   "execution_count": 41,
   "id": "8b45bc87-fa24-4d27-b7ca-a78e16bd457d",
   "metadata": {},
   "outputs": [
    {
     "data": {
      "image/png": "[encoded data removed]",
      "text/plain": [
       "<Figure size 720x504 with 1 Axes>"
      ]
     },
     "metadata": {
      "needs_background": "light"
     },
     "output_type": "display_data"
    }
   ],
   "source": [
    "# we can show this complete nine bar charts into one single bar chart as below \n",
    "\n",
    "X = workclass\n",
    "y = male_workclass\n",
    "z = female_workclass\n",
    "\n",
    "X_axis = np.arange(len(X))\n",
    "\n",
    "plt.bar(X_axis - 0.2, y, 0.4, label='Male')\n",
    "plt.bar(X_axis + 0.2, z, 0.4, label='Female')\n",
    "\n",
    "plt.rcParams['figure.figsize'] = [20, 15]\n",
    "plt.xticks(X_axis, X)\n",
    "plt.xlabel('sex')\n",
    "plt.ylabel('headcount')\n",
    "plt.title('workclass and gender distribution')\n",
    "plt.legend()\n",
    "plt.show()"
   ]
  },
  {
   "cell_type": "markdown",
   "id": "bba8a78b-1f9a-4c56-91df-b2550e1bbd88",
   "metadata": {},
   "source": [
    "# Here we can see that highest number of population works in private sector but still the male to female ratio is higher in local-gov and state-gov whereas it is teh lowest in self-emp individuals where male population dominates with a huge margin"
   ]
  },
  {
   "cell_type": "code",
   "execution_count": 42,
   "id": "fc0bb78e-fd9c-4d75-ab27-947540e2c2ff",
   "metadata": {},
   "outputs": [
    {
     "data": {
      "text/plain": [
       "array([' Exec-managerial', ' Handlers-cleaners', ' Prof-specialty',\n",
       "       ' Other-service', ' Adm-clerical', ' Sales', ' Craft-repair',\n",
       "       ' Transport-moving', ' Farming-fishing', ' Machine-op-inspct',\n",
       "       ' Tech-support', nan, ' Protective-serv', ' Armed-Forces',\n",
       "       ' Priv-house-serv'], dtype=object)"
      ]
     },
     "execution_count": 42,
     "metadata": {},
     "output_type": "execute_result"
    }
   ],
   "source": [
    "df.occupation.unique()"
   ]
  },
  {
   "cell_type": "code",
   "execution_count": 55,
   "id": "048beebe-65e1-40aa-bac7-46c9631899f0",
   "metadata": {},
   "outputs": [
    {
     "data": {
      "text/plain": [
       "[' Exec-managerial',\n",
       " ' Handlers-cleaners',\n",
       " ' Prof-specialty',\n",
       " ' Other-service',\n",
       " ' Adm-clerical',\n",
       " ' Sales',\n",
       " ' Craft-repair',\n",
       " ' Transport-moving',\n",
       " ' Farming-fishing',\n",
       " ' Machine-op-inspct',\n",
       " ' Tech-support',\n",
       " 'Unknown',\n",
       " ' Protective-serv',\n",
       " ' Armed-Forces',\n",
       " ' Priv-house-serv']"
      ]
     },
     "execution_count": 55,
     "metadata": {},
     "output_type": "execute_result"
    }
   ],
   "source": [
    "df.occupation.replace(np.nan, 'Unknown', inplace=True)\n",
    "occupation = list(df.occupation.unique())\n",
    "occupation"
   ]
  },
  {
   "cell_type": "code",
   "execution_count": 45,
   "id": "7226bec6-507e-4b31-a5d4-b0f656914c7f",
   "metadata": {},
   "outputs": [
    {
     "data": {
      "text/plain": [
       "True"
      ]
     },
     "execution_count": 45,
     "metadata": {},
     "output_type": "execute_result"
    }
   ],
   "source": [
    "male_occupation = []\n",
    "female_occupation = []\n",
    "\n",
    "for i in occupation:\n",
    "    male_occupation.append(df[(df.occupation == i) & (df.sex == ' Male')].shape[0])\n",
    "    female_occupation.append(df[(df.occupation == i) & (df.sex == ' Female')].shape[0])\n",
    "    \n",
    "len(male_occupation) == len(female_occupation)"
   ]
  },
  {
   "cell_type": "code",
   "execution_count": 49,
   "id": "405d374c-062b-4704-8666-853259e28df2",
   "metadata": {},
   "outputs": [
    {
     "data": {
      "image/png": "[encoded data removed]",
      "text/plain": [
       "<Figure size 2160x1800 with 1 Axes>"
      ]
     },
     "metadata": {
      "needs_background": "light"
     },
     "output_type": "display_data"
    }
   ],
   "source": [
    "X = occupation\n",
    "y = male_occupation\n",
    "z = female_occupation\n",
    "\n",
    "X_axis = np.arange(len(X))\n",
    "\n",
    "plt.bar(X_axis - 0.2, y, 0.4, label='Male')\n",
    "plt.bar(X_axis + 0.2, z, 0.4, label='Female')\n",
    "\n",
    "plt.rcParams['figure.figsize'] = [30, 25]\n",
    "plt.xticks(X_axis, X)\n",
    "plt.xlabel('sex')\n",
    "plt.ylabel('headcount')\n",
    "plt.title('occupation and gender distribution')\n",
    "plt.legend()\n",
    "plt.show()"
   ]
  },
  {
   "cell_type": "markdown",
   "id": "b342124e-f75f-4685-93e1-8cc9c09a1caa",
   "metadata": {},
   "source": [
    "# lets figure out the income distribution among various nationalities"
   ]
  },
  {
   "cell_type": "code",
   "execution_count": 56,
   "id": "08f6f143-8bcf-48bb-8c3b-ac1c86565984",
   "metadata": {},
   "outputs": [
    {
     "data": {
      "text/plain": [
       "array([' White', ' Black', ' Asian-Pac-Islander', ' Amer-Indian-Eskimo',\n",
       "       ' Other'], dtype=object)"
      ]
     },
     "execution_count": 56,
     "metadata": {},
     "output_type": "execute_result"
    }
   ],
   "source": [
    "df.race.unique()"
   ]
  },
  {
   "cell_type": "code",
   "execution_count": 51,
   "id": "9455bd4f-fcd4-4464-9b75-b27846b52364",
   "metadata": {},
   "outputs": [
    {
     "data": {
      "text/plain": [
       "True"
      ]
     },
     "execution_count": 51,
     "metadata": {},
     "output_type": "execute_result"
    }
   ],
   "source": [
    "census_income = list(df.census_income.unique())\n",
    "lte_50K = []\n",
    "gt_50K = []\n",
    "\n",
    "for i in df.race.unique():\n",
    "    lte_50K.append(df[(df.race == i) & (df.census_income == ' <=50K')].shape[0])\n",
    "    gt_50K.append(df[(df.race == i) & (df.census_income == ' >50K')].shape[0])\n",
    "    \n",
    "len(lte_50K) == len(gt_50K)"
   ]
  },
  {
   "cell_type": "code",
   "execution_count": 54,
   "id": "52f348cf-d1f0-4b4a-b116-683e4962684f",
   "metadata": {},
   "outputs": [
    {
     "data": {
      "image/png": "[encoded data removed]",
      "text/plain": [
       "<Figure size 1080x720 with 1 Axes>"
      ]
     },
     "metadata": {
      "needs_background": "light"
     },
     "output_type": "display_data"
    }
   ],
   "source": [
    "X = list(df.race.unique())\n",
    "y = lte_50K\n",
    "z = gt_50K\n",
    "\n",
    "X_axis = np.arange(len(X))\n",
    "\n",
    "plt.bar(X_axis - 0.2, y, 0.4, label='lte_50K')\n",
    "plt.bar(X_axis + 0.2, z, 0.4, label='gt_50K')\n",
    "\n",
    "plt.rcParams['figure.figsize'] = [15, 10]\n",
    "plt.xticks(X_axis, X)\n",
    "plt.xlabel('income range')\n",
    "plt.ylabel('headcount')\n",
    "plt.title('income and race distribution')\n",
    "plt.legend()\n",
    "plt.show()"
   ]
  },
  {
   "cell_type": "markdown",
   "id": "c35de2ff-8edd-468d-978c-a8ff6e2f7bb0",
   "metadata": {},
   "source": [
    "# lets check divorce rates in highly educated vs lower education"
   ]
  },
  {
   "cell_type": "markdown",
   "id": "c0410760-548d-4712-af39-f5ac2fedd7b3",
   "metadata": {},
   "source": [
    "lets divide our data into two groups the ones with divorced and the ones still married. separated would be taken as divorced"
   ]
  },
  {
   "cell_type": "code",
   "execution_count": 57,
   "id": "d6acfc85-446a-4ed8-911d-1b0a10149daa",
   "metadata": {},
   "outputs": [
    {
     "data": {
      "text/plain": [
       "array([' Married-civ-spouse', ' Divorced', ' Married-spouse-absent',\n",
       "       ' Never-married', ' Separated', ' Married-AF-spouse', ' Widowed'],\n",
       "      dtype=object)"
      ]
     },
     "execution_count": 57,
     "metadata": {},
     "output_type": "execute_result"
    }
   ],
   "source": [
    "df.marital_status.unique()"
   ]
  },
  {
   "cell_type": "markdown",
   "id": "8633d3e7-dc83-460f-8d61-e38ca035f923",
   "metadata": {},
   "source": [
    "Now we can remove those who are never married and widowed as these do not qualify to be any kind of divorce"
   ]
  },
  {
   "cell_type": "code",
   "execution_count": 59,
   "id": "febfe88a-b1ce-44b1-abf2-52676899e78c",
   "metadata": {},
   "outputs": [
    {
     "data": {
      "text/plain": [
       "(20885, 15)"
      ]
     },
     "execution_count": 59,
     "metadata": {},
     "output_type": "execute_result"
    }
   ],
   "source": [
    "df_new = df[(df.marital_status != ' Never-married') & (df.marital_status != ' Widowed')]\n",
    "df_new.shape"
   ]
  },
  {
   "cell_type": "markdown",
   "id": "fe6e6bf5-6823-49f7-99f4-bb0b0e527d87",
   "metadata": {},
   "source": [
    "Now lets take everyone below Bachelors to be considered as have low education and those with Bachelors and above as educated"
   ]
  },
  {
   "cell_type": "code",
   "execution_count": 60,
   "id": "7cd0f4ed-80bd-4947-9740-3f09dd4c63c6",
   "metadata": {},
   "outputs": [
    {
     "data": {
      "text/plain": [
       "True"
      ]
     },
     "execution_count": 60,
     "metadata": {},
     "output_type": "execute_result"
    }
   ],
   "source": [
    "high_edu = []\n",
    "low_edu = []\n",
    "\n",
    "for i in df_new.marital_status.unique():\n",
    "    high_edu.append(df[(df.marital_status == i) & (df.education_num > 12)].shape[0])\n",
    "    low_edu.append(df[(df.marital_status == i) & (df.education_num < 13)].shape[0])\n",
    "    \n",
    "len(high_edu) == len(low_edu)"
   ]
  },
  {
   "cell_type": "code",
   "execution_count": 65,
   "id": "542c90ee-ea75-4c99-aef8-67c0c3045525",
   "metadata": {},
   "outputs": [
    {
     "data": {
      "image/png": "[encoded data removed]",
      "text/plain": [
       "<Figure size 1080x720 with 1 Axes>"
      ]
     },
     "metadata": {
      "needs_background": "light"
     },
     "output_type": "display_data"
    }
   ],
   "source": [
    "X = list(df_new.marital_status.unique())\n",
    "y = low_edu\n",
    "z = high_edu\n",
    "\n",
    "X_axis = np.arange(len(X))\n",
    "\n",
    "plt.bar(X_axis - 0.2, y, 0.4, label='low_education')\n",
    "plt.bar(X_axis + 0.2, z, 0.4, label='high_education')\n",
    "\n",
    "plt.rcParams['figure.figsize'] = [15, 10]\n",
    "plt.xticks(X_axis, X)\n",
    "plt.xlabel('education level')\n",
    "plt.ylabel('headcount')\n",
    "plt.title('marital status and education distribution')\n",
    "plt.legend()\n",
    "plt.show()"
   ]
  },
  {
   "cell_type": "markdown",
   "id": "baeeb971-88ce-41c0-848a-7cfbb2e8e14a",
   "metadata": {},
   "source": [
    "This graph is somewhat ok but we need to know just divorced/separted and married so we can futher ourselves as below"
   ]
  },
  {
   "cell_type": "code",
   "execution_count": 74,
   "id": "bcf834e7-7b04-4686-a74d-2c36e5b2d82f",
   "metadata": {},
   "outputs": [
    {
     "data": {
      "text/plain": [
       "True"
      ]
     },
     "execution_count": 74,
     "metadata": {},
     "output_type": "execute_result"
    }
   ],
   "source": [
    "div_sep = []\n",
    "married = []\n",
    "\n",
    "for i in df_edu.index:\n",
    "    div_sep.append(df_new[(df_new.education == i) & ((df_new.marital_status == ' Divorced') | (df_new.marital_status == ' Separated'))].shape[0])\n",
    "    married.append(df_new[(df_new.education == i) & ((df_new.marital_status != ' Divorced') & (df_new.marital_status != ' Separated'))].shape[0])\n",
    "    \n",
    "len(div_sep) == len(married)"
   ]
  },
  {
   "cell_type": "code",
   "execution_count": 73,
   "id": "2c0150ad-8d1e-4bf7-90b1-ebcfb028dfcf",
   "metadata": {},
   "outputs": [
    {
     "data": {
      "text/plain": [
       "Index([' Preschool', ' 1st-4th', ' 5th-6th', ' 7th-8th', ' 9th', ' 10th',\n",
       "       ' 11th', ' 12th', ' HS-grad', ' Some-college', ' Assoc-voc',\n",
       "       ' Assoc-acdm', ' Bachelors', ' Masters', ' Prof-school', ' Doctorate'],\n",
       "      dtype='object', name='education')"
      ]
     },
     "execution_count": 73,
     "metadata": {},
     "output_type": "execute_result"
    }
   ],
   "source": []
  },
  {
   "cell_type": "code",
   "execution_count": 75,
   "id": "e7872a32-e823-4c90-92f3-0ec6c6859ed1",
   "metadata": {},
   "outputs": [
    {
     "data": {
      "image/png": "[encoded data removed]",
      "text/plain": [
       "<Figure size 1080x720 with 1 Axes>"
      ]
     },
     "metadata": {
      "needs_background": "light"
     },
     "output_type": "display_data"
    }
   ],
   "source": [
    "X = list(df_edu.index)\n",
    "y = div_sep\n",
    "z = married\n",
    "\n",
    "X_axis = np.arange(len(X))\n",
    "\n",
    "plt.bar(X_axis - 0.2, y, 0.4, label='divorced/separated')\n",
    "plt.bar(X_axis + 0.2, z, 0.4, label='married')\n",
    "\n",
    "plt.rcParams['figure.figsize'] = [15, 10]\n",
    "plt.xticks(X_axis, X)\n",
    "plt.xlabel('education level')\n",
    "plt.ylabel('headcount')\n",
    "plt.title('marital status and education distribution')\n",
    "plt.legend()\n",
    "plt.show()"
   ]
  },
  {
   "cell_type": "markdown",
   "id": "ba1185b2-94f7-4d92-9408-d2e0cb5acab3",
   "metadata": {},
   "source": [
    "## To be continued with a lot more questions on this dataset as there are a lot of insights that can be retrieved from this dataset itself such as\n",
    "1. racial distribution vs occupation\n",
    "2. workclass vs native_country\n",
    "3. capital_gain vs sex\n",
    "4. capital_loss vs sex\n",
    "5. and the one column we totally neglected age distribution vs a lot of features \n",
    "and so on ....."
   ]
  },
  {
   "cell_type": "code",
   "execution_count": null,
   "id": "666390d8-601f-4dd4-9194-32f627a55cfa",
   "metadata": {},
   "outputs": [],
   "source": []
  }
 ],
 "metadata": {
  "kernelspec": {
   "display_name": "Python 3",
   "language": "python",
   "name": "python3"
  },
  "language_info": {
   "codemirror_mode": {
    "name": "ipython",
    "version": 3
   },
   "file_extension": ".py",
   "mimetype": "text/x-python",
   "name": "python",
   "nbconvert_exporter": "python",
   "pygments_lexer": "ipython3",
   "version": "3.8.8"
  }
 },
 "nbformat": 4,
 "nbformat_minor": 5
}
